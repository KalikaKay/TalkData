{
 "cells": [
  {
   "cell_type": "markdown",
   "metadata": {},
   "source": [
    "This is the first set of models that were run using the group as the target available. It did not prove fruitful; I received scores as low as 0.08%. \n",
    "\n",
    "The notebook, for the time being, remains accessible for the curious. In case anyone wonders - why I didn't classify by group, well; here's their answer. "
   ]
  },
  {
   "cell_type": "code",
   "execution_count": 3,
   "metadata": {},
   "outputs": [],
   "source": [
    "import pandas as pd\n",
    "import matplotlib.pyplot as plt\n",
    "import seaborn as sns\n",
    "import plotly.express as px\n",
    "from sklearn.model_selection import train_test_split"
   ]
  },
  {
   "cell_type": "code",
   "execution_count": 4,
   "metadata": {},
   "outputs": [],
   "source": [
    "#A summary of missing variables represented as a percentage of the total missing content. \n",
    "def null_summary(df, print_log=False, sort='ascending'):\n",
    "    s = df.isnull().sum()*100/df.isnull().count()\n",
    "    \n",
    "    if sort.lower() == 'ascending':\n",
    "        s = s.sort_values(ascending=True)\n",
    "    elif sort.lower() == 'descending':\n",
    "        s = s.sort_values(ascending=False)  \n",
    "    if print_log: \n",
    "        print('Percentage of null values: \\n', s)\n",
    "  \n",
    "    return pd.Series(s)"
   ]
  },
  {
   "cell_type": "code",
   "execution_count": 5,
   "metadata": {},
   "outputs": [
    {
     "data": {
      "text/html": [
       "<div>\n",
       "<style scoped>\n",
       "    .dataframe tbody tr th:only-of-type {\n",
       "        vertical-align: middle;\n",
       "    }\n",
       "\n",
       "    .dataframe tbody tr th {\n",
       "        vertical-align: top;\n",
       "    }\n",
       "\n",
       "    .dataframe thead th {\n",
       "        text-align: right;\n",
       "    }\n",
       "</style>\n",
       "<table border=\"1\" class=\"dataframe\">\n",
       "  <thead>\n",
       "    <tr style=\"text-align: right;\">\n",
       "      <th></th>\n",
       "      <th>timestamp</th>\n",
       "      <th>longitude</th>\n",
       "      <th>latitude</th>\n",
       "      <th>coordinates</th>\n",
       "      <th>is_active</th>\n",
       "      <th>phone_brand</th>\n",
       "      <th>device_model</th>\n",
       "      <th>category</th>\n",
       "      <th>gender</th>\n",
       "      <th>age</th>\n",
       "      <th>group</th>\n",
       "    </tr>\n",
       "  </thead>\n",
       "  <tbody>\n",
       "    <tr>\n",
       "      <th>0</th>\n",
       "      <td>2016-05-01 14:23:37</td>\n",
       "      <td>0.0</td>\n",
       "      <td>0.0</td>\n",
       "      <td>(0.0, 0.0)</td>\n",
       "      <td>1.0</td>\n",
       "      <td>小米</td>\n",
       "      <td>MI 2</td>\n",
       "      <td>1 free</td>\n",
       "      <td>M</td>\n",
       "      <td>35</td>\n",
       "      <td>M32-38</td>\n",
       "    </tr>\n",
       "    <tr>\n",
       "      <th>1</th>\n",
       "      <td>2016-05-01 14:23:37</td>\n",
       "      <td>0.0</td>\n",
       "      <td>0.0</td>\n",
       "      <td>(0.0, 0.0)</td>\n",
       "      <td>1.0</td>\n",
       "      <td>小米</td>\n",
       "      <td>MI 2</td>\n",
       "      <td>Cozy 1</td>\n",
       "      <td>M</td>\n",
       "      <td>35</td>\n",
       "      <td>M32-38</td>\n",
       "    </tr>\n",
       "    <tr>\n",
       "      <th>2</th>\n",
       "      <td>2016-05-01 14:23:37</td>\n",
       "      <td>0.0</td>\n",
       "      <td>0.0</td>\n",
       "      <td>(0.0, 0.0)</td>\n",
       "      <td>1.0</td>\n",
       "      <td>小米</td>\n",
       "      <td>MI 2</td>\n",
       "      <td>Industry tag</td>\n",
       "      <td>M</td>\n",
       "      <td>35</td>\n",
       "      <td>M32-38</td>\n",
       "    </tr>\n",
       "    <tr>\n",
       "      <th>3</th>\n",
       "      <td>2016-05-01 14:23:37</td>\n",
       "      <td>0.0</td>\n",
       "      <td>0.0</td>\n",
       "      <td>(0.0, 0.0)</td>\n",
       "      <td>1.0</td>\n",
       "      <td>小米</td>\n",
       "      <td>MI 2</td>\n",
       "      <td>Property Industry 2.0</td>\n",
       "      <td>M</td>\n",
       "      <td>35</td>\n",
       "      <td>M32-38</td>\n",
       "    </tr>\n",
       "    <tr>\n",
       "      <th>4</th>\n",
       "      <td>2016-05-01 14:23:37</td>\n",
       "      <td>0.0</td>\n",
       "      <td>0.0</td>\n",
       "      <td>(0.0, 0.0)</td>\n",
       "      <td>1.0</td>\n",
       "      <td>小米</td>\n",
       "      <td>MI 2</td>\n",
       "      <td>music</td>\n",
       "      <td>M</td>\n",
       "      <td>35</td>\n",
       "      <td>M32-38</td>\n",
       "    </tr>\n",
       "  </tbody>\n",
       "</table>\n",
       "</div>"
      ],
      "text/plain": [
       "             timestamp  longitude  latitude coordinates  is_active  \\\n",
       "0  2016-05-01 14:23:37        0.0       0.0  (0.0, 0.0)        1.0   \n",
       "1  2016-05-01 14:23:37        0.0       0.0  (0.0, 0.0)        1.0   \n",
       "2  2016-05-01 14:23:37        0.0       0.0  (0.0, 0.0)        1.0   \n",
       "3  2016-05-01 14:23:37        0.0       0.0  (0.0, 0.0)        1.0   \n",
       "4  2016-05-01 14:23:37        0.0       0.0  (0.0, 0.0)        1.0   \n",
       "\n",
       "  phone_brand device_model               category gender  age   group  \n",
       "0          小米         MI 2                 1 free      M   35  M32-38  \n",
       "1          小米         MI 2                 Cozy 1      M   35  M32-38  \n",
       "2          小米         MI 2           Industry tag      M   35  M32-38  \n",
       "3          小米         MI 2  Property Industry 2.0      M   35  M32-38  \n",
       "4          小米         MI 2                  music      M   35  M32-38  "
      ]
     },
     "execution_count": 5,
     "metadata": {},
     "output_type": "execute_result"
    }
   ],
   "source": [
    "#get the data\n",
    "talkdata = pd.read_csv('./data/talkdata.csv')\n",
    "#Quick look at the head.\n",
    "talkdata.head()"
   ]
  },
  {
   "cell_type": "code",
   "execution_count": 6,
   "metadata": {},
   "outputs": [
    {
     "data": {
      "text/plain": [
       "(7832282, 11)"
      ]
     },
     "execution_count": 6,
     "metadata": {},
     "output_type": "execute_result"
    }
   ],
   "source": [
    "#The size and shape of this dataset before categorical changing.\n",
    "talkdata.shape"
   ]
  },
  {
   "cell_type": "code",
   "execution_count": 7,
   "metadata": {},
   "outputs": [
    {
     "data": {
      "text/plain": [
       "timestamp       0.0\n",
       "longitude       0.0\n",
       "latitude        0.0\n",
       "coordinates     0.0\n",
       "is_active       0.0\n",
       "phone_brand     0.0\n",
       "device_model    0.0\n",
       "category        0.0\n",
       "gender          0.0\n",
       "age             0.0\n",
       "group           0.0\n",
       "dtype: float64"
      ]
     },
     "execution_count": 7,
     "metadata": {},
     "output_type": "execute_result"
    }
   ],
   "source": [
    "null_summary(talkdata)"
   ]
  },
  {
   "cell_type": "markdown",
   "metadata": {},
   "source": [
    "This will be a classification project where in I predict the gender and age based on several categorical variables. The following feature engineering needs to be accomplished after importing the table and prior to modeling.\n",
    "\n",
    "1. Derive the following columns from timestamp:\n",
    "\n",
    "> Month\n",
    "\n",
    "> DayofWeek\n",
    "\n",
    "> Hour\n",
    "\n",
    "2. Remove timestamp, tTime, epoch, longitude, latitude, phone_brand, gender, age\n",
    "3. Set the target variable, y to the group column. Remove the target variable from the feature set. \n",
    "4. Perform a train_test split on the data. Ensure that the stratisfy parameter is set to group.\n",
    "5. OneHotEncode all categorical variables.  "
   ]
  },
  {
   "cell_type": "code",
   "execution_count": 6,
   "metadata": {},
   "outputs": [
    {
     "data": {
      "text/plain": [
       "dtype('<M8[ns]')"
      ]
     },
     "execution_count": 6,
     "metadata": {},
     "output_type": "execute_result"
    }
   ],
   "source": [
    "#Set the timestamp column to a datetime datatype.\n",
    "talkdata['timestamp'] = pd.to_datetime(talkdata.timestamp)\n",
    "talkdata.timestamp.dtype"
   ]
  },
  {
   "cell_type": "code",
   "execution_count": 7,
   "metadata": {},
   "outputs": [
    {
     "data": {
      "text/html": [
       "<div>\n",
       "<style scoped>\n",
       "    .dataframe tbody tr th:only-of-type {\n",
       "        vertical-align: middle;\n",
       "    }\n",
       "\n",
       "    .dataframe tbody tr th {\n",
       "        vertical-align: top;\n",
       "    }\n",
       "\n",
       "    .dataframe thead th {\n",
       "        text-align: right;\n",
       "    }\n",
       "</style>\n",
       "<table border=\"1\" class=\"dataframe\">\n",
       "  <thead>\n",
       "    <tr style=\"text-align: right;\">\n",
       "      <th></th>\n",
       "      <th>timestamp</th>\n",
       "      <th>longitude</th>\n",
       "      <th>latitude</th>\n",
       "      <th>coordinates</th>\n",
       "      <th>is_active</th>\n",
       "      <th>phone_brand</th>\n",
       "      <th>device_model</th>\n",
       "      <th>category</th>\n",
       "      <th>gender</th>\n",
       "      <th>age</th>\n",
       "      <th>group</th>\n",
       "      <th>hour</th>\n",
       "      <th>weekday</th>\n",
       "      <th>week</th>\n",
       "      <th>device_type</th>\n",
       "    </tr>\n",
       "  </thead>\n",
       "  <tbody>\n",
       "    <tr>\n",
       "      <th>count</th>\n",
       "      <td>7832282</td>\n",
       "      <td>7.832282e+06</td>\n",
       "      <td>7.832282e+06</td>\n",
       "      <td>7832282</td>\n",
       "      <td>7.832282e+06</td>\n",
       "      <td>7832282</td>\n",
       "      <td>7832282</td>\n",
       "      <td>7832282</td>\n",
       "      <td>7832282</td>\n",
       "      <td>7.832282e+06</td>\n",
       "      <td>7832282</td>\n",
       "      <td>7.832282e+06</td>\n",
       "      <td>7.832282e+06</td>\n",
       "      <td>7.832282e+06</td>\n",
       "      <td>7832282</td>\n",
       "    </tr>\n",
       "    <tr>\n",
       "      <th>unique</th>\n",
       "      <td>NaN</td>\n",
       "      <td>NaN</td>\n",
       "      <td>NaN</td>\n",
       "      <td>32921</td>\n",
       "      <td>NaN</td>\n",
       "      <td>89</td>\n",
       "      <td>926</td>\n",
       "      <td>441</td>\n",
       "      <td>2</td>\n",
       "      <td>NaN</td>\n",
       "      <td>12</td>\n",
       "      <td>NaN</td>\n",
       "      <td>NaN</td>\n",
       "      <td>NaN</td>\n",
       "      <td>942</td>\n",
       "    </tr>\n",
       "    <tr>\n",
       "      <th>top</th>\n",
       "      <td>NaN</td>\n",
       "      <td>NaN</td>\n",
       "      <td>NaN</td>\n",
       "      <td>(0.0, 0.0)</td>\n",
       "      <td>NaN</td>\n",
       "      <td>华为</td>\n",
       "      <td>荣耀6</td>\n",
       "      <td>Industry tag</td>\n",
       "      <td>M</td>\n",
       "      <td>NaN</td>\n",
       "      <td>M39+</td>\n",
       "      <td>NaN</td>\n",
       "      <td>NaN</td>\n",
       "      <td>NaN</td>\n",
       "      <td>华为 荣耀6</td>\n",
       "    </tr>\n",
       "    <tr>\n",
       "      <th>freq</th>\n",
       "      <td>NaN</td>\n",
       "      <td>NaN</td>\n",
       "      <td>NaN</td>\n",
       "      <td>2295988</td>\n",
       "      <td>NaN</td>\n",
       "      <td>2422726</td>\n",
       "      <td>354430</td>\n",
       "      <td>907153</td>\n",
       "      <td>5566437</td>\n",
       "      <td>NaN</td>\n",
       "      <td>1360719</td>\n",
       "      <td>NaN</td>\n",
       "      <td>NaN</td>\n",
       "      <td>NaN</td>\n",
       "      <td>354430</td>\n",
       "    </tr>\n",
       "    <tr>\n",
       "      <th>mean</th>\n",
       "      <td>2016-05-04 13:58:30.355242240</td>\n",
       "      <td>7.837463e+01</td>\n",
       "      <td>2.182485e+01</td>\n",
       "      <td>NaN</td>\n",
       "      <td>3.404700e-01</td>\n",
       "      <td>NaN</td>\n",
       "      <td>NaN</td>\n",
       "      <td>NaN</td>\n",
       "      <td>NaN</td>\n",
       "      <td>3.350478e+01</td>\n",
       "      <td>NaN</td>\n",
       "      <td>1.306016e+01</td>\n",
       "      <td>2.963128e+00</td>\n",
       "      <td>1.786502e+01</td>\n",
       "      <td>NaN</td>\n",
       "    </tr>\n",
       "    <tr>\n",
       "      <th>min</th>\n",
       "      <td>2016-04-30 23:52:24</td>\n",
       "      <td>-1.800000e+02</td>\n",
       "      <td>-3.380000e+01</td>\n",
       "      <td>NaN</td>\n",
       "      <td>0.000000e+00</td>\n",
       "      <td>NaN</td>\n",
       "      <td>NaN</td>\n",
       "      <td>NaN</td>\n",
       "      <td>NaN</td>\n",
       "      <td>1.100000e+01</td>\n",
       "      <td>NaN</td>\n",
       "      <td>0.000000e+00</td>\n",
       "      <td>0.000000e+00</td>\n",
       "      <td>1.700000e+01</td>\n",
       "      <td>NaN</td>\n",
       "    </tr>\n",
       "    <tr>\n",
       "      <th>25%</th>\n",
       "      <td>2016-05-02 20:22:46.500000</td>\n",
       "      <td>0.000000e+00</td>\n",
       "      <td>0.000000e+00</td>\n",
       "      <td>NaN</td>\n",
       "      <td>0.000000e+00</td>\n",
       "      <td>NaN</td>\n",
       "      <td>NaN</td>\n",
       "      <td>NaN</td>\n",
       "      <td>NaN</td>\n",
       "      <td>2.700000e+01</td>\n",
       "      <td>NaN</td>\n",
       "      <td>8.000000e+00</td>\n",
       "      <td>1.000000e+00</td>\n",
       "      <td>1.800000e+01</td>\n",
       "      <td>NaN</td>\n",
       "    </tr>\n",
       "    <tr>\n",
       "      <th>50%</th>\n",
       "      <td>2016-05-04 14:05:48</td>\n",
       "      <td>1.127500e+02</td>\n",
       "      <td>2.857000e+01</td>\n",
       "      <td>NaN</td>\n",
       "      <td>0.000000e+00</td>\n",
       "      <td>NaN</td>\n",
       "      <td>NaN</td>\n",
       "      <td>NaN</td>\n",
       "      <td>NaN</td>\n",
       "      <td>3.100000e+01</td>\n",
       "      <td>NaN</td>\n",
       "      <td>1.300000e+01</td>\n",
       "      <td>3.000000e+00</td>\n",
       "      <td>1.800000e+01</td>\n",
       "      <td>NaN</td>\n",
       "    </tr>\n",
       "    <tr>\n",
       "      <th>75%</th>\n",
       "      <td>2016-05-06 08:22:22</td>\n",
       "      <td>1.171700e+02</td>\n",
       "      <td>3.401000e+01</td>\n",
       "      <td>NaN</td>\n",
       "      <td>1.000000e+00</td>\n",
       "      <td>NaN</td>\n",
       "      <td>NaN</td>\n",
       "      <td>NaN</td>\n",
       "      <td>NaN</td>\n",
       "      <td>3.900000e+01</td>\n",
       "      <td>NaN</td>\n",
       "      <td>1.900000e+01</td>\n",
       "      <td>5.000000e+00</td>\n",
       "      <td>1.800000e+01</td>\n",
       "      <td>NaN</td>\n",
       "    </tr>\n",
       "    <tr>\n",
       "      <th>max</th>\n",
       "      <td>2016-05-08 00:00:08</td>\n",
       "      <td>1.511800e+02</td>\n",
       "      <td>5.364000e+01</td>\n",
       "      <td>NaN</td>\n",
       "      <td>1.000000e+00</td>\n",
       "      <td>NaN</td>\n",
       "      <td>NaN</td>\n",
       "      <td>NaN</td>\n",
       "      <td>NaN</td>\n",
       "      <td>8.900000e+01</td>\n",
       "      <td>NaN</td>\n",
       "      <td>2.300000e+01</td>\n",
       "      <td>6.000000e+00</td>\n",
       "      <td>1.800000e+01</td>\n",
       "      <td>NaN</td>\n",
       "    </tr>\n",
       "    <tr>\n",
       "      <th>std</th>\n",
       "      <td>NaN</td>\n",
       "      <td>5.381746e+01</td>\n",
       "      <td>1.565152e+01</td>\n",
       "      <td>NaN</td>\n",
       "      <td>4.738673e-01</td>\n",
       "      <td>NaN</td>\n",
       "      <td>NaN</td>\n",
       "      <td>NaN</td>\n",
       "      <td>NaN</td>\n",
       "      <td>9.748107e+00</td>\n",
       "      <td>NaN</td>\n",
       "      <td>6.355358e+00</td>\n",
       "      <td>1.974990e+00</td>\n",
       "      <td>3.417027e-01</td>\n",
       "      <td>NaN</td>\n",
       "    </tr>\n",
       "  </tbody>\n",
       "</table>\n",
       "</div>"
      ],
      "text/plain": [
       "                            timestamp     longitude      latitude coordinates  \\\n",
       "count                         7832282  7.832282e+06  7.832282e+06     7832282   \n",
       "unique                            NaN           NaN           NaN       32921   \n",
       "top                               NaN           NaN           NaN  (0.0, 0.0)   \n",
       "freq                              NaN           NaN           NaN     2295988   \n",
       "mean    2016-05-04 13:58:30.355242240  7.837463e+01  2.182485e+01         NaN   \n",
       "min               2016-04-30 23:52:24 -1.800000e+02 -3.380000e+01         NaN   \n",
       "25%        2016-05-02 20:22:46.500000  0.000000e+00  0.000000e+00         NaN   \n",
       "50%               2016-05-04 14:05:48  1.127500e+02  2.857000e+01         NaN   \n",
       "75%               2016-05-06 08:22:22  1.171700e+02  3.401000e+01         NaN   \n",
       "max               2016-05-08 00:00:08  1.511800e+02  5.364000e+01         NaN   \n",
       "std                               NaN  5.381746e+01  1.565152e+01         NaN   \n",
       "\n",
       "           is_active phone_brand device_model      category   gender  \\\n",
       "count   7.832282e+06     7832282      7832282       7832282  7832282   \n",
       "unique           NaN          89          926           441        2   \n",
       "top              NaN          华为          荣耀6  Industry tag        M   \n",
       "freq             NaN     2422726       354430        907153  5566437   \n",
       "mean    3.404700e-01         NaN          NaN           NaN      NaN   \n",
       "min     0.000000e+00         NaN          NaN           NaN      NaN   \n",
       "25%     0.000000e+00         NaN          NaN           NaN      NaN   \n",
       "50%     0.000000e+00         NaN          NaN           NaN      NaN   \n",
       "75%     1.000000e+00         NaN          NaN           NaN      NaN   \n",
       "max     1.000000e+00         NaN          NaN           NaN      NaN   \n",
       "std     4.738673e-01         NaN          NaN           NaN      NaN   \n",
       "\n",
       "                 age    group          hour       weekday          week  \\\n",
       "count   7.832282e+06  7832282  7.832282e+06  7.832282e+06  7.832282e+06   \n",
       "unique           NaN       12           NaN           NaN           NaN   \n",
       "top              NaN     M39+           NaN           NaN           NaN   \n",
       "freq             NaN  1360719           NaN           NaN           NaN   \n",
       "mean    3.350478e+01      NaN  1.306016e+01  2.963128e+00  1.786502e+01   \n",
       "min     1.100000e+01      NaN  0.000000e+00  0.000000e+00  1.700000e+01   \n",
       "25%     2.700000e+01      NaN  8.000000e+00  1.000000e+00  1.800000e+01   \n",
       "50%     3.100000e+01      NaN  1.300000e+01  3.000000e+00  1.800000e+01   \n",
       "75%     3.900000e+01      NaN  1.900000e+01  5.000000e+00  1.800000e+01   \n",
       "max     8.900000e+01      NaN  2.300000e+01  6.000000e+00  1.800000e+01   \n",
       "std     9.748107e+00      NaN  6.355358e+00  1.974990e+00  3.417027e-01   \n",
       "\n",
       "       device_type  \n",
       "count      7832282  \n",
       "unique         942  \n",
       "top         华为 荣耀6  \n",
       "freq        354430  \n",
       "mean           NaN  \n",
       "min            NaN  \n",
       "25%            NaN  \n",
       "50%            NaN  \n",
       "75%            NaN  \n",
       "max            NaN  \n",
       "std            NaN  "
      ]
     },
     "execution_count": 7,
     "metadata": {},
     "output_type": "execute_result"
    }
   ],
   "source": [
    "#create the categorical time columns\n",
    "talkdata['hour'] = talkdata.timestamp.dt.hour\n",
    "talkdata['weekday'] = talkdata.timestamp.dt.dayofweek\n",
    "talkdata['week'] = talkdata.timestamp.dt.isocalendar().week\n",
    "\n",
    "#concatenate the phone brand to the device model. \n",
    "talkdata['device_type'] = talkdata.phone_brand + \" \"+ talkdata.device_model\n",
    "talkdata.describe(include='all', datetime_is_numeric=True)"
   ]
  },
  {
   "cell_type": "code",
   "execution_count": 10,
   "metadata": {},
   "outputs": [
    {
     "data": {
      "text/plain": [
       "(7832282, 7)"
      ]
     },
     "execution_count": 10,
     "metadata": {},
     "output_type": "execute_result"
    }
   ],
   "source": [
    "y = talkdata.group\n",
    "#drop the non-categorical columnsand the columns that are no longer in use.\n",
    "#X = talkdata.drop(columns=['timestamp', 'longitude', 'latitude', 'phone_brand', 'device_model', 'age', 'gender', 'group'])\n",
    "X = talkdata.drop(columns=['age', 'gender', 'group', 'coordinates'])\n",
    "X.shape"
   ]
  },
  {
   "cell_type": "code",
   "execution_count": 11,
   "metadata": {},
   "outputs": [
    {
     "data": {
      "text/plain": [
       "Index(['timestamp', 'longitude', 'latitude', 'is_active', 'phone_brand',\n",
       "       'device_model', 'category'],\n",
       "      dtype='object')"
      ]
     },
     "execution_count": 11,
     "metadata": {},
     "output_type": "execute_result"
    }
   ],
   "source": [
    "X.columns"
   ]
  },
  {
   "cell_type": "markdown",
   "metadata": {},
   "source": [
    "# Downsample the data \n",
    "\n",
    "In this portion of the process I'm going to downsample the data to a range of 250k. I will use these 250k records to determine if the data is configured correctly for constructing a model that will have at least 68% accuracy. If the model cannot be constructed within these guidelines, more wranging and processing may need to be done in order to get a working model. \n",
    "\n",
    "I will use a train-test split with the stratisfy parameter set for this portion of the data. I will check the balance on the pair."
   ]
  },
  {
   "cell_type": "code",
   "execution_count": 12,
   "metadata": {},
   "outputs": [
    {
     "data": {
      "text/plain": [
       "(783229, 7)"
      ]
     },
     "execution_count": 12,
     "metadata": {},
     "output_type": "execute_result"
    }
   ],
   "source": [
    "X_train, X_model, y_train, y_model = train_test_split(X, y, test_size=0.1, random_state=42, stratify=y)\n",
    "X_model.shape"
   ]
  },
  {
   "cell_type": "code",
   "execution_count": 13,
   "metadata": {},
   "outputs": [
    {
     "data": {
      "text/plain": [
       "M39+      1224647\n",
       "M32-38    1220489\n",
       "M29-31     815500\n",
       "M23-26     802553\n",
       "M27-28     516055\n",
       "F33-42     512257\n",
       "F43+       437134\n",
       "M22-       430549\n",
       "F29-32     331361\n",
       "F24-26     263928\n",
       "F23-       255876\n",
       "F27-28     238704\n",
       "Name: group, dtype: int64"
      ]
     },
     "execution_count": 13,
     "metadata": {},
     "output_type": "execute_result"
    }
   ],
   "source": [
    "y_train.value_counts()"
   ]
  },
  {
   "cell_type": "code",
   "execution_count": 14,
   "metadata": {},
   "outputs": [
    {
     "data": {
      "text/plain": [
       "M39+      136072\n",
       "M32-38    135610\n",
       "M29-31     90611\n",
       "M23-26     89173\n",
       "M27-28     57339\n",
       "F33-42     56917\n",
       "F43+       48571\n",
       "M22-       47839\n",
       "F29-32     36818\n",
       "F24-26     29325\n",
       "F23-       28431\n",
       "F27-28     26523\n",
       "Name: group, dtype: int64"
      ]
     },
     "execution_count": 14,
     "metadata": {},
     "output_type": "execute_result"
    }
   ],
   "source": [
    "y_model.value_counts()"
   ]
  },
  {
   "cell_type": "code",
   "execution_count": 16,
   "metadata": {},
   "outputs": [],
   "source": [
    "#Export the training data for later use.\n",
    "X_train.to_csv('./data/train_features.csv', index=False)\n",
    "y_train.to_csv('./data/train_target.csv', index=False)\n",
    "\n",
    "#Export the model data for later use. \n",
    "X_model.to_csv('./data/model_features.csv', index=False)\n",
    "y_model.to_csv('./data/model_target.csv', index=False)"
   ]
  },
  {
   "cell_type": "markdown",
   "metadata": {},
   "source": [
    "# Model Selection\n",
    "\n",
    "The data has been cleaned and prepared a bit more for model slection. The first cell is for reimporting the data in the rather frequent events that the PC locks up and I have to start from scratch. I can just start my selection process from this point - rather than rerun the entire notebook."
   ]
  },
  {
   "cell_type": "code",
   "execution_count": 17,
   "metadata": {},
   "outputs": [
    {
     "name": "stdout",
     "output_type": "stream",
     "text": [
      "Training Shapes: (783229, 7) (783229,)\n"
     ]
    }
   ],
   "source": [
    "#if necessary import the model data\n",
    "import numpy as np\n",
    "import pandas as pd\n",
    "import matplotlib.pyplot as plt\n",
    "import seaborn as sns\n",
    "import plotly.express as px\n",
    "\n",
    "#Modeling Imports - GridSearch\n",
    "from sklearn.pipeline import Pipeline\n",
    "from sklearn.preprocessing import OneHotEncoder\n",
    "from sklearn.decomposition import TruncatedSVD \n",
    "from sklearn.model_selection import GridSearchCV\n",
    "from sklearn.feature_selection import SelectKBest, chi2\n",
    "\n",
    "#Models\n",
    "from sklearn.dummy import DummyClassifier\n",
    "from sklearn.ensemble import RandomForestClassifier\n",
    "from sklearn.tree import DecisionTreeClassifier\n",
    "\n",
    "#validation\n",
    "from sklearn.model_selection import cross_val_score\n",
    "from sklearn.model_selection import train_test_split\n",
    "from sklearn.metrics import classification_report\n",
    "\n",
    "# #Get the data:\n",
    "X_model = pd.read_csv('./data/model_features.csv')\n",
    "y_model = pd.read_csv('./data/model_target.csv')\n",
    "#shape it up:\n",
    "y_model = y_model.values.ravel()\n",
    "print(\"Training Shapes:\", X_model.shape, y_model.shape)"
   ]
  },
  {
   "cell_type": "code",
   "execution_count": 18,
   "metadata": {},
   "outputs": [],
   "source": [
    "#Investigate the parameters for truncate_svd. I don't know about the number of iterations. \n",
    "enc = OneHotEncoder()\n",
    "X_enc = enc.fit_transform(X_model)\n",
    "tsvd = TruncatedSVD(n_components = 500) \n",
    "svd_search = tsvd.fit_transform(X_enc)"
   ]
  },
  {
   "cell_type": "code",
   "execution_count": 16,
   "metadata": {},
   "outputs": [
    {
     "data": {
      "image/png": "[encoded data removed]",
      "text/plain": [
       "<Figure size 432x288 with 1 Axes>"
      ]
     },
     "metadata": {
      "needs_background": "light"
     },
     "output_type": "display_data"
    }
   ],
   "source": [
    "#Explained variance ratio on truncatedSVD. \n",
    "plt.plot(np.cumsum(tsvd.explained_variance_ratio_))\n",
    "plt.show()"
   ]
  },
  {
   "cell_type": "code",
   "execution_count": 33,
   "metadata": {},
   "outputs": [
    {
     "name": "stdout",
     "output_type": "stream",
     "text": [
      "115.5\n"
     ]
    }
   ],
   "source": [
    "evr = np.cumsum(tsvd.explained_variance_ratio_)\n",
    "print(np.where((evr >= .70) & (evr <= .80))[0].mean())"
   ]
  },
  {
   "cell_type": "markdown",
   "metadata": {},
   "source": [
    "# Searching for Models"
   ]
  },
  {
   "cell_type": "code",
   "execution_count": 21,
   "metadata": {},
   "outputs": [
    {
     "name": "stdout",
     "output_type": "stream",
     "text": [
      "Training Shapes: (3132912, 7) (3132912,)\n",
      "Test Shapes:  (4699370, 7) (4699370,)\n"
     ]
    }
   ],
   "source": [
    "#Split for validation on 20% of the data. \n",
    "X_train, X_test, y_train, y_test = train_test_split(X, y, test_size=0.6, random_state=42, stratify=y)\n",
    "print(\"Training Shapes:\", X_train.shape, y_train.shape)\n",
    "print(\"Test Shapes: \",  X_test.shape, y_test.shape)"
   ]
  },
  {
   "cell_type": "markdown",
   "metadata": {},
   "source": [
    "# Decision Tree"
   ]
  },
  {
   "cell_type": "code",
   "execution_count": 22,
   "metadata": {},
   "outputs": [
    {
     "data": {
      "text/html": [
       "<div>\n",
       "<style scoped>\n",
       "    .dataframe tbody tr th:only-of-type {\n",
       "        vertical-align: middle;\n",
       "    }\n",
       "\n",
       "    .dataframe tbody tr th {\n",
       "        vertical-align: top;\n",
       "    }\n",
       "\n",
       "    .dataframe thead th {\n",
       "        text-align: right;\n",
       "    }\n",
       "</style>\n",
       "<table border=\"1\" class=\"dataframe\">\n",
       "  <thead>\n",
       "    <tr style=\"text-align: right;\">\n",
       "      <th></th>\n",
       "      <th>timestamp</th>\n",
       "      <th>longitude</th>\n",
       "      <th>latitude</th>\n",
       "      <th>is_active</th>\n",
       "      <th>phone_brand</th>\n",
       "      <th>device_model</th>\n",
       "      <th>category</th>\n",
       "    </tr>\n",
       "  </thead>\n",
       "  <tbody>\n",
       "    <tr>\n",
       "      <th>5013393</th>\n",
       "      <td>2016-05-03 13:51:35</td>\n",
       "      <td>0.00</td>\n",
       "      <td>0.00</td>\n",
       "      <td>0.0</td>\n",
       "      <td>华为</td>\n",
       "      <td>荣耀7</td>\n",
       "      <td>Low income</td>\n",
       "    </tr>\n",
       "    <tr>\n",
       "      <th>6701487</th>\n",
       "      <td>2016-05-07 22:49:55</td>\n",
       "      <td>120.74</td>\n",
       "      <td>27.97</td>\n",
       "      <td>0.0</td>\n",
       "      <td>vivo</td>\n",
       "      <td>Y33</td>\n",
       "      <td>Liquid medium</td>\n",
       "    </tr>\n",
       "    <tr>\n",
       "      <th>1354071</th>\n",
       "      <td>2016-05-02 15:50:23</td>\n",
       "      <td>1.00</td>\n",
       "      <td>1.00</td>\n",
       "      <td>1.0</td>\n",
       "      <td>华为</td>\n",
       "      <td>Mate 7</td>\n",
       "      <td>Custom label</td>\n",
       "    </tr>\n",
       "    <tr>\n",
       "      <th>158957</th>\n",
       "      <td>2016-05-02 16:21:41</td>\n",
       "      <td>117.09</td>\n",
       "      <td>37.88</td>\n",
       "      <td>0.0</td>\n",
       "      <td>华为</td>\n",
       "      <td>Ascend G700T</td>\n",
       "      <td>unknown</td>\n",
       "    </tr>\n",
       "    <tr>\n",
       "      <th>2796454</th>\n",
       "      <td>2016-05-01 06:18:25</td>\n",
       "      <td>98.52</td>\n",
       "      <td>39.73</td>\n",
       "      <td>0.0</td>\n",
       "      <td>三星</td>\n",
       "      <td>Galaxy A5</td>\n",
       "      <td>Industry tag</td>\n",
       "    </tr>\n",
       "  </tbody>\n",
       "</table>\n",
       "</div>"
      ],
      "text/plain": [
       "                   timestamp  longitude  latitude  is_active phone_brand  \\\n",
       "5013393  2016-05-03 13:51:35       0.00      0.00        0.0          华为   \n",
       "6701487  2016-05-07 22:49:55     120.74     27.97        0.0        vivo   \n",
       "1354071  2016-05-02 15:50:23       1.00      1.00        1.0          华为   \n",
       "158957   2016-05-02 16:21:41     117.09     37.88        0.0          华为   \n",
       "2796454  2016-05-01 06:18:25      98.52     39.73        0.0          三星   \n",
       "\n",
       "         device_model       category  \n",
       "5013393           荣耀7     Low income  \n",
       "6701487           Y33  Liquid medium  \n",
       "1354071        Mate 7   Custom label  \n",
       "158957   Ascend G700T        unknown  \n",
       "2796454     Galaxy A5   Industry tag  "
      ]
     },
     "execution_count": 22,
     "metadata": {},
     "output_type": "execute_result"
    }
   ],
   "source": [
    "X_train.head()"
   ]
  },
  {
   "cell_type": "code",
   "execution_count": 44,
   "metadata": {},
   "outputs": [],
   "source": [
    "dt = DecisionTreeClassifier(max_depth=100)\n",
    "skb = SelectKBest(k='all')\n",
    "enc =  OneHotEncoder(handle_unknown='ignore')\n",
    "pipeline = Pipeline([('enc', enc), \n",
    "                     ('skb', skb),\n",
    "                     ('dt', dt)])\n",
    "dt = pipeline.fit(X_train, y_train)"
   ]
  },
  {
   "cell_type": "code",
   "execution_count": 45,
   "metadata": {},
   "outputs": [],
   "source": [
    "pred = dt.predict(X_test)"
   ]
  },
  {
   "cell_type": "code",
   "execution_count": 46,
   "metadata": {},
   "outputs": [
    {
     "name": "stdout",
     "output_type": "stream",
     "text": [
      "              precision    recall  f1-score   support\n",
      "\n",
      "        F23-       0.88      0.38      0.54    170584\n",
      "      F24-26       0.92      0.38      0.54    175952\n",
      "      F27-28       0.92      0.31      0.46    159136\n",
      "      F29-32       0.88      0.39      0.54    220907\n",
      "      F33-42       0.92      0.35      0.51    341504\n",
      "        F43+       0.95      0.44      0.60    291423\n",
      "        M22-       0.84      0.40      0.54    287033\n",
      "      M23-26       0.55      0.47      0.51    535036\n",
      "      M27-28       0.88      0.39      0.54    344036\n",
      "      M29-31       0.69      0.47      0.56    543667\n",
      "      M32-38       0.36      0.64      0.46    813660\n",
      "        M39+       0.39      0.75      0.51    816432\n",
      "\n",
      "    accuracy                           0.51   4699370\n",
      "   macro avg       0.76      0.45      0.52   4699370\n",
      "weighted avg       0.65      0.51      0.52   4699370\n",
      "\n"
     ]
    }
   ],
   "source": [
    "#How well am I predicting people under 22 and people over 42? Oh. it doesn't matter. This isn't a regresion model. \n",
    "print(classification_report(y_test, pred))"
   ]
  },
  {
   "cell_type": "code",
   "execution_count": 48,
   "metadata": {},
   "outputs": [
    {
     "name": "stdout",
     "output_type": "stream",
     "text": [
      "Fitting 5 folds for each of 8 candidates, totalling 40 fits\n",
      "[CV 1/5] END ..............................dt__max_depth=100; total time=12.0min\n",
      "[CV 2/5] END ..............................dt__max_depth=100; total time=11.5min\n",
      "[CV 3/5] END ..............................dt__max_depth=100; total time=11.6min\n",
      "[CV 4/5] END ..............................dt__max_depth=100; total time=11.7min\n",
      "[CV 5/5] END ..............................dt__max_depth=100; total time=12.4min\n",
      "[CV 1/5] END ..............................dt__max_depth=150; total time=22.1min\n",
      "[CV 2/5] END ..............................dt__max_depth=150; total time=20.1min\n",
      "[CV 3/5] END ..............................dt__max_depth=150; total time=20.3min\n",
      "[CV 4/5] END ..............................dt__max_depth=150; total time=19.3min\n",
      "[CV 5/5] END ..............................dt__max_depth=150; total time=21.2min\n",
      "[CV 1/5] END ..............................dt__max_depth=200; total time=30.6min\n",
      "[CV 2/5] END ..............................dt__max_depth=200; total time=27.5min\n",
      "[CV 3/5] END ..............................dt__max_depth=200; total time=27.7min\n",
      "[CV 4/5] END ..............................dt__max_depth=200; total time=27.5min\n",
      "[CV 5/5] END ..............................dt__max_depth=200; total time=30.6min\n",
      "[CV 1/5] END ..............................dt__max_depth=250; total time=38.9min\n",
      "[CV 2/5] END ..............................dt__max_depth=250; total time=35.5min\n",
      "[CV 3/5] END ..............................dt__max_depth=250; total time=35.6min\n",
      "[CV 4/5] END ..............................dt__max_depth=250; total time=35.8min\n",
      "[CV 5/5] END ..............................dt__max_depth=250; total time=42.7min\n",
      "[CV 1/5] END ..............................dt__max_depth=300; total time=50.2min\n",
      "[CV 2/5] END ..............................dt__max_depth=300; total time=43.9min\n",
      "[CV 3/5] END ..............................dt__max_depth=300; total time=43.4min\n",
      "[CV 4/5] END ..............................dt__max_depth=300; total time=43.4min\n",
      "[CV 5/5] END ..............................dt__max_depth=300; total time=46.4min\n",
      "[CV 1/5] END ..............................dt__max_depth=350; total time=52.9min\n",
      "[CV 2/5] END ..............................dt__max_depth=350; total time=50.6min\n",
      "[CV 3/5] END ..............................dt__max_depth=350; total time=50.3min\n",
      "[CV 4/5] END ..............................dt__max_depth=350; total time=50.4min\n",
      "[CV 5/5] END ..............................dt__max_depth=350; total time=52.9min\n",
      "[CV 1/5] END ..............................dt__max_depth=400; total time=58.1min\n",
      "[CV 2/5] END ..............................dt__max_depth=400; total time=56.7min\n",
      "[CV 3/5] END ..............................dt__max_depth=400; total time=61.5min\n",
      "[CV 4/5] END ..............................dt__max_depth=400; total time=60.3min\n",
      "[CV 5/5] END ..............................dt__max_depth=400; total time=61.6min\n",
      "[CV 1/5] END ..............................dt__max_depth=450; total time=63.1min\n",
      "[CV 2/5] END ..............................dt__max_depth=450; total time=63.4min\n",
      "[CV 3/5] END ..............................dt__max_depth=450; total time=63.7min\n",
      "[CV 4/5] END ..............................dt__max_depth=450; total time=64.7min\n",
      "[CV 5/5] END ..............................dt__max_depth=450; total time=64.1min\n"
     ]
    },
    {
     "data": {
      "text/plain": [
       "GridSearchCV(cv=5,\n",
       "             estimator=Pipeline(steps=[('enc',\n",
       "                                        OneHotEncoder(handle_unknown='ignore')),\n",
       "                                       ('skb', SelectKBest(k='all')),\n",
       "                                       ('dt', DecisionTreeClassifier())]),\n",
       "             param_grid={'dt__max_depth': range(100, 500, 50)}, verbose=3)"
      ]
     },
     "execution_count": 48,
     "metadata": {},
     "output_type": "execute_result"
    }
   ],
   "source": [
    "pipeline = Pipeline([('enc', enc), \n",
    "                     ('skb', skb),\n",
    "                     ('dt', DecisionTreeClassifier())])\n",
    "\n",
    "dtPara = {\n",
    "    'dt__max_depth' : range(100, 500, 50)\n",
    "}\n",
    "dt_skb = GridSearchCV(pipeline, dtPara, cv=5, verbose=3)\n",
    "dt_skb.fit(X_train, y_train)"
   ]
  },
  {
   "cell_type": "code",
   "execution_count": 49,
   "metadata": {},
   "outputs": [
    {
     "data": {
      "text/plain": [
       "Pipeline(steps=[('enc', OneHotEncoder(handle_unknown='ignore')),\n",
       "                ('skb', SelectKBest(k='all')),\n",
       "                ('dt', DecisionTreeClassifier(max_depth=450))])"
      ]
     },
     "execution_count": 49,
     "metadata": {},
     "output_type": "execute_result"
    }
   ],
   "source": [
    "dt_skb.best_estimator_"
   ]
  },
  {
   "cell_type": "code",
   "execution_count": 50,
   "metadata": {},
   "outputs": [
    {
     "name": "stdout",
     "output_type": "stream",
     "text": [
      "              precision    recall  f1-score   support\n",
      "\n",
      "        F23-       0.98      0.82      0.89    170584\n",
      "      F24-26       0.98      0.80      0.88    175952\n",
      "      F27-28       0.98      0.81      0.89    159136\n",
      "      F29-32       0.96      0.79      0.87    220907\n",
      "      F33-42       0.91      0.79      0.84    341504\n",
      "        F43+       0.99      0.82      0.90    291423\n",
      "        M22-       0.93      0.82      0.87    287033\n",
      "      M23-26       0.84      0.85      0.85    535036\n",
      "      M27-28       0.96      0.83      0.89    344036\n",
      "      M29-31       0.95      0.83      0.89    543667\n",
      "      M32-38       0.74      0.89      0.81    813660\n",
      "        M39+       0.73      0.91      0.81    816432\n",
      "\n",
      "    accuracy                           0.85   4699370\n",
      "   macro avg       0.91      0.83      0.87   4699370\n",
      "weighted avg       0.87      0.85      0.85   4699370\n",
      "\n"
     ]
    }
   ],
   "source": [
    "pred = dt_skb.predict(X_test)\n",
    "#How well am I predicting people under 22 and people over 42? Oh. it doesn't matter. This isn't a regresion model. \n",
    "print(classification_report(y_test, pred))"
   ]
  },
  {
   "cell_type": "markdown",
   "metadata": {},
   "source": [
    "# Classification - Age Prediction"
   ]
  },
  {
   "cell_type": "markdown",
   "metadata": {},
   "source": [
    "# RandomForest Regressor\n",
    "I've got a good-looking, bad decision tree.\n",
    "\n",
    "How does he do in a forest?"
   ]
  },
  {
   "cell_type": "code",
   "execution_count": 58,
   "metadata": {},
   "outputs": [],
   "source": [
    "#if necessary import the model data\n",
    "import numpy as np\n",
    "import pandas as pd\n",
    "import matplotlib.pyplot as plt\n",
    "import seaborn as sns\n",
    "import plotly.express as px\n",
    "import datetime\n",
    "#Modeling Imports - GridSearch\n",
    "from sklearn.pipeline import Pipeline\n",
    "from sklearn.preprocessing import OneHotEncoder\n",
    "from sklearn.decomposition import TruncatedSVD \n",
    "from sklearn.feature_selection import SelectKBest, chi2, f_classif\n",
    "from sklearn.model_selection import GridSearchCV\n",
    "\n",
    "#Models\n",
    "from sklearn.dummy import DummyClassifier\n",
    "from sklearn.ensemble import RandomForestClassifier\n",
    "from sklearn.tree import DecisionTreeClassifier\n",
    "from imblearn.ensemble import BalancedRandomForestClassifier\n",
    "from sklearn.neighbors import KNeighborsClassifier\n",
    "from sklearn.svm import SVC\n",
    "from sklearn.ensemble import GradientBoostingClassifier\n",
    "from sklearn.linear_model import LogisticRegression\n",
    "\n",
    "#Unsupervised Models\n",
    "from sklearn.cluster import KMeans\n",
    "from sklearn.metrics import silhouette_score\n",
    "from sklearn.metrics.cluster import fowlkes_mallows_score\n",
    "\n",
    "#validation\n",
    "from sklearn.model_selection import cross_val_score\n",
    "from sklearn.model_selection import train_test_split\n",
    "from sklearn.metrics import classification_report\n",
    "from sklearn.metrics import roc_auc_score"
   ]
  },
  {
   "cell_type": "code",
   "execution_count": 115,
   "metadata": {},
   "outputs": [],
   "source": [
    "#max_depth\n",
    "md = [100,50]\n",
    "#n_estimators\n",
    "ne = [100, 50]  "
   ]
  },
  {
   "cell_type": "code",
   "execution_count": 118,
   "metadata": {
    "collapsed": true,
    "jupyter": {
     "outputs_hidden": true
    }
   },
   "outputs": [
    {
     "name": "stdout",
     "output_type": "stream",
     "text": [
      "Fitting 5 folds for each of 12 candidates, totalling 60 fits\n",
      "[CV] rf__max_depth=100, rf__n_estimators=100, skb__k=100 .............\n"
     ]
    },
    {
     "name": "stderr",
     "output_type": "stream",
     "text": [
      "[Parallel(n_jobs=1)]: Using backend SequentialBackend with 1 concurrent workers.\n"
     ]
    },
    {
     "name": "stdout",
     "output_type": "stream",
     "text": [
      "[CV]  rf__max_depth=100, rf__n_estimators=100, skb__k=100, score=0.133, total= 2.4min\n",
      "[CV] rf__max_depth=100, rf__n_estimators=100, skb__k=100 .............\n"
     ]
    },
    {
     "name": "stderr",
     "output_type": "stream",
     "text": [
      "[Parallel(n_jobs=1)]: Done   1 out of   1 | elapsed:  2.4min remaining:    0.0s\n"
     ]
    },
    {
     "name": "stdout",
     "output_type": "stream",
     "text": [
      "[CV]  rf__max_depth=100, rf__n_estimators=100, skb__k=100, score=0.132, total= 2.4min\n",
      "[CV] rf__max_depth=100, rf__n_estimators=100, skb__k=100 .............\n"
     ]
    },
    {
     "name": "stderr",
     "output_type": "stream",
     "text": [
      "[Parallel(n_jobs=1)]: Done   2 out of   2 | elapsed:  4.9min remaining:    0.0s\n"
     ]
    },
    {
     "name": "stdout",
     "output_type": "stream",
     "text": [
      "[CV]  rf__max_depth=100, rf__n_estimators=100, skb__k=100, score=0.133, total= 2.4min\n",
      "[CV] rf__max_depth=100, rf__n_estimators=100, skb__k=100 .............\n",
      "[CV]  rf__max_depth=100, rf__n_estimators=100, skb__k=100, score=0.131, total= 2.4min\n",
      "[CV] rf__max_depth=100, rf__n_estimators=100, skb__k=100 .............\n",
      "[CV]  rf__max_depth=100, rf__n_estimators=100, skb__k=100, score=0.137, total= 2.5min\n",
      "[CV] rf__max_depth=100, rf__n_estimators=100, skb__k=500 .............\n",
      "[CV]  rf__max_depth=100, rf__n_estimators=100, skb__k=500, score=0.236, total=20.6min\n",
      "[CV] rf__max_depth=100, rf__n_estimators=100, skb__k=500 .............\n",
      "[CV]  rf__max_depth=100, rf__n_estimators=100, skb__k=500, score=0.237, total=20.7min\n",
      "[CV] rf__max_depth=100, rf__n_estimators=100, skb__k=500 .............\n",
      "[CV]  rf__max_depth=100, rf__n_estimators=100, skb__k=500, score=0.236, total=20.8min\n",
      "[CV] rf__max_depth=100, rf__n_estimators=100, skb__k=500 .............\n",
      "[CV]  rf__max_depth=100, rf__n_estimators=100, skb__k=500, score=0.238, total=20.6min\n",
      "[CV] rf__max_depth=100, rf__n_estimators=100, skb__k=500 .............\n",
      "[CV]  rf__max_depth=100, rf__n_estimators=100, skb__k=500, score=0.240, total=20.5min\n",
      "[CV] rf__max_depth=100, rf__n_estimators=100, skb__k=600 .............\n",
      "[CV]  rf__max_depth=100, rf__n_estimators=100, skb__k=600, score=0.240, total=24.3min\n",
      "[CV] rf__max_depth=100, rf__n_estimators=100, skb__k=600 .............\n",
      "[CV]  rf__max_depth=100, rf__n_estimators=100, skb__k=600, score=0.239, total=24.4min\n",
      "[CV] rf__max_depth=100, rf__n_estimators=100, skb__k=600 .............\n",
      "[CV]  rf__max_depth=100, rf__n_estimators=100, skb__k=600, score=0.239, total=24.4min\n",
      "[CV] rf__max_depth=100, rf__n_estimators=100, skb__k=600 .............\n",
      "[CV]  rf__max_depth=100, rf__n_estimators=100, skb__k=600, score=0.241, total=23.9min\n",
      "[CV] rf__max_depth=100, rf__n_estimators=100, skb__k=600 .............\n",
      "[CV]  rf__max_depth=100, rf__n_estimators=100, skb__k=600, score=0.243, total=24.0min\n",
      "[CV] rf__max_depth=100, rf__n_estimators=50, skb__k=100 ..............\n",
      "[CV]  rf__max_depth=100, rf__n_estimators=50, skb__k=100, score=0.133, total= 1.3min\n",
      "[CV] rf__max_depth=100, rf__n_estimators=50, skb__k=100 ..............\n",
      "[CV]  rf__max_depth=100, rf__n_estimators=50, skb__k=100, score=0.132, total= 1.3min\n",
      "[CV] rf__max_depth=100, rf__n_estimators=50, skb__k=100 ..............\n",
      "[CV]  rf__max_depth=100, rf__n_estimators=50, skb__k=100, score=0.133, total= 1.3min\n",
      "[CV] rf__max_depth=100, rf__n_estimators=50, skb__k=100 ..............\n",
      "[CV]  rf__max_depth=100, rf__n_estimators=50, skb__k=100, score=0.131, total= 1.3min\n",
      "[CV] rf__max_depth=100, rf__n_estimators=50, skb__k=100 ..............\n",
      "[CV]  rf__max_depth=100, rf__n_estimators=50, skb__k=100, score=0.137, total= 1.3min\n",
      "[CV] rf__max_depth=100, rf__n_estimators=50, skb__k=500 ..............\n",
      "[CV]  rf__max_depth=100, rf__n_estimators=50, skb__k=500, score=0.236, total=10.4min\n",
      "[CV] rf__max_depth=100, rf__n_estimators=50, skb__k=500 ..............\n",
      "[CV]  rf__max_depth=100, rf__n_estimators=50, skb__k=500, score=0.236, total=10.5min\n",
      "[CV] rf__max_depth=100, rf__n_estimators=50, skb__k=500 ..............\n",
      "[CV]  rf__max_depth=100, rf__n_estimators=50, skb__k=500, score=0.236, total=10.5min\n",
      "[CV] rf__max_depth=100, rf__n_estimators=50, skb__k=500 ..............\n",
      "[CV]  rf__max_depth=100, rf__n_estimators=50, skb__k=500, score=0.238, total=10.4min\n",
      "[CV] rf__max_depth=100, rf__n_estimators=50, skb__k=500 ..............\n",
      "[CV]  rf__max_depth=100, rf__n_estimators=50, skb__k=500, score=0.240, total=10.4min\n",
      "[CV] rf__max_depth=100, rf__n_estimators=50, skb__k=600 ..............\n",
      "[CV]  rf__max_depth=100, rf__n_estimators=50, skb__k=600, score=0.240, total=12.3min\n",
      "[CV] rf__max_depth=100, rf__n_estimators=50, skb__k=600 ..............\n",
      "[CV]  rf__max_depth=100, rf__n_estimators=50, skb__k=600, score=0.240, total=12.4min\n",
      "[CV] rf__max_depth=100, rf__n_estimators=50, skb__k=600 ..............\n",
      "[CV]  rf__max_depth=100, rf__n_estimators=50, skb__k=600, score=0.239, total=12.3min\n",
      "[CV] rf__max_depth=100, rf__n_estimators=50, skb__k=600 ..............\n",
      "[CV]  rf__max_depth=100, rf__n_estimators=50, skb__k=600, score=0.241, total=12.0min\n",
      "[CV] rf__max_depth=100, rf__n_estimators=50, skb__k=600 ..............\n",
      "[CV]  rf__max_depth=100, rf__n_estimators=50, skb__k=600, score=0.243, total=12.1min\n",
      "[CV] rf__max_depth=50, rf__n_estimators=100, skb__k=100 ..............\n",
      "[CV]  rf__max_depth=50, rf__n_estimators=100, skb__k=100, score=0.128, total= 1.7min\n",
      "[CV] rf__max_depth=50, rf__n_estimators=100, skb__k=100 ..............\n",
      "[CV]  rf__max_depth=50, rf__n_estimators=100, skb__k=100, score=0.128, total= 1.7min\n",
      "[CV] rf__max_depth=50, rf__n_estimators=100, skb__k=100 ..............\n",
      "[CV]  rf__max_depth=50, rf__n_estimators=100, skb__k=100, score=0.129, total= 1.7min\n",
      "[CV] rf__max_depth=50, rf__n_estimators=100, skb__k=100 ..............\n",
      "[CV]  rf__max_depth=50, rf__n_estimators=100, skb__k=100, score=0.127, total= 1.7min\n",
      "[CV] rf__max_depth=50, rf__n_estimators=100, skb__k=100 ..............\n",
      "[CV]  rf__max_depth=50, rf__n_estimators=100, skb__k=100, score=0.132, total= 1.7min\n",
      "[CV] rf__max_depth=50, rf__n_estimators=100, skb__k=500 ..............\n",
      "[CV]  rf__max_depth=50, rf__n_estimators=100, skb__k=500, score=0.186, total=11.7min\n",
      "[CV] rf__max_depth=50, rf__n_estimators=100, skb__k=500 ..............\n",
      "[CV]  rf__max_depth=50, rf__n_estimators=100, skb__k=500, score=0.185, total=11.8min\n",
      "[CV] rf__max_depth=50, rf__n_estimators=100, skb__k=500 ..............\n",
      "[CV]  rf__max_depth=50, rf__n_estimators=100, skb__k=500, score=0.184, total=11.8min\n",
      "[CV] rf__max_depth=50, rf__n_estimators=100, skb__k=500 ..............\n",
      "[CV]  rf__max_depth=50, rf__n_estimators=100, skb__k=500, score=0.185, total=11.7min\n",
      "[CV] rf__max_depth=50, rf__n_estimators=100, skb__k=500 ..............\n",
      "[CV]  rf__max_depth=50, rf__n_estimators=100, skb__k=500, score=0.189, total=11.7min\n",
      "[CV] rf__max_depth=50, rf__n_estimators=100, skb__k=600 ..............\n",
      "[CV]  rf__max_depth=50, rf__n_estimators=100, skb__k=600, score=0.189, total=13.8min\n",
      "[CV] rf__max_depth=50, rf__n_estimators=100, skb__k=600 ..............\n",
      "[CV]  rf__max_depth=50, rf__n_estimators=100, skb__k=600, score=0.187, total=13.9min\n",
      "[CV] rf__max_depth=50, rf__n_estimators=100, skb__k=600 ..............\n",
      "[CV]  rf__max_depth=50, rf__n_estimators=100, skb__k=600, score=0.186, total=13.9min\n",
      "[CV] rf__max_depth=50, rf__n_estimators=100, skb__k=600 ..............\n",
      "[CV]  rf__max_depth=50, rf__n_estimators=100, skb__k=600, score=0.188, total=13.6min\n",
      "[CV] rf__max_depth=50, rf__n_estimators=100, skb__k=600 ..............\n",
      "[CV]  rf__max_depth=50, rf__n_estimators=100, skb__k=600, score=0.191, total=13.6min\n",
      "[CV] rf__max_depth=50, rf__n_estimators=50, skb__k=100 ...............\n",
      "[CV]  rf__max_depth=50, rf__n_estimators=50, skb__k=100, score=0.128, total=  56.2s\n",
      "[CV] rf__max_depth=50, rf__n_estimators=50, skb__k=100 ...............\n",
      "[CV]  rf__max_depth=50, rf__n_estimators=50, skb__k=100, score=0.128, total=  56.4s\n",
      "[CV] rf__max_depth=50, rf__n_estimators=50, skb__k=100 ...............\n",
      "[CV]  rf__max_depth=50, rf__n_estimators=50, skb__k=100, score=0.128, total=  56.4s\n",
      "[CV] rf__max_depth=50, rf__n_estimators=50, skb__k=100 ...............\n",
      "[CV]  rf__max_depth=50, rf__n_estimators=50, skb__k=100, score=0.127, total=  55.6s\n",
      "[CV] rf__max_depth=50, rf__n_estimators=50, skb__k=100 ...............\n",
      "[CV]  rf__max_depth=50, rf__n_estimators=50, skb__k=100, score=0.132, total= 1.0min\n",
      "[CV] rf__max_depth=50, rf__n_estimators=50, skb__k=500 ...............\n",
      "[CV]  rf__max_depth=50, rf__n_estimators=50, skb__k=500, score=0.187, total= 6.1min\n",
      "[CV] rf__max_depth=50, rf__n_estimators=50, skb__k=500 ...............\n",
      "[CV]  rf__max_depth=50, rf__n_estimators=50, skb__k=500, score=0.185, total= 6.3min\n",
      "[CV] rf__max_depth=50, rf__n_estimators=50, skb__k=500 ...............\n",
      "[CV]  rf__max_depth=50, rf__n_estimators=50, skb__k=500, score=0.184, total= 6.0min\n",
      "[CV] rf__max_depth=50, rf__n_estimators=50, skb__k=500 ...............\n",
      "[CV]  rf__max_depth=50, rf__n_estimators=50, skb__k=500, score=0.185, total= 6.0min\n",
      "[CV] rf__max_depth=50, rf__n_estimators=50, skb__k=500 ...............\n",
      "[CV]  rf__max_depth=50, rf__n_estimators=50, skb__k=500, score=0.189, total= 5.9min\n",
      "[CV] rf__max_depth=50, rf__n_estimators=50, skb__k=600 ...............\n",
      "[CV]  rf__max_depth=50, rf__n_estimators=50, skb__k=600, score=0.189, total= 7.0min\n",
      "[CV] rf__max_depth=50, rf__n_estimators=50, skb__k=600 ...............\n",
      "[CV]  rf__max_depth=50, rf__n_estimators=50, skb__k=600, score=0.187, total= 7.0min\n",
      "[CV] rf__max_depth=50, rf__n_estimators=50, skb__k=600 ...............\n",
      "[CV]  rf__max_depth=50, rf__n_estimators=50, skb__k=600, score=0.186, total= 7.0min\n",
      "[CV] rf__max_depth=50, rf__n_estimators=50, skb__k=600 ...............\n",
      "[CV]  rf__max_depth=50, rf__n_estimators=50, skb__k=600, score=0.188, total= 6.8min\n",
      "[CV] rf__max_depth=50, rf__n_estimators=50, skb__k=600 ...............\n",
      "[CV]  rf__max_depth=50, rf__n_estimators=50, skb__k=600, score=0.191, total= 6.9min\n"
     ]
    },
    {
     "name": "stderr",
     "output_type": "stream",
     "text": [
      "[Parallel(n_jobs=1)]: Done  60 out of  60 | elapsed: 562.2min finished\n"
     ]
    },
    {
     "data": {
      "text/plain": [
       "GridSearchCV(cv=5,\n",
       "             estimator=Pipeline(steps=[('enc',\n",
       "                                        OneHotEncoder(handle_unknown='ignore')),\n",
       "                                       ('skb', SelectKBest()),\n",
       "                                       ('rf', RandomForestRegressor())]),\n",
       "             param_grid={'rf__max_depth': [100, 50],\n",
       "                         'rf__n_estimators': [100, 50],\n",
       "                         'skb__k': [100, 500, 600]},\n",
       "             verbose=3)"
      ]
     },
     "execution_count": 118,
     "metadata": {},
     "output_type": "execute_result"
    }
   ],
   "source": [
    "#First run for model selection on 250k records. It takes less than a minute to fit on five estimators. \n",
    "from sklearn.ensemble import RandomForestRegressor\n",
    "\n",
    "pipeline = Pipeline([('enc', enc), \n",
    "                     ('skb', SelectKBest()),\n",
    "                     ('rf', RandomForestRegressor())])\n",
    "\n",
    "rfPara = {#'rfc__criterion': cn,\n",
    "           #'rfc__max_features': mf,\n",
    "           #'rfc__oob_score':[True, False],\n",
    "           'skb__k' : [100, 500, 600],\n",
    "           'rf__max_depth': md ,\n",
    "           'rf__n_estimators': ne\n",
    "          }\n",
    "rfg_skb = GridSearchCV(pipeline, rfPara, cv=5, verbose=3)\n",
    "rfg_skb.fit(age_train, agey_train)"
   ]
  },
  {
   "cell_type": "code",
   "execution_count": 119,
   "metadata": {},
   "outputs": [
    {
     "name": "stdout",
     "output_type": "stream",
     "text": [
      "best score: 0.24073858021869507. \n",
      " best estimator: Pipeline(steps=[('enc', OneHotEncoder(handle_unknown='ignore')),\n",
      "                ('skb', SelectKBest(k=600)),\n",
      "                ('rf', RandomForestRegressor(max_depth=100, n_estimators=50))])\n"
     ]
    }
   ],
   "source": [
    "print(f\"best score: {rfg_skb.best_score_}. \\n best estimator: {rfg_skb.best_estimator_}\") "
   ]
  },
  {
   "cell_type": "code",
   "execution_count": 120,
   "metadata": {},
   "outputs": [],
   "source": [
    "pred = rfg_skb.predict(age_test)"
   ]
  },
  {
   "cell_type": "code",
   "execution_count": 121,
   "metadata": {},
   "outputs": [
    {
     "data": {
      "image/png": "[encoded data removed]",
      "text/plain": [
       "<Figure size 432x288 with 1 Axes>"
      ]
     },
     "metadata": {
      "needs_background": "light"
     },
     "output_type": "display_data"
    }
   ],
   "source": [
    "errs = error_table(pred, agey_test)\n",
    "#Provides a visualization of the errors vs. predictions (residual plot)\n",
    "#Perfection!\n",
    "plt.plot(errs['actual'], errs['actual'], alpha=.1, color='#F9EDF5')\n",
    "sns.scatterplot(data=errs, x='prediction', y='actual', hue='err_size', size='err_size', alpha=0.5)\n",
    "plt.show()"
   ]
  },
  {
   "cell_type": "code",
   "execution_count": null,
   "metadata": {},
   "outputs": [],
   "source": []
  }
 ],
 "metadata": {
  "kernelspec": {
   "display_name": "Python 3",
   "language": "python",
   "name": "python3"
  },
  "language_info": {
   "codemirror_mode": {
    "name": "ipython",
    "version": 3
   },
   "file_extension": ".py",
   "mimetype": "text/x-python",
   "name": "python",
   "nbconvert_exporter": "python",
   "pygments_lexer": "ipython3",
   "version": "3.7.9"
  }
 },
 "nbformat": 4,
 "nbformat_minor": 4
}
