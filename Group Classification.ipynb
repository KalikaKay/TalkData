{
 "cells": [
  {
   "cell_type": "markdown",
   "metadata": {},
   "source": [
    "This is the first set of models that were run using the group as the target available. It did not prove fruitful; I received scores as low as 0.08%. \n",
    "\n",
    "The notebook, for the time being, remains accessible for the curious. In case anyone wonders - why I didn't classify by group, well; here's their answer. "
   ]
  },
  {
   "cell_type": "code",
   "execution_count": 1,
   "metadata": {},
   "outputs": [],
   "source": [
    "import pandas as pd\n",
    "import matplotlib.pyplot as plt\n",
    "import seaborn as sns\n",
    "import plotly.express as px\n",
    "from sklearn.model_selection import train_test_split"
   ]
  },
  {
   "cell_type": "code",
   "execution_count": 2,
   "metadata": {},
   "outputs": [],
   "source": [
    "#A summary of missing variables represented as a percentage of the total missing content. \n",
    "def null_summary(df, print_log=False, sort='ascending'):\n",
    "    s = df.isnull().sum()*100/df.isnull().count()\n",
    "    \n",
    "    if sort.lower() == 'ascending':\n",
    "        s = s.sort_values(ascending=True)\n",
    "    elif sort.lower() == 'descending':\n",
    "        s = s.sort_values(ascending=False)  \n",
    "    if print_log: \n",
    "        print('Percentage of null values: \\n', s)\n",
    "  \n",
    "    return pd.Series(s)"
   ]
  },
  {
   "cell_type": "code",
   "execution_count": 3,
   "metadata": {},
   "outputs": [
    {
     "data": {
      "text/html": [
       "<div>\n",
       "<style scoped>\n",
       "    .dataframe tbody tr th:only-of-type {\n",
       "        vertical-align: middle;\n",
       "    }\n",
       "\n",
       "    .dataframe tbody tr th {\n",
       "        vertical-align: top;\n",
       "    }\n",
       "\n",
       "    .dataframe thead th {\n",
       "        text-align: right;\n",
       "    }\n",
       "</style>\n",
       "<table border=\"1\" class=\"dataframe\">\n",
       "  <thead>\n",
       "    <tr style=\"text-align: right;\">\n",
       "      <th></th>\n",
       "      <th>timestamp</th>\n",
       "      <th>longitude</th>\n",
       "      <th>latitude</th>\n",
       "      <th>coordinates</th>\n",
       "      <th>is_active</th>\n",
       "      <th>phone_brand</th>\n",
       "      <th>device_model</th>\n",
       "      <th>category</th>\n",
       "      <th>gender</th>\n",
       "      <th>age</th>\n",
       "      <th>group</th>\n",
       "    </tr>\n",
       "  </thead>\n",
       "  <tbody>\n",
       "    <tr>\n",
       "      <th>0</th>\n",
       "      <td>2016-05-01 14:23:37</td>\n",
       "      <td>0.0</td>\n",
       "      <td>0.0</td>\n",
       "      <td>(0.0, 0.0)</td>\n",
       "      <td>1.0</td>\n",
       "      <td>小米</td>\n",
       "      <td>MI 2</td>\n",
       "      <td>1 free</td>\n",
       "      <td>M</td>\n",
       "      <td>35</td>\n",
       "      <td>M32-38</td>\n",
       "    </tr>\n",
       "    <tr>\n",
       "      <th>1</th>\n",
       "      <td>2016-05-01 14:23:37</td>\n",
       "      <td>0.0</td>\n",
       "      <td>0.0</td>\n",
       "      <td>(0.0, 0.0)</td>\n",
       "      <td>1.0</td>\n",
       "      <td>小米</td>\n",
       "      <td>MI 2</td>\n",
       "      <td>Cozy 1</td>\n",
       "      <td>M</td>\n",
       "      <td>35</td>\n",
       "      <td>M32-38</td>\n",
       "    </tr>\n",
       "    <tr>\n",
       "      <th>2</th>\n",
       "      <td>2016-05-01 14:23:37</td>\n",
       "      <td>0.0</td>\n",
       "      <td>0.0</td>\n",
       "      <td>(0.0, 0.0)</td>\n",
       "      <td>1.0</td>\n",
       "      <td>小米</td>\n",
       "      <td>MI 2</td>\n",
       "      <td>Industry tag</td>\n",
       "      <td>M</td>\n",
       "      <td>35</td>\n",
       "      <td>M32-38</td>\n",
       "    </tr>\n",
       "    <tr>\n",
       "      <th>3</th>\n",
       "      <td>2016-05-01 14:23:37</td>\n",
       "      <td>0.0</td>\n",
       "      <td>0.0</td>\n",
       "      <td>(0.0, 0.0)</td>\n",
       "      <td>1.0</td>\n",
       "      <td>小米</td>\n",
       "      <td>MI 2</td>\n",
       "      <td>Property Industry 2.0</td>\n",
       "      <td>M</td>\n",
       "      <td>35</td>\n",
       "      <td>M32-38</td>\n",
       "    </tr>\n",
       "    <tr>\n",
       "      <th>4</th>\n",
       "      <td>2016-05-01 14:23:37</td>\n",
       "      <td>0.0</td>\n",
       "      <td>0.0</td>\n",
       "      <td>(0.0, 0.0)</td>\n",
       "      <td>1.0</td>\n",
       "      <td>小米</td>\n",
       "      <td>MI 2</td>\n",
       "      <td>music</td>\n",
       "      <td>M</td>\n",
       "      <td>35</td>\n",
       "      <td>M32-38</td>\n",
       "    </tr>\n",
       "  </tbody>\n",
       "</table>\n",
       "</div>"
      ],
      "text/plain": [
       "             timestamp  longitude  latitude coordinates  is_active  \\\n",
       "0  2016-05-01 14:23:37        0.0       0.0  (0.0, 0.0)        1.0   \n",
       "1  2016-05-01 14:23:37        0.0       0.0  (0.0, 0.0)        1.0   \n",
       "2  2016-05-01 14:23:37        0.0       0.0  (0.0, 0.0)        1.0   \n",
       "3  2016-05-01 14:23:37        0.0       0.0  (0.0, 0.0)        1.0   \n",
       "4  2016-05-01 14:23:37        0.0       0.0  (0.0, 0.0)        1.0   \n",
       "\n",
       "  phone_brand device_model               category gender  age   group  \n",
       "0          小米         MI 2                 1 free      M   35  M32-38  \n",
       "1          小米         MI 2                 Cozy 1      M   35  M32-38  \n",
       "2          小米         MI 2           Industry tag      M   35  M32-38  \n",
       "3          小米         MI 2  Property Industry 2.0      M   35  M32-38  \n",
       "4          小米         MI 2                  music      M   35  M32-38  "
      ]
     },
     "execution_count": 3,
     "metadata": {},
     "output_type": "execute_result"
    }
   ],
   "source": [
    "#get the data\n",
    "talkdata = pd.read_csv('./data/talkdata.csv')\n",
    "#Quick look at the head.\n",
    "talkdata.head()"
   ]
  },
  {
   "cell_type": "code",
   "execution_count": 4,
   "metadata": {},
   "outputs": [
    {
     "data": {
      "text/plain": [
       "(7832282, 11)"
      ]
     },
     "execution_count": 4,
     "metadata": {},
     "output_type": "execute_result"
    }
   ],
   "source": [
    "#The size and shape of this dataset before categorical changing.\n",
    "talkdata.shape"
   ]
  },
  {
   "cell_type": "code",
   "execution_count": 5,
   "metadata": {},
   "outputs": [
    {
     "data": {
      "text/plain": [
       "timestamp       0.0\n",
       "longitude       0.0\n",
       "latitude        0.0\n",
       "coordinates     0.0\n",
       "is_active       0.0\n",
       "phone_brand     0.0\n",
       "device_model    0.0\n",
       "category        0.0\n",
       "gender          0.0\n",
       "age             0.0\n",
       "group           0.0\n",
       "dtype: float64"
      ]
     },
     "execution_count": 5,
     "metadata": {},
     "output_type": "execute_result"
    }
   ],
   "source": [
    "null_summary(talkdata)"
   ]
  },
  {
   "cell_type": "markdown",
   "metadata": {},
   "source": [
    "This will be a classification project where in I predict the gender and age based on several categorical variables. The following feature engineering needs to be accomplished after importing the table and prior to modeling.\n",
    "\n",
    "1. Derive the following columns from timestamp:\n",
    "\n",
    "> Month\n",
    "\n",
    "> DayofWeek\n",
    "\n",
    "> Hour\n",
    "\n",
    "2. Remove timestamp, tTime, epoch, longitude, latitude, phone_brand, gender, age\n",
    "3. Set the target variable, y to the group column. Remove the target variable from the feature set. \n",
    "4. Perform a train_test split on the data. Ensure that the stratisfy parameter is set to group.\n",
    "5. OneHotEncode all categorical variables.  "
   ]
  },
  {
   "cell_type": "code",
   "execution_count": 6,
   "metadata": {},
   "outputs": [
    {
     "data": {
      "text/plain": [
       "dtype('<M8[ns]')"
      ]
     },
     "execution_count": 6,
     "metadata": {},
     "output_type": "execute_result"
    }
   ],
   "source": [
    "#Set the timestamp column to a datetime datatype.\n",
    "talkdata['timestamp'] = pd.to_datetime(talkdata.timestamp)\n",
    "talkdata.timestamp.dtype"
   ]
  },
  {
   "cell_type": "code",
   "execution_count": 7,
   "metadata": {},
   "outputs": [
    {
     "data": {
      "text/html": [
       "<div>\n",
       "<style scoped>\n",
       "    .dataframe tbody tr th:only-of-type {\n",
       "        vertical-align: middle;\n",
       "    }\n",
       "\n",
       "    .dataframe tbody tr th {\n",
       "        vertical-align: top;\n",
       "    }\n",
       "\n",
       "    .dataframe thead th {\n",
       "        text-align: right;\n",
       "    }\n",
       "</style>\n",
       "<table border=\"1\" class=\"dataframe\">\n",
       "  <thead>\n",
       "    <tr style=\"text-align: right;\">\n",
       "      <th></th>\n",
       "      <th>timestamp</th>\n",
       "      <th>longitude</th>\n",
       "      <th>latitude</th>\n",
       "      <th>coordinates</th>\n",
       "      <th>is_active</th>\n",
       "      <th>phone_brand</th>\n",
       "      <th>device_model</th>\n",
       "      <th>category</th>\n",
       "      <th>gender</th>\n",
       "      <th>age</th>\n",
       "      <th>group</th>\n",
       "      <th>hour</th>\n",
       "      <th>weekday</th>\n",
       "      <th>week</th>\n",
       "      <th>device_type</th>\n",
       "    </tr>\n",
       "  </thead>\n",
       "  <tbody>\n",
       "    <tr>\n",
       "      <th>count</th>\n",
       "      <td>7832282</td>\n",
       "      <td>7.832282e+06</td>\n",
       "      <td>7.832282e+06</td>\n",
       "      <td>7832282</td>\n",
       "      <td>7.832282e+06</td>\n",
       "      <td>7832282</td>\n",
       "      <td>7832282</td>\n",
       "      <td>7832282</td>\n",
       "      <td>7832282</td>\n",
       "      <td>7.832282e+06</td>\n",
       "      <td>7832282</td>\n",
       "      <td>7.832282e+06</td>\n",
       "      <td>7.832282e+06</td>\n",
       "      <td>7.832282e+06</td>\n",
       "      <td>7832282</td>\n",
       "    </tr>\n",
       "    <tr>\n",
       "      <th>unique</th>\n",
       "      <td>NaN</td>\n",
       "      <td>NaN</td>\n",
       "      <td>NaN</td>\n",
       "      <td>32921</td>\n",
       "      <td>NaN</td>\n",
       "      <td>89</td>\n",
       "      <td>926</td>\n",
       "      <td>441</td>\n",
       "      <td>2</td>\n",
       "      <td>NaN</td>\n",
       "      <td>12</td>\n",
       "      <td>NaN</td>\n",
       "      <td>NaN</td>\n",
       "      <td>NaN</td>\n",
       "      <td>942</td>\n",
       "    </tr>\n",
       "    <tr>\n",
       "      <th>top</th>\n",
       "      <td>NaN</td>\n",
       "      <td>NaN</td>\n",
       "      <td>NaN</td>\n",
       "      <td>(0.0, 0.0)</td>\n",
       "      <td>NaN</td>\n",
       "      <td>华为</td>\n",
       "      <td>荣耀6</td>\n",
       "      <td>Industry tag</td>\n",
       "      <td>M</td>\n",
       "      <td>NaN</td>\n",
       "      <td>M39+</td>\n",
       "      <td>NaN</td>\n",
       "      <td>NaN</td>\n",
       "      <td>NaN</td>\n",
       "      <td>华为 荣耀6</td>\n",
       "    </tr>\n",
       "    <tr>\n",
       "      <th>freq</th>\n",
       "      <td>NaN</td>\n",
       "      <td>NaN</td>\n",
       "      <td>NaN</td>\n",
       "      <td>2295988</td>\n",
       "      <td>NaN</td>\n",
       "      <td>2422726</td>\n",
       "      <td>354430</td>\n",
       "      <td>907153</td>\n",
       "      <td>5566437</td>\n",
       "      <td>NaN</td>\n",
       "      <td>1360719</td>\n",
       "      <td>NaN</td>\n",
       "      <td>NaN</td>\n",
       "      <td>NaN</td>\n",
       "      <td>354430</td>\n",
       "    </tr>\n",
       "    <tr>\n",
       "      <th>mean</th>\n",
       "      <td>2016-05-04 13:58:30.355242240</td>\n",
       "      <td>7.837463e+01</td>\n",
       "      <td>2.182485e+01</td>\n",
       "      <td>NaN</td>\n",
       "      <td>3.404700e-01</td>\n",
       "      <td>NaN</td>\n",
       "      <td>NaN</td>\n",
       "      <td>NaN</td>\n",
       "      <td>NaN</td>\n",
       "      <td>3.350478e+01</td>\n",
       "      <td>NaN</td>\n",
       "      <td>1.306016e+01</td>\n",
       "      <td>2.963128e+00</td>\n",
       "      <td>1.786502e+01</td>\n",
       "      <td>NaN</td>\n",
       "    </tr>\n",
       "    <tr>\n",
       "      <th>min</th>\n",
       "      <td>2016-04-30 23:52:24</td>\n",
       "      <td>-1.800000e+02</td>\n",
       "      <td>-3.380000e+01</td>\n",
       "      <td>NaN</td>\n",
       "      <td>0.000000e+00</td>\n",
       "      <td>NaN</td>\n",
       "      <td>NaN</td>\n",
       "      <td>NaN</td>\n",
       "      <td>NaN</td>\n",
       "      <td>1.100000e+01</td>\n",
       "      <td>NaN</td>\n",
       "      <td>0.000000e+00</td>\n",
       "      <td>0.000000e+00</td>\n",
       "      <td>1.700000e+01</td>\n",
       "      <td>NaN</td>\n",
       "    </tr>\n",
       "    <tr>\n",
       "      <th>25%</th>\n",
       "      <td>2016-05-02 20:22:46.500000</td>\n",
       "      <td>0.000000e+00</td>\n",
       "      <td>0.000000e+00</td>\n",
       "      <td>NaN</td>\n",
       "      <td>0.000000e+00</td>\n",
       "      <td>NaN</td>\n",
       "      <td>NaN</td>\n",
       "      <td>NaN</td>\n",
       "      <td>NaN</td>\n",
       "      <td>2.700000e+01</td>\n",
       "      <td>NaN</td>\n",
       "      <td>8.000000e+00</td>\n",
       "      <td>1.000000e+00</td>\n",
       "      <td>1.800000e+01</td>\n",
       "      <td>NaN</td>\n",
       "    </tr>\n",
       "    <tr>\n",
       "      <th>50%</th>\n",
       "      <td>2016-05-04 14:05:48</td>\n",
       "      <td>1.127500e+02</td>\n",
       "      <td>2.857000e+01</td>\n",
       "      <td>NaN</td>\n",
       "      <td>0.000000e+00</td>\n",
       "      <td>NaN</td>\n",
       "      <td>NaN</td>\n",
       "      <td>NaN</td>\n",
       "      <td>NaN</td>\n",
       "      <td>3.100000e+01</td>\n",
       "      <td>NaN</td>\n",
       "      <td>1.300000e+01</td>\n",
       "      <td>3.000000e+00</td>\n",
       "      <td>1.800000e+01</td>\n",
       "      <td>NaN</td>\n",
       "    </tr>\n",
       "    <tr>\n",
       "      <th>75%</th>\n",
       "      <td>2016-05-06 08:22:22</td>\n",
       "      <td>1.171700e+02</td>\n",
       "      <td>3.401000e+01</td>\n",
       "      <td>NaN</td>\n",
       "      <td>1.000000e+00</td>\n",
       "      <td>NaN</td>\n",
       "      <td>NaN</td>\n",
       "      <td>NaN</td>\n",
       "      <td>NaN</td>\n",
       "      <td>3.900000e+01</td>\n",
       "      <td>NaN</td>\n",
       "      <td>1.900000e+01</td>\n",
       "      <td>5.000000e+00</td>\n",
       "      <td>1.800000e+01</td>\n",
       "      <td>NaN</td>\n",
       "    </tr>\n",
       "    <tr>\n",
       "      <th>max</th>\n",
       "      <td>2016-05-08 00:00:08</td>\n",
       "      <td>1.511800e+02</td>\n",
       "      <td>5.364000e+01</td>\n",
       "      <td>NaN</td>\n",
       "      <td>1.000000e+00</td>\n",
       "      <td>NaN</td>\n",
       "      <td>NaN</td>\n",
       "      <td>NaN</td>\n",
       "      <td>NaN</td>\n",
       "      <td>8.900000e+01</td>\n",
       "      <td>NaN</td>\n",
       "      <td>2.300000e+01</td>\n",
       "      <td>6.000000e+00</td>\n",
       "      <td>1.800000e+01</td>\n",
       "      <td>NaN</td>\n",
       "    </tr>\n",
       "    <tr>\n",
       "      <th>std</th>\n",
       "      <td>NaN</td>\n",
       "      <td>5.381746e+01</td>\n",
       "      <td>1.565152e+01</td>\n",
       "      <td>NaN</td>\n",
       "      <td>4.738673e-01</td>\n",
       "      <td>NaN</td>\n",
       "      <td>NaN</td>\n",
       "      <td>NaN</td>\n",
       "      <td>NaN</td>\n",
       "      <td>9.748107e+00</td>\n",
       "      <td>NaN</td>\n",
       "      <td>6.355358e+00</td>\n",
       "      <td>1.974990e+00</td>\n",
       "      <td>3.417027e-01</td>\n",
       "      <td>NaN</td>\n",
       "    </tr>\n",
       "  </tbody>\n",
       "</table>\n",
       "</div>"
      ],
      "text/plain": [
       "                            timestamp     longitude      latitude coordinates  \\\n",
       "count                         7832282  7.832282e+06  7.832282e+06     7832282   \n",
       "unique                            NaN           NaN           NaN       32921   \n",
       "top                               NaN           NaN           NaN  (0.0, 0.0)   \n",
       "freq                              NaN           NaN           NaN     2295988   \n",
       "mean    2016-05-04 13:58:30.355242240  7.837463e+01  2.182485e+01         NaN   \n",
       "min               2016-04-30 23:52:24 -1.800000e+02 -3.380000e+01         NaN   \n",
       "25%        2016-05-02 20:22:46.500000  0.000000e+00  0.000000e+00         NaN   \n",
       "50%               2016-05-04 14:05:48  1.127500e+02  2.857000e+01         NaN   \n",
       "75%               2016-05-06 08:22:22  1.171700e+02  3.401000e+01         NaN   \n",
       "max               2016-05-08 00:00:08  1.511800e+02  5.364000e+01         NaN   \n",
       "std                               NaN  5.381746e+01  1.565152e+01         NaN   \n",
       "\n",
       "           is_active phone_brand device_model      category   gender  \\\n",
       "count   7.832282e+06     7832282      7832282       7832282  7832282   \n",
       "unique           NaN          89          926           441        2   \n",
       "top              NaN          华为          荣耀6  Industry tag        M   \n",
       "freq             NaN     2422726       354430        907153  5566437   \n",
       "mean    3.404700e-01         NaN          NaN           NaN      NaN   \n",
       "min     0.000000e+00         NaN          NaN           NaN      NaN   \n",
       "25%     0.000000e+00         NaN          NaN           NaN      NaN   \n",
       "50%     0.000000e+00         NaN          NaN           NaN      NaN   \n",
       "75%     1.000000e+00         NaN          NaN           NaN      NaN   \n",
       "max     1.000000e+00         NaN          NaN           NaN      NaN   \n",
       "std     4.738673e-01         NaN          NaN           NaN      NaN   \n",
       "\n",
       "                 age    group          hour       weekday          week  \\\n",
       "count   7.832282e+06  7832282  7.832282e+06  7.832282e+06  7.832282e+06   \n",
       "unique           NaN       12           NaN           NaN           NaN   \n",
       "top              NaN     M39+           NaN           NaN           NaN   \n",
       "freq             NaN  1360719           NaN           NaN           NaN   \n",
       "mean    3.350478e+01      NaN  1.306016e+01  2.963128e+00  1.786502e+01   \n",
       "min     1.100000e+01      NaN  0.000000e+00  0.000000e+00  1.700000e+01   \n",
       "25%     2.700000e+01      NaN  8.000000e+00  1.000000e+00  1.800000e+01   \n",
       "50%     3.100000e+01      NaN  1.300000e+01  3.000000e+00  1.800000e+01   \n",
       "75%     3.900000e+01      NaN  1.900000e+01  5.000000e+00  1.800000e+01   \n",
       "max     8.900000e+01      NaN  2.300000e+01  6.000000e+00  1.800000e+01   \n",
       "std     9.748107e+00      NaN  6.355358e+00  1.974990e+00  3.417027e-01   \n",
       "\n",
       "       device_type  \n",
       "count      7832282  \n",
       "unique         942  \n",
       "top         华为 荣耀6  \n",
       "freq        354430  \n",
       "mean           NaN  \n",
       "min            NaN  \n",
       "25%            NaN  \n",
       "50%            NaN  \n",
       "75%            NaN  \n",
       "max            NaN  \n",
       "std            NaN  "
      ]
     },
     "execution_count": 7,
     "metadata": {},
     "output_type": "execute_result"
    }
   ],
   "source": [
    "#create the categorical time columns\n",
    "talkdata['hour'] = talkdata.timestamp.dt.hour\n",
    "talkdata['weekday'] = talkdata.timestamp.dt.dayofweek\n",
    "talkdata['week'] = talkdata.timestamp.dt.isocalendar().week\n",
    "\n",
    "#concatenate the phone brand to the device model. \n",
    "talkdata['device_type'] = talkdata.phone_brand + \" \"+ talkdata.device_model\n",
    "talkdata.describe(include='all', datetime_is_numeric=True)"
   ]
  },
  {
   "cell_type": "code",
   "execution_count": 8,
   "metadata": {},
   "outputs": [
    {
     "data": {
      "text/plain": [
       "(7832282, 7)"
      ]
     },
     "execution_count": 8,
     "metadata": {},
     "output_type": "execute_result"
    }
   ],
   "source": [
    "y = talkdata.group\n",
    "#drop the non-categorical columnsand the columns that are no longer in use.\n",
    "X = talkdata.drop(columns=['timestamp', 'longitude', 'latitude', 'phone_brand', 'device_model', 'age', 'gender', 'group'])\n",
    "X.shape"
   ]
  },
  {
   "cell_type": "code",
   "execution_count": 9,
   "metadata": {},
   "outputs": [
    {
     "data": {
      "text/plain": [
       "Index(['coordinates', 'is_active', 'category', 'hour', 'weekday', 'week',\n",
       "       'device_type'],\n",
       "      dtype='object')"
      ]
     },
     "execution_count": 9,
     "metadata": {},
     "output_type": "execute_result"
    }
   ],
   "source": [
    "X.columns"
   ]
  },
  {
   "cell_type": "markdown",
   "metadata": {},
   "source": [
    "# Downsample the data \n",
    "\n",
    "In this portion of the process I'm going to downsample the data to a range of 250k. I will use these 250k records to determine if the data is configured correctly for constructing a model that will have at least 68% accuracy. If the model cannot be constructed within these guidelines, more wranging and processing may need to be done in order to get a working model. \n",
    "\n",
    "I will use a train-test split with the stratisfy parameter set for this portion of the data. I will check the balance on the pair."
   ]
  },
  {
   "cell_type": "code",
   "execution_count": 10,
   "metadata": {},
   "outputs": [
    {
     "data": {
      "text/plain": [
       "(783229, 7)"
      ]
     },
     "execution_count": 10,
     "metadata": {},
     "output_type": "execute_result"
    }
   ],
   "source": [
    "X_train, X_model, y_train, y_model = train_test_split(X, y, test_size=0.1, random_state=42, stratify=y)\n",
    "X_model.shape"
   ]
  },
  {
   "cell_type": "code",
   "execution_count": 11,
   "metadata": {},
   "outputs": [
    {
     "data": {
      "text/plain": [
       "M39+      1224647\n",
       "M32-38    1220489\n",
       "M29-31     815500\n",
       "M23-26     802553\n",
       "M27-28     516055\n",
       "F33-42     512257\n",
       "F43+       437134\n",
       "M22-       430549\n",
       "F29-32     331361\n",
       "F24-26     263928\n",
       "F23-       255876\n",
       "F27-28     238704\n",
       "Name: group, dtype: int64"
      ]
     },
     "execution_count": 11,
     "metadata": {},
     "output_type": "execute_result"
    }
   ],
   "source": [
    "y_train.value_counts()"
   ]
  },
  {
   "cell_type": "code",
   "execution_count": 12,
   "metadata": {},
   "outputs": [
    {
     "data": {
      "text/plain": [
       "M39+      136072\n",
       "M32-38    135610\n",
       "M29-31     90611\n",
       "M23-26     89173\n",
       "M27-28     57339\n",
       "F33-42     56917\n",
       "F43+       48571\n",
       "M22-       47839\n",
       "F29-32     36818\n",
       "F24-26     29325\n",
       "F23-       28431\n",
       "F27-28     26523\n",
       "Name: group, dtype: int64"
      ]
     },
     "execution_count": 12,
     "metadata": {},
     "output_type": "execute_result"
    }
   ],
   "source": [
    "y_model.value_counts()"
   ]
  },
  {
   "cell_type": "code",
   "execution_count": 13,
   "metadata": {},
   "outputs": [],
   "source": [
    "#Export the training data for later use.\n",
    "X_train.to_csv('./data/train_features.csv', index=False)\n",
    "y_train.to_csv('./data/train_target.csv', index=False)\n",
    "\n",
    "#Export the model data for later use. \n",
    "X_model.to_csv('./data/model_features.csv', index=False)\n",
    "y_model.to_csv('./data/model_target.csv', index=False)"
   ]
  },
  {
   "cell_type": "markdown",
   "metadata": {},
   "source": [
    "# Model Selection\n",
    "\n",
    "The data has been cleaned and prepared a bit more for model slection. The first cell is for reimporting the data in the rather frequent events that the PC locks up and I have to start from scratch. I can just start my selection process from this point - rather than rerun the entire notebook."
   ]
  },
  {
   "cell_type": "code",
   "execution_count": 14,
   "metadata": {},
   "outputs": [
    {
     "name": "stdout",
     "output_type": "stream",
     "text": [
      "Training Shapes: (783229, 7) (783229,)\n"
     ]
    }
   ],
   "source": [
    "#if necessary import the model data\n",
    "import numpy as np\n",
    "import pandas as pd\n",
    "import matplotlib.pyplot as plt\n",
    "import seaborn as sns\n",
    "import plotly.express as px\n",
    "\n",
    "#Modeling Imports - GridSearch\n",
    "from sklearn.pipeline import Pipeline\n",
    "from sklearn.preprocessing import OneHotEncoder\n",
    "from sklearn.decomposition import TruncatedSVD \n",
    "from sklearn.model_selection import GridSearchCV\n",
    "from sklearn.feature_selection import SelectKBest, chi2\n",
    "\n",
    "#Models\n",
    "from sklearn.dummy import DummyClassifier\n",
    "from sklearn.ensemble import RandomForestClassifier\n",
    "from sklearn.tree import DecisionTreeClassifier\n",
    "\n",
    "#validation\n",
    "from sklearn.model_selection import cross_val_score\n",
    "from sklearn.model_selection import train_test_split\n",
    "from sklearn.metrics import classification_report\n",
    "\n",
    "# #Get the data:\n",
    "X_model = pd.read_csv('./data/model_features.csv')\n",
    "y_model = pd.read_csv('./data/model_target.csv')\n",
    "#shape it up:\n",
    "y_model = y_model.values.ravel()\n",
    "print(\"Training Shapes:\", X_model.shape, y_model.shape)"
   ]
  },
  {
   "cell_type": "code",
   "execution_count": 15,
   "metadata": {},
   "outputs": [],
   "source": [
    "#Investigate the parameters for truncate_svd. I don't know about the number of iterations. \n",
    "enc = OneHotEncoder()\n",
    "X_enc = enc.fit_transform(X_model)\n",
    "tsvd = TruncatedSVD(n_components = 500) \n",
    "svd_search = tsvd.fit_transform(X_enc)"
   ]
  },
  {
   "cell_type": "code",
   "execution_count": 16,
   "metadata": {},
   "outputs": [
    {
     "data": {
      "image/png": "[encoded data removed]",
      "text/plain": [
       "<Figure size 432x288 with 1 Axes>"
      ]
     },
     "metadata": {
      "needs_background": "light"
     },
     "output_type": "display_data"
    }
   ],
   "source": [
    "#Explained variance ratio on truncatedSVD. \n",
    "plt.plot(np.cumsum(tsvd.explained_variance_ratio_))\n",
    "plt.show()"
   ]
  },
  {
   "cell_type": "code",
   "execution_count": 33,
   "metadata": {},
   "outputs": [
    {
     "name": "stdout",
     "output_type": "stream",
     "text": [
      "115.5\n"
     ]
    }
   ],
   "source": [
    "evr = np.cumsum(tsvd.explained_variance_ratio_)\n",
    "print(np.where((evr >= .70) & (evr <= .80))[0].mean())"
   ]
  },
  {
   "cell_type": "markdown",
   "metadata": {},
   "source": [
    "# Searching for Models"
   ]
  },
  {
   "cell_type": "code",
   "execution_count": 40,
   "metadata": {},
   "outputs": [
    {
     "name": "stdout",
     "output_type": "stream",
     "text": [
      "Training Shapes: (626583, 7) (626583,)\n",
      "Test Shapes:  (156646, 7) (156646,)\n"
     ]
    }
   ],
   "source": [
    "# #Split for validation on 20% of the data. \n",
    "# X_train, X_test, y_train, y_test = train_test_split(X_model, y_model, test_size=0.2, random_state=42, stratify=y_model)\n",
    "# print(\"Training Shapes:\", X_train.shape, y_train.shape)\n",
    "# print(\"Test Shapes: \",  X_test.shape, y_test.shape)"
   ]
  },
  {
   "cell_type": "code",
   "execution_count": 42,
   "metadata": {},
   "outputs": [
    {
     "name": "stdout",
     "output_type": "stream",
     "text": [
      "Training Shapes: (3132912, 7) (3132912,)\n",
      "Test Shapes:  (4699370, 7) (4699370,)\n"
     ]
    }
   ],
   "source": [
    "#Split for validation on 20% of the data. \n",
    "X_train, X_test, y_train, y_test = train_test_split(X, y, test_size=0.6, random_state=42, stratify=y)\n",
    "print(\"Training Shapes:\", X_train.shape, y_train.shape)\n",
    "print(\"Test Shapes: \",  X_test.shape, y_test.shape)"
   ]
  },
  {
   "cell_type": "markdown",
   "metadata": {},
   "source": [
    "# Dummy\n",
    "This dummy classifier was run multiple times with various parameters for the number of iterations and components with SVD. After a few tweaks and observations, I have found that 120 components and 5 iterations provide the best score. \n",
    "\n",
    "Unfortunately - even on a sample of over a million records; the scores from this classifier are too low to use predict the groups. I need to adjust my dataset and try again.\n",
    "\n",
    "Fortunately, these groupings were based off a combination of the users' age and gender. Rather than trying to predict the groups. I will predict the gender. Then I will use a regression model to try and predict the ages."
   ]
  },
  {
   "cell_type": "code",
   "execution_count": 43,
   "metadata": {},
   "outputs": [
    {
     "name": "stdout",
     "output_type": "stream",
     "text": [
      "Fitting 2 folds for each of 2 candidates, totalling 4 fits\n"
     ]
    },
    {
     "name": "stderr",
     "output_type": "stream",
     "text": [
      "[Parallel(n_jobs=1)]: Using backend SequentialBackend with 1 concurrent workers.\n"
     ]
    },
    {
     "name": "stdout",
     "output_type": "stream",
     "text": [
      "[CV] svd__n_components=120 ...........................................\n",
      "[CV] ............................ svd__n_components=120, total= 1.2min\n",
      "[CV] svd__n_components=120 ...........................................\n"
     ]
    },
    {
     "name": "stderr",
     "output_type": "stream",
     "text": [
      "[Parallel(n_jobs=1)]: Done   1 out of   1 | elapsed:  1.2min remaining:    0.0s\n"
     ]
    },
    {
     "name": "stdout",
     "output_type": "stream",
     "text": [
      "[CV] ............................ svd__n_components=120, total= 1.2min\n",
      "[CV] svd__n_components=12 ............................................\n",
      "[CV] ............................. svd__n_components=12, total=  20.8s\n",
      "[CV] svd__n_components=12 ............................................\n",
      "[CV] ............................. svd__n_components=12, total=  19.4s\n"
     ]
    },
    {
     "name": "stderr",
     "output_type": "stream",
     "text": [
      "[Parallel(n_jobs=1)]: Done   4 out of   4 | elapsed:  3.1min finished\n"
     ]
    },
    {
     "data": {
      "text/plain": [
       "GridSearchCV(cv=2,\n",
       "             estimator=Pipeline(steps=[('enc',\n",
       "                                        OneHotEncoder(handle_unknown='ignore')),\n",
       "                                       ('svd', TruncatedSVD()),\n",
       "                                       ('dc',\n",
       "                                        DummyClassifier(strategy='most_frequent'))]),\n",
       "             param_grid={'svd__n_components': [120, 12]}, verbose=2)"
      ]
     },
     "execution_count": 43,
     "metadata": {},
     "output_type": "execute_result"
    }
   ],
   "source": [
    "#First run for model selection on 250k records. It takes less than a minute to fit on five estimators. \n",
    "pipeline = Pipeline([('enc', OneHotEncoder(handle_unknown='ignore')), \n",
    "                     ('svd', TruncatedSVD()),\n",
    "                     ('dc', DummyClassifier(strategy='most_frequent'))])\n",
    "params = { 'svd__n_components' :  [120, 12],\n",
    "          }\n",
    "#run with verbosity then clear output for readability. \n",
    "search = GridSearchCV(pipeline, params, cv=2, verbose=2)\n",
    "search.fit(X_train, y_train)"
   ]
  },
  {
   "cell_type": "code",
   "execution_count": 45,
   "metadata": {},
   "outputs": [
    {
     "name": "stdout",
     "output_type": "stream",
     "text": [
      "best score: 0.17373197842773752 \n",
      " estimator: Pipeline(steps=[('enc', OneHotEncoder(handle_unknown='ignore')),\n",
      "                ('svd', TruncatedSVD(n_components=120)),\n",
      "                ('dc', DummyClassifier(strategy='most_frequent'))])\n"
     ]
    }
   ],
   "source": [
    "print(f\"best score: {search.best_score_} \\n estimator: {search.best_estimator_}\" )"
   ]
  },
  {
   "cell_type": "code",
   "execution_count": 38,
   "metadata": {},
   "outputs": [],
   "source": []
  },
  {
   "cell_type": "markdown",
   "metadata": {},
   "source": [
    "# Decision Tree"
   ]
  },
  {
   "cell_type": "code",
   "execution_count": null,
   "metadata": {},
   "outputs": [
    {
     "name": "stdout",
     "output_type": "stream",
     "text": [
      "Fitting 2 folds for each of 4 candidates, totalling 8 fits\n"
     ]
    },
    {
     "name": "stderr",
     "output_type": "stream",
     "text": [
      "[Parallel(n_jobs=1)]: Using backend SequentialBackend with 1 concurrent workers.\n"
     ]
    }
   ],
   "source": [
    "#First run for model selection on 250k records. It takes less than a minute to fit on five estimators. \n",
    "pipeline = Pipeline([('enc', OneHotEncoder(handle_unknown='ignore')), \n",
    "                     ('svd', TruncatedSVD()),\n",
    "                     ('dt', DecisionTreeClassifier())])\n",
    "params = { 'svd__n_components' :  [100, 125, 300, 340],\n",
    "          #'svd__n_iter' : [5, 8, 11], \n",
    "          'dt__max_depth': [100]   \n",
    "          }\n",
    "\n",
    "search = GridSearchCV(pipeline, params, cv=2, verbose=1)\n",
    "search.fit(X_train, y_train)\n",
    "print(f\"best score: {search.best_score_} \\n estimator: {search.best_estimator_}\")"
   ]
  },
  {
   "cell_type": "markdown",
   "metadata": {},
   "source": [
    "# Random Forest"
   ]
  },
  {
   "cell_type": "code",
   "execution_count": null,
   "metadata": {},
   "outputs": [],
   "source": [
    "#First run for model selection on 250k records. It takes less than a minute to fit on five estimators. \n",
    "pipeline = Pipeline([('enc', OneHotEncoder(handle_unknown='ignore')), \n",
    "                     ('svd', TruncatedSVD()),\n",
    "                     ('rf', RandomForestClassifier(random_state=1))])\n",
    "params = { 'svd__n_components' :  [100, 125, 300, 340],\n",
    "           'svd__n_iter' : [11, 25, 30],\n",
    "           'rf__n_estimators' : [5],\n",
    "           'rf__max_depth' : [200]\n",
    "          }\n",
    "\n",
    "search = GridSearchCV(pipeline, params, cv=2, verbose=1)\n",
    "search.fit(X_train, y_train)\n",
    "print(f\"best score: {search.best_score_} \\n estimator: {search.best_estimator_}\")"
   ]
  },
  {
   "cell_type": "markdown",
   "metadata": {},
   "source": [
    "# Carry Over Notes for Delivery Book\n",
    "\n",
    "- On preprocessing.\n",
    "\n",
    "> Select a few examples from the preprocessing module.\n",
    "> Include a link to where the preprocessing was done, so they can review the whole process.\n",
    "\n",
    "- On Exploratory Data Analysis \n",
    "\n",
    "> Select a few examles from the EDA notebook.\n",
    "\n",
    "> Include a link to where the EDA was done. \n",
    "\n",
    "- On Feature Engineering.\n",
    "\n",
    "> Include all information pertaining to the PCA(truncatedSVD), onehotencoding, and feature selection.\n",
    "\n",
    "- On Sampling with stratify.\n",
    "\n",
    "> Sort the category value counts by index.\n",
    "\n",
    "> Display the value counts of training and test as a pie chart, side by side.\n",
    "\n",
    "\n",
    "- On moving everything over\n",
    "\n",
    "> Go ahead and import the files relevant to the location and run/display the analysis/computations off of those models. Import the data from the new model on each iteration.\n",
    "\n",
    "> Include an explanation in the introduction that allows the reader to understand that the data is reimported in order to ensure that I can top and go from each section as needed (instead of having to rerun a notebook to get the correct format to be used.). \n",
    "\n",
    "- On Modeling\n",
    "\n",
    "> Do not use verbosity. Instead include the link to the model selection notebook and explain that there is more than what meets the eye in the decision making. \n",
    "\n",
    "> Include the explained variance ratio\n",
    "\n",
    "\n",
    "\n"
   ]
  }
 ],
 "metadata": {
  "kernelspec": {
   "display_name": "Python 3",
   "language": "python",
   "name": "python3"
  },
  "language_info": {
   "codemirror_mode": {
    "name": "ipython",
    "version": 3
   },
   "file_extension": ".py",
   "mimetype": "text/x-python",
   "name": "python",
   "nbconvert_exporter": "python",
   "pygments_lexer": "ipython3",
   "version": "3.7.9"
  }
 },
 "nbformat": 4,
 "nbformat_minor": 4
}
