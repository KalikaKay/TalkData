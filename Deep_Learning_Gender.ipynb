{
  "nbformat": 4,
  "nbformat_minor": 0,
  "metadata": {
    "kernelspec": {
      "display_name": "Python 3",
      "language": "python",
      "name": "python3"
    },
    "language_info": {
      "codemirror_mode": {
        "name": "ipython",
        "version": 3
      },
      "file_extension": ".py",
      "mimetype": "text/x-python",
      "name": "python",
      "nbconvert_exporter": "python",
      "pygments_lexer": "ipython3",
      "version": "3.7.9"
    },
    "colab": {
      "name": "Deep Learning - Gender.ipynb",
      "provenance": [],
      "collapsed_sections": []
    },
    "accelerator": "GPU"
  },
  "cells": [
    {
      "cell_type": "markdown",
      "metadata": {
        "id": "hgfombGZZmci"
      },
      "source": [
        "# Deep Learning Model"
      ]
    },
    {
      "cell_type": "code",
      "metadata": {
        "id": "CqqDieIbZky6"
      },
      "source": [
        "#if necessary import the model data\n",
        "import numpy as np\n",
        "import pandas as pd\n",
        "import matplotlib.pyplot as plt\n",
        "import seaborn as sns\n",
        "import plotly.express as px\n",
        "\n",
        "#Modeling Imports - GridSearch\n",
        "from sklearn.pipeline import Pipeline\n",
        "from sklearn.preprocessing import OneHotEncoder\n",
        "from sklearn.preprocessing import OrdinalEncoder\n",
        "from sklearn.decomposition import TruncatedSVD \n",
        "from sklearn.model_selection import GridSearchCV\n",
        "\n",
        "#CNN Model\n",
        "from keras.layers import Dense, Activation, Flatten, Dropout, BatchNormalization\n",
        "from keras.layers import Conv2D, MaxPooling2D\n",
        "from keras import regularizers, optimizers\n",
        "from keras.models import Sequential\n",
        "from tensorflow import feature_column\n",
        "from tensorflow.keras.utils import to_categorical\n",
        "import tensorflow as tf\n",
        "\n",
        "#validation\n",
        "from sklearn.model_selection import cross_val_score\n",
        "from sklearn.model_selection import train_test_split\n",
        "from sklearn.metrics import classification_report\n",
        "from sklearn.metrics import roc_auc_score"
      ],
      "execution_count": 37,
      "outputs": []
    },
    {
      "cell_type": "code",
      "metadata": {
        "id": "peyUQPYc9RsT"
      },
      "source": [
        "# A utility method to create a tf.data dataset from a Pandas Dataframe. Retrieved from tensorflow docs.\r\n",
        "def df_to_dataset(dataframe, shuffle=True, batch_size=32):\r\n",
        "  dataframe = dataframe.copy()\r\n",
        "  labels = dataframe.pop('target')\r\n",
        "  ds = tf.data.Dataset.from_tensor_slices((dict(dataframe), labels))\r\n",
        "  if shuffle:\r\n",
        "    ds = ds.shuffle(buffer_size=len(dataframe))\r\n",
        "  ds = ds.batch(batch_size)\r\n",
        "  return ds"
      ],
      "execution_count": 38,
      "outputs": []
    },
    {
      "cell_type": "code",
      "metadata": {
        "id": "nZvgy34OEu1j"
      },
      "source": [
        "# A utility method to create a feature column\r\n",
        "# and to transform a batch of data\r\n",
        "from tensorflow.keras import layers\r\n",
        "def demo(feature_column):\r\n",
        "  feature_layer = layers.DenseFeatures(feature_column)\r\n",
        "  print(feature_layer(example_batch).numpy())"
      ],
      "execution_count": 39,
      "outputs": []
    },
    {
      "cell_type": "code",
      "metadata": {
        "id": "7mfnhUdtZkzC"
      },
      "source": [
        "#A summary of missing variables represented as a percentage of the total missing content. \n",
        "def null_summary(df, print_log=False, sort='ascending'):\n",
        "    s = df.isnull().sum()*100/df.isnull().count()\n",
        "    \n",
        "    if sort.lower() == 'ascending':\n",
        "        s = s.sort_values(ascending=True)\n",
        "    elif sort.lower() == 'descending':\n",
        "        s = s.sort_values(ascending=False)  \n",
        "    if print_log: \n",
        "        print('Percentage of null values: \\n', s)\n",
        "  \n",
        "    return pd.Series(s)"
      ],
      "execution_count": 40,
      "outputs": []
    },
    {
      "cell_type": "code",
      "metadata": {
        "colab": {
          "base_uri": "https://localhost:8080/",
          "height": 196
        },
        "id": "Sax7FzZ6ZkzC",
        "outputId": "90435114-d69f-4a0f-d388-5d4c710b16b8"
      },
      "source": [
        "#get the data\n",
        "talkdata = pd.read_csv('/content/talkdata.csv')\n",
        "#Quick look at the head.\n",
        "talkdata.head()"
      ],
      "execution_count": 41,
      "outputs": [
        {
          "output_type": "execute_result",
          "data": {
            "text/html": [
              "<div>\n",
              "<style scoped>\n",
              "    .dataframe tbody tr th:only-of-type {\n",
              "        vertical-align: middle;\n",
              "    }\n",
              "\n",
              "    .dataframe tbody tr th {\n",
              "        vertical-align: top;\n",
              "    }\n",
              "\n",
              "    .dataframe thead th {\n",
              "        text-align: right;\n",
              "    }\n",
              "</style>\n",
              "<table border=\"1\" class=\"dataframe\">\n",
              "  <thead>\n",
              "    <tr style=\"text-align: right;\">\n",
              "      <th></th>\n",
              "      <th>timestamp</th>\n",
              "      <th>longitude</th>\n",
              "      <th>latitude</th>\n",
              "      <th>coordinates</th>\n",
              "      <th>is_active</th>\n",
              "      <th>phone_brand</th>\n",
              "      <th>device_model</th>\n",
              "      <th>category</th>\n",
              "      <th>gender</th>\n",
              "      <th>age</th>\n",
              "      <th>group</th>\n",
              "    </tr>\n",
              "  </thead>\n",
              "  <tbody>\n",
              "    <tr>\n",
              "      <th>0</th>\n",
              "      <td>2016-05-01 14:23:37</td>\n",
              "      <td>0.0</td>\n",
              "      <td>0.0</td>\n",
              "      <td>(0.0, 0.0)</td>\n",
              "      <td>1.0</td>\n",
              "      <td>小米</td>\n",
              "      <td>MI 2</td>\n",
              "      <td>1 free</td>\n",
              "      <td>M</td>\n",
              "      <td>35</td>\n",
              "      <td>M32-38</td>\n",
              "    </tr>\n",
              "    <tr>\n",
              "      <th>1</th>\n",
              "      <td>2016-05-01 14:23:37</td>\n",
              "      <td>0.0</td>\n",
              "      <td>0.0</td>\n",
              "      <td>(0.0, 0.0)</td>\n",
              "      <td>1.0</td>\n",
              "      <td>小米</td>\n",
              "      <td>MI 2</td>\n",
              "      <td>Cozy 1</td>\n",
              "      <td>M</td>\n",
              "      <td>35</td>\n",
              "      <td>M32-38</td>\n",
              "    </tr>\n",
              "    <tr>\n",
              "      <th>2</th>\n",
              "      <td>2016-05-01 14:23:37</td>\n",
              "      <td>0.0</td>\n",
              "      <td>0.0</td>\n",
              "      <td>(0.0, 0.0)</td>\n",
              "      <td>1.0</td>\n",
              "      <td>小米</td>\n",
              "      <td>MI 2</td>\n",
              "      <td>Industry tag</td>\n",
              "      <td>M</td>\n",
              "      <td>35</td>\n",
              "      <td>M32-38</td>\n",
              "    </tr>\n",
              "    <tr>\n",
              "      <th>3</th>\n",
              "      <td>2016-05-01 14:23:37</td>\n",
              "      <td>0.0</td>\n",
              "      <td>0.0</td>\n",
              "      <td>(0.0, 0.0)</td>\n",
              "      <td>1.0</td>\n",
              "      <td>小米</td>\n",
              "      <td>MI 2</td>\n",
              "      <td>Property Industry 2.0</td>\n",
              "      <td>M</td>\n",
              "      <td>35</td>\n",
              "      <td>M32-38</td>\n",
              "    </tr>\n",
              "    <tr>\n",
              "      <th>4</th>\n",
              "      <td>2016-05-01 14:23:37</td>\n",
              "      <td>0.0</td>\n",
              "      <td>0.0</td>\n",
              "      <td>(0.0, 0.0)</td>\n",
              "      <td>1.0</td>\n",
              "      <td>小米</td>\n",
              "      <td>MI 2</td>\n",
              "      <td>music</td>\n",
              "      <td>M</td>\n",
              "      <td>35</td>\n",
              "      <td>M32-38</td>\n",
              "    </tr>\n",
              "  </tbody>\n",
              "</table>\n",
              "</div>"
            ],
            "text/plain": [
              "             timestamp  longitude  latitude  ... gender  age   group\n",
              "0  2016-05-01 14:23:37        0.0       0.0  ...      M   35  M32-38\n",
              "1  2016-05-01 14:23:37        0.0       0.0  ...      M   35  M32-38\n",
              "2  2016-05-01 14:23:37        0.0       0.0  ...      M   35  M32-38\n",
              "3  2016-05-01 14:23:37        0.0       0.0  ...      M   35  M32-38\n",
              "4  2016-05-01 14:23:37        0.0       0.0  ...      M   35  M32-38\n",
              "\n",
              "[5 rows x 11 columns]"
            ]
          },
          "metadata": {
            "tags": []
          },
          "execution_count": 41
        }
      ]
    },
    {
      "cell_type": "code",
      "metadata": {
        "colab": {
          "base_uri": "https://localhost:8080/"
        },
        "id": "W3IrpHgiZkzD",
        "outputId": "cf32e46e-31e3-4520-c55d-cb90c5b9ac12"
      },
      "source": [
        "#The size and shape of this dataset before categorical changing.\n",
        "talkdata.shape"
      ],
      "execution_count": 42,
      "outputs": [
        {
          "output_type": "execute_result",
          "data": {
            "text/plain": [
              "(7832282, 11)"
            ]
          },
          "metadata": {
            "tags": []
          },
          "execution_count": 42
        }
      ]
    },
    {
      "cell_type": "code",
      "metadata": {
        "colab": {
          "base_uri": "https://localhost:8080/",
          "height": 512
        },
        "id": "lTj6pLyGZkzE",
        "outputId": "23cb0d3a-eb3f-4798-ce74-98319b683439"
      },
      "source": [
        "#Set the timestamp column to a datetime datatype.[Shame on me fo ridding myself of hte epoch timesetamp before I started the Deep learning]\n",
        "talkdata['timestamp'] = pd.to_datetime(talkdata.timestamp)\n",
        "talkdata.timestamp.dtype\n",
        "\n",
        "#create the categorical time columns\n",
        "talkdata['hour'] = talkdata.timestamp.dt.hour\n",
        "talkdata['weekday'] = talkdata.timestamp.dt.dayofweek\n",
        "#get the day of the week as an integer. \n",
        "talkdata['week'] = talkdata.timestamp.dt.isocalendar().week.astype(int)\n",
        "\n",
        "#concatenate the phone brand to the device model. \n",
        "talkdata.describe(include='all', datetime_is_numeric=True)"
      ],
      "execution_count": 43,
      "outputs": [
        {
          "output_type": "execute_result",
          "data": {
            "text/html": [
              "<div>\n",
              "<style scoped>\n",
              "    .dataframe tbody tr th:only-of-type {\n",
              "        vertical-align: middle;\n",
              "    }\n",
              "\n",
              "    .dataframe tbody tr th {\n",
              "        vertical-align: top;\n",
              "    }\n",
              "\n",
              "    .dataframe thead th {\n",
              "        text-align: right;\n",
              "    }\n",
              "</style>\n",
              "<table border=\"1\" class=\"dataframe\">\n",
              "  <thead>\n",
              "    <tr style=\"text-align: right;\">\n",
              "      <th></th>\n",
              "      <th>timestamp</th>\n",
              "      <th>longitude</th>\n",
              "      <th>latitude</th>\n",
              "      <th>coordinates</th>\n",
              "      <th>is_active</th>\n",
              "      <th>phone_brand</th>\n",
              "      <th>device_model</th>\n",
              "      <th>category</th>\n",
              "      <th>gender</th>\n",
              "      <th>age</th>\n",
              "      <th>group</th>\n",
              "      <th>hour</th>\n",
              "      <th>weekday</th>\n",
              "      <th>week</th>\n",
              "    </tr>\n",
              "  </thead>\n",
              "  <tbody>\n",
              "    <tr>\n",
              "      <th>count</th>\n",
              "      <td>7832282</td>\n",
              "      <td>7.832282e+06</td>\n",
              "      <td>7.832282e+06</td>\n",
              "      <td>7832282</td>\n",
              "      <td>7.832282e+06</td>\n",
              "      <td>7832282</td>\n",
              "      <td>7832282</td>\n",
              "      <td>7832282</td>\n",
              "      <td>7832282</td>\n",
              "      <td>7.832282e+06</td>\n",
              "      <td>7832282</td>\n",
              "      <td>7.832282e+06</td>\n",
              "      <td>7.832282e+06</td>\n",
              "      <td>7.832282e+06</td>\n",
              "    </tr>\n",
              "    <tr>\n",
              "      <th>unique</th>\n",
              "      <td>NaN</td>\n",
              "      <td>NaN</td>\n",
              "      <td>NaN</td>\n",
              "      <td>32921</td>\n",
              "      <td>NaN</td>\n",
              "      <td>89</td>\n",
              "      <td>926</td>\n",
              "      <td>441</td>\n",
              "      <td>2</td>\n",
              "      <td>NaN</td>\n",
              "      <td>12</td>\n",
              "      <td>NaN</td>\n",
              "      <td>NaN</td>\n",
              "      <td>NaN</td>\n",
              "    </tr>\n",
              "    <tr>\n",
              "      <th>top</th>\n",
              "      <td>NaN</td>\n",
              "      <td>NaN</td>\n",
              "      <td>NaN</td>\n",
              "      <td>(0.0, 0.0)</td>\n",
              "      <td>NaN</td>\n",
              "      <td>华为</td>\n",
              "      <td>荣耀6</td>\n",
              "      <td>Industry tag</td>\n",
              "      <td>M</td>\n",
              "      <td>NaN</td>\n",
              "      <td>M39+</td>\n",
              "      <td>NaN</td>\n",
              "      <td>NaN</td>\n",
              "      <td>NaN</td>\n",
              "    </tr>\n",
              "    <tr>\n",
              "      <th>freq</th>\n",
              "      <td>NaN</td>\n",
              "      <td>NaN</td>\n",
              "      <td>NaN</td>\n",
              "      <td>2295988</td>\n",
              "      <td>NaN</td>\n",
              "      <td>2422726</td>\n",
              "      <td>354430</td>\n",
              "      <td>907153</td>\n",
              "      <td>5566437</td>\n",
              "      <td>NaN</td>\n",
              "      <td>1360719</td>\n",
              "      <td>NaN</td>\n",
              "      <td>NaN</td>\n",
              "      <td>NaN</td>\n",
              "    </tr>\n",
              "    <tr>\n",
              "      <th>mean</th>\n",
              "      <td>2016-05-04 13:58:30.355242240</td>\n",
              "      <td>7.837463e+01</td>\n",
              "      <td>2.182485e+01</td>\n",
              "      <td>NaN</td>\n",
              "      <td>3.404700e-01</td>\n",
              "      <td>NaN</td>\n",
              "      <td>NaN</td>\n",
              "      <td>NaN</td>\n",
              "      <td>NaN</td>\n",
              "      <td>3.350478e+01</td>\n",
              "      <td>NaN</td>\n",
              "      <td>1.306016e+01</td>\n",
              "      <td>2.963128e+00</td>\n",
              "      <td>1.786502e+01</td>\n",
              "    </tr>\n",
              "    <tr>\n",
              "      <th>min</th>\n",
              "      <td>2016-04-30 23:52:24</td>\n",
              "      <td>-1.800000e+02</td>\n",
              "      <td>-3.380000e+01</td>\n",
              "      <td>NaN</td>\n",
              "      <td>0.000000e+00</td>\n",
              "      <td>NaN</td>\n",
              "      <td>NaN</td>\n",
              "      <td>NaN</td>\n",
              "      <td>NaN</td>\n",
              "      <td>1.100000e+01</td>\n",
              "      <td>NaN</td>\n",
              "      <td>0.000000e+00</td>\n",
              "      <td>0.000000e+00</td>\n",
              "      <td>1.700000e+01</td>\n",
              "    </tr>\n",
              "    <tr>\n",
              "      <th>25%</th>\n",
              "      <td>2016-05-02 20:22:46.500000</td>\n",
              "      <td>0.000000e+00</td>\n",
              "      <td>0.000000e+00</td>\n",
              "      <td>NaN</td>\n",
              "      <td>0.000000e+00</td>\n",
              "      <td>NaN</td>\n",
              "      <td>NaN</td>\n",
              "      <td>NaN</td>\n",
              "      <td>NaN</td>\n",
              "      <td>2.700000e+01</td>\n",
              "      <td>NaN</td>\n",
              "      <td>8.000000e+00</td>\n",
              "      <td>1.000000e+00</td>\n",
              "      <td>1.800000e+01</td>\n",
              "    </tr>\n",
              "    <tr>\n",
              "      <th>50%</th>\n",
              "      <td>2016-05-04 14:05:48</td>\n",
              "      <td>1.127500e+02</td>\n",
              "      <td>2.857000e+01</td>\n",
              "      <td>NaN</td>\n",
              "      <td>0.000000e+00</td>\n",
              "      <td>NaN</td>\n",
              "      <td>NaN</td>\n",
              "      <td>NaN</td>\n",
              "      <td>NaN</td>\n",
              "      <td>3.100000e+01</td>\n",
              "      <td>NaN</td>\n",
              "      <td>1.300000e+01</td>\n",
              "      <td>3.000000e+00</td>\n",
              "      <td>1.800000e+01</td>\n",
              "    </tr>\n",
              "    <tr>\n",
              "      <th>75%</th>\n",
              "      <td>2016-05-06 08:22:22</td>\n",
              "      <td>1.171700e+02</td>\n",
              "      <td>3.401000e+01</td>\n",
              "      <td>NaN</td>\n",
              "      <td>1.000000e+00</td>\n",
              "      <td>NaN</td>\n",
              "      <td>NaN</td>\n",
              "      <td>NaN</td>\n",
              "      <td>NaN</td>\n",
              "      <td>3.900000e+01</td>\n",
              "      <td>NaN</td>\n",
              "      <td>1.900000e+01</td>\n",
              "      <td>5.000000e+00</td>\n",
              "      <td>1.800000e+01</td>\n",
              "    </tr>\n",
              "    <tr>\n",
              "      <th>max</th>\n",
              "      <td>2016-05-08 00:00:08</td>\n",
              "      <td>1.511800e+02</td>\n",
              "      <td>5.364000e+01</td>\n",
              "      <td>NaN</td>\n",
              "      <td>1.000000e+00</td>\n",
              "      <td>NaN</td>\n",
              "      <td>NaN</td>\n",
              "      <td>NaN</td>\n",
              "      <td>NaN</td>\n",
              "      <td>8.900000e+01</td>\n",
              "      <td>NaN</td>\n",
              "      <td>2.300000e+01</td>\n",
              "      <td>6.000000e+00</td>\n",
              "      <td>1.800000e+01</td>\n",
              "    </tr>\n",
              "    <tr>\n",
              "      <th>std</th>\n",
              "      <td>NaN</td>\n",
              "      <td>5.381746e+01</td>\n",
              "      <td>1.565152e+01</td>\n",
              "      <td>NaN</td>\n",
              "      <td>4.738673e-01</td>\n",
              "      <td>NaN</td>\n",
              "      <td>NaN</td>\n",
              "      <td>NaN</td>\n",
              "      <td>NaN</td>\n",
              "      <td>9.748107e+00</td>\n",
              "      <td>NaN</td>\n",
              "      <td>6.355358e+00</td>\n",
              "      <td>1.974990e+00</td>\n",
              "      <td>3.417027e-01</td>\n",
              "    </tr>\n",
              "  </tbody>\n",
              "</table>\n",
              "</div>"
            ],
            "text/plain": [
              "                            timestamp     longitude  ...       weekday          week\n",
              "count                         7832282  7.832282e+06  ...  7.832282e+06  7.832282e+06\n",
              "unique                            NaN           NaN  ...           NaN           NaN\n",
              "top                               NaN           NaN  ...           NaN           NaN\n",
              "freq                              NaN           NaN  ...           NaN           NaN\n",
              "mean    2016-05-04 13:58:30.355242240  7.837463e+01  ...  2.963128e+00  1.786502e+01\n",
              "min               2016-04-30 23:52:24 -1.800000e+02  ...  0.000000e+00  1.700000e+01\n",
              "25%        2016-05-02 20:22:46.500000  0.000000e+00  ...  1.000000e+00  1.800000e+01\n",
              "50%               2016-05-04 14:05:48  1.127500e+02  ...  3.000000e+00  1.800000e+01\n",
              "75%               2016-05-06 08:22:22  1.171700e+02  ...  5.000000e+00  1.800000e+01\n",
              "max               2016-05-08 00:00:08  1.511800e+02  ...  6.000000e+00  1.800000e+01\n",
              "std                               NaN  5.381746e+01  ...  1.974990e+00  3.417027e-01\n",
              "\n",
              "[11 rows x 14 columns]"
            ]
          },
          "metadata": {
            "tags": []
          },
          "execution_count": 43
        }
      ]
    },
    {
      "cell_type": "code",
      "metadata": {
        "colab": {
          "base_uri": "https://localhost:8080/"
        },
        "id": "2cuj42MMZkzE",
        "outputId": "96eea8eb-40a4-4939-a73f-5da1f3880032"
      },
      "source": [
        "null_summary(talkdata)"
      ],
      "execution_count": 44,
      "outputs": [
        {
          "output_type": "execute_result",
          "data": {
            "text/plain": [
              "timestamp       0.0\n",
              "longitude       0.0\n",
              "latitude        0.0\n",
              "coordinates     0.0\n",
              "is_active       0.0\n",
              "phone_brand     0.0\n",
              "device_model    0.0\n",
              "category        0.0\n",
              "gender          0.0\n",
              "age             0.0\n",
              "group           0.0\n",
              "hour            0.0\n",
              "weekday         0.0\n",
              "week            0.0\n",
              "dtype: float64"
            ]
          },
          "metadata": {
            "tags": []
          },
          "execution_count": 44
        }
      ]
    },
    {
      "cell_type": "markdown",
      "metadata": {
        "id": "ihCNRySp8MhI"
      },
      "source": [
        "First I will classify on gender, because I need to get a working CNN model."
      ]
    },
    {
      "cell_type": "code",
      "metadata": {
        "colab": {
          "base_uri": "https://localhost:8080/"
        },
        "id": "OISfJxC9ZkzF",
        "outputId": "2b16791d-eebe-4e8c-bded-c39c5fddbfce"
      },
      "source": [
        "from sklearn.preprocessing import OrdinalEncoder\n",
        "#Change the target variable to numeric, zero will represent the male population.\n",
        "#talkdata['target'] = OrdinalEncoder().fit_transform(talkdata.group.values.reshape(-1,1))\n",
        "talkdata['target'] = np.where(talkdata.gender == \"M\", 0, 1)\n",
        "\n",
        "#This will get converted into a dataset later. \n",
        "X = talkdata.drop(columns=['hour', 'weekday', 'week', 'coordinates', 'gender', 'age', 'group'])\n",
        "#We will be using tensorflow methods to work with the timestamp.\n",
        "X['timestamp'] = talkdata['timestamp'].astype('int64')\n",
        "X.shape"
      ],
      "execution_count": 45,
      "outputs": [
        {
          "output_type": "execute_result",
          "data": {
            "text/plain": [
              "(7832282, 8)"
            ]
          },
          "metadata": {
            "tags": []
          },
          "execution_count": 45
        }
      ]
    },
    {
      "cell_type": "code",
      "metadata": {
        "colab": {
          "base_uri": "https://localhost:8080/"
        },
        "id": "El2rtJS7ufKE",
        "outputId": "6f2c9e05-f7d1-463b-c01e-34ab5ee8d128"
      },
      "source": [
        "train, test = train_test_split(X, test_size=0.5)\r\n",
        "train, val = train_test_split(train, test_size=0.2)\r\n",
        "print(len(train), 'train examples')\r\n",
        "print(len(val), 'validation examples')\r\n",
        "print(len(test), 'test examples')"
      ],
      "execution_count": 46,
      "outputs": [
        {
          "output_type": "stream",
          "text": [
            "3132912 train examples\n",
            "783229 validation examples\n",
            "3916141 test examples\n"
          ],
          "name": "stdout"
        }
      ]
    },
    {
      "cell_type": "code",
      "metadata": {
        "id": "uxjNpanL9Z59"
      },
      "source": [
        "batch_size = 5 # A small batch sized is used for demonstration purposes\r\n",
        "train_ds = df_to_dataset(train, batch_size=batch_size)\r\n",
        "val_ds = df_to_dataset(val, shuffle=False, batch_size=batch_size)\r\n",
        "test_ds = df_to_dataset(test, shuffle=False, batch_size=batch_size)"
      ],
      "execution_count": 47,
      "outputs": []
    },
    {
      "cell_type": "markdown",
      "metadata": {
        "id": "eJ7L9Ue8KNXD"
      },
      "source": [
        "# Feature Engineering"
      ]
    },
    {
      "cell_type": "code",
      "metadata": {
        "colab": {
          "base_uri": "https://localhost:8080/"
        },
        "id": "tLR4iz70DlSu",
        "outputId": "14d7c17b-c065-467a-8b7a-8b9985653767"
      },
      "source": [
        "#Explore the dataset.\r\n",
        "for feature_batch, label_batch in train_ds.take(1):\r\n",
        "  print('Every feature:', list(feature_batch.keys()))\r\n",
        "  print('A batch of ages:', feature_batch['phone_brand'])\r\n",
        "  print('A batch of targets:', label_batch )"
      ],
      "execution_count": 48,
      "outputs": [
        {
          "output_type": "stream",
          "text": [
            "Every feature: ['timestamp', 'longitude', 'latitude', 'is_active', 'phone_brand', 'device_model', 'category']\n",
            "A batch of ages: tf.Tensor(\n",
            "[b'OPPO' b'\\xe4\\xb8\\x89\\xe6\\x98\\x9f' b'\\xe4\\xb8\\x89\\xe6\\x98\\x9f'\n",
            " b'\\xe4\\xb8\\xad\\xe5\\x85\\xb4' b'\\xe8\\xaf\\xad\\xe4\\xbf\\xa1'], shape=(5,), dtype=string)\n",
            "A batch of targets: tf.Tensor([0 0 1 0 0], shape=(5,), dtype=int64)\n"
          ],
          "name": "stdout"
        }
      ]
    },
    {
      "cell_type": "code",
      "metadata": {
        "id": "lvKWN-ChEVK3"
      },
      "source": [
        "# Taking a look at feature columns\r\n",
        "# We will use this batch to demonstrate several types of feature columns\r\n",
        "example_batch = next(iter(train_ds))[0]"
      ],
      "execution_count": 49,
      "outputs": []
    },
    {
      "cell_type": "code",
      "metadata": {
        "id": "y5i8Oavk7l5C"
      },
      "source": [
        "feature_columns = []"
      ],
      "execution_count": 50,
      "outputs": []
    },
    {
      "cell_type": "code",
      "metadata": {
        "id": "bHRtoo48F1ot"
      },
      "source": [
        "#Bucketizing these categorical columns that have fewer than 30 features.\r\n",
        "is_active = feature_column.numeric_column('is_active')\r\n",
        "is_active_buckets = feature_column.bucketized_column(is_active, boundaries=[0.])\r\n",
        "feature_columns.append(is_active_buckets)"
      ],
      "execution_count": 51,
      "outputs": []
    },
    {
      "cell_type": "code",
      "metadata": {
        "id": "lUDOG1C7T1gh"
      },
      "source": [
        "#Embedding column for my sparse categories. The dimension parameter must be tuned. \r\n",
        "time_cat = feature_column.categorical_column_with_vocabulary_list(\r\n",
        "      'timestamp', X.timestamp.unique())\r\n",
        "time_embedding = feature_column.embedding_column(time_cat, dimension=27)\r\n",
        "feature_columns.append(time_embedding)"
      ],
      "execution_count": 52,
      "outputs": []
    },
    {
      "cell_type": "code",
      "metadata": {
        "colab": {
          "base_uri": "https://localhost:8080/"
        },
        "id": "CyCmUn_2KFN4",
        "outputId": "a23b9e1b-87eb-480f-fa26-c1d46b5c446d"
      },
      "source": [
        "#Crossed feature columns - phone_brand and device_model\r\n",
        "device_crossed_feature = feature_column.crossed_column(['device_model', 'phone_brand'], hash_bucket_size=16)\r\n",
        "demo(feature_column.indicator_column(device_crossed_feature))"
      ],
      "execution_count": 53,
      "outputs": [
        {
          "output_type": "stream",
          "text": [
            "[[0. 0. 0. 0. 0. 1. 0. 0. 0. 0. 0. 0. 0. 0. 0. 0.]\n",
            " [0. 0. 0. 0. 0. 1. 0. 0. 0. 0. 0. 0. 0. 0. 0. 0.]\n",
            " [0. 0. 0. 0. 0. 0. 0. 0. 0. 0. 0. 0. 0. 0. 1. 0.]\n",
            " [0. 0. 0. 0. 0. 0. 0. 0. 0. 0. 0. 0. 0. 1. 0. 0.]\n",
            " [0. 0. 0. 0. 0. 0. 0. 0. 0. 1. 0. 0. 0. 0. 0. 0.]]\n"
          ],
          "name": "stdout"
        }
      ]
    },
    {
      "cell_type": "code",
      "metadata": {
        "id": "Ftic1fxqQFOC"
      },
      "source": [
        "feature_columns.append(feature_column.indicator_column(device_crossed_feature))"
      ],
      "execution_count": 54,
      "outputs": []
    },
    {
      "cell_type": "code",
      "metadata": {
        "colab": {
          "base_uri": "https://localhost:8080/"
        },
        "id": "8xHs_ILwJlr3",
        "outputId": "2452f225-6b55-4e39-b3c9-e669d2851c6e"
      },
      "source": [
        "#Crossed feature columns - phone_brand and device_model\r\n",
        "coordinates_crossed_feature = feature_column.crossed_column(['latitude', 'longitude'], hash_bucket_size=23)\r\n",
        "demo(feature_column.indicator_column(coordinates_crossed_feature))"
      ],
      "execution_count": 55,
      "outputs": [
        {
          "output_type": "stream",
          "text": [
            "[[0. 0. 0. 0. 0. 0. 1. 0. 0. 0. 0. 0. 0. 0. 0. 0. 0. 0. 0. 0. 0. 0. 0.]\n",
            " [0. 0. 0. 0. 0. 0. 1. 0. 0. 0. 0. 0. 0. 0. 0. 0. 0. 0. 0. 0. 0. 0. 0.]\n",
            " [0. 0. 0. 0. 0. 0. 0. 0. 0. 0. 0. 0. 0. 0. 0. 0. 0. 0. 0. 0. 0. 0. 1.]\n",
            " [0. 0. 1. 0. 0. 0. 0. 0. 0. 0. 0. 0. 0. 0. 0. 0. 0. 0. 0. 0. 0. 0. 0.]\n",
            " [0. 0. 0. 0. 0. 0. 1. 0. 0. 0. 0. 0. 0. 0. 0. 0. 0. 0. 0. 0. 0. 0. 0.]]\n"
          ],
          "name": "stdout"
        }
      ]
    },
    {
      "cell_type": "code",
      "metadata": {
        "id": "LB6mQTIJQX4k"
      },
      "source": [
        "feature_columns.append(feature_column.indicator_column(coordinates_crossed_feature))"
      ],
      "execution_count": 56,
      "outputs": []
    },
    {
      "cell_type": "code",
      "metadata": {
        "colab": {
          "base_uri": "https://localhost:8080/"
        },
        "id": "oObeKHVKOJjU",
        "outputId": "f1173bce-e9f4-40e9-8783-67af987d4df4"
      },
      "source": [
        "#Embedding column for my sparse categories. The dimension parameter must be tuned. \r\n",
        "category = feature_column.categorical_column_with_vocabulary_list(\r\n",
        "      'category', X.category.unique())\r\n",
        "cat_embedding = feature_column.embedding_column(category, dimension=10)\r\n",
        "demo(cat_embedding)"
      ],
      "execution_count": 57,
      "outputs": [
        {
          "output_type": "stream",
          "text": [
            "[[ 0.57553375  0.02443855 -0.37180257  0.08324161 -0.00302168 -0.13071118\n",
            "  -0.37802738 -0.575648   -0.04787708  0.28132716]\n",
            " [ 0.1987541  -0.01999158 -0.20237263  0.27475223  0.03442423 -0.12258742\n",
            "   0.16244562 -0.1238943  -0.1197976   0.19548585]\n",
            " [-0.3285712  -0.17856541 -0.1503316   0.19879375  0.39766684 -0.01329299\n",
            "  -0.08342949 -0.35365027 -0.17669982  0.0214102 ]\n",
            " [ 0.06219751 -0.04508206 -0.18668914 -0.11838596  0.0983711  -0.55874676\n",
            "  -0.09537187  0.48168135  0.04180591  0.27132407]\n",
            " [ 0.02041516 -0.1750339  -0.39342475  0.13116711 -0.01278052 -0.07975906\n",
            "  -0.13575654 -0.33637714  0.42229134 -0.0630264 ]]\n"
          ],
          "name": "stdout"
        }
      ]
    },
    {
      "cell_type": "code",
      "metadata": {
        "id": "kt0cQQAWPjPS"
      },
      "source": [
        "feature_columns.append(cat_embedding)"
      ],
      "execution_count": 58,
      "outputs": []
    },
    {
      "cell_type": "code",
      "metadata": {
        "id": "I9RyRFBoQpxK"
      },
      "source": [
        "feature_layer = tf.keras.layers.DenseFeatures(feature_columns)"
      ],
      "execution_count": 59,
      "outputs": []
    },
    {
      "cell_type": "code",
      "metadata": {
        "id": "_rtTQp_aRjsG"
      },
      "source": [
        "batch_size = 32\r\n",
        "train_ds = df_to_dataset(train, batch_size=batch_size)\r\n",
        "val_ds = df_to_dataset(val, shuffle=False, batch_size=batch_size)\r\n",
        "test_ds = df_to_dataset(test, shuffle=False, batch_size=batch_size)"
      ],
      "execution_count": 60,
      "outputs": []
    },
    {
      "cell_type": "code",
      "metadata": {
        "colab": {
          "base_uri": "https://localhost:8080/"
        },
        "id": "rhOEL0ImR2uy",
        "outputId": "bdf72f6c-d862-4057-b171-d580c2cf8fc5"
      },
      "source": [
        "model = tf.keras.Sequential([\r\n",
        "  feature_layer,\r\n",
        "  layers.Dense(128, activation='relu'),\r\n",
        "  layers.Dense(128, activation='relu'),\r\n",
        "  layers.Dropout(.1),\r\n",
        "  layers.Dense(1)\r\n",
        "])\r\n",
        "\r\n",
        "model.compile(optimizer='adam',\r\n",
        "              loss=tf.keras.losses.BinaryCrossentropy(from_logits=True),\r\n",
        "              metrics=['accuracy'])\r\n",
        "\r\n",
        "history = model.fit(train_ds,\r\n",
        "          validation_data=val_ds,\r\n",
        "          epochs=10)"
      ],
      "execution_count": 61,
      "outputs": [
        {
          "output_type": "stream",
          "text": [
            "Epoch 1/10\n",
            "WARNING:tensorflow:Layers in a Sequential model should only have a single input tensor, but we receive a <class 'dict'> input: {'timestamp': <tf.Tensor 'ExpandDims_6:0' shape=(None, 1) dtype=int64>, 'longitude': <tf.Tensor 'ExpandDims_4:0' shape=(None, 1) dtype=float64>, 'latitude': <tf.Tensor 'ExpandDims_3:0' shape=(None, 1) dtype=float64>, 'is_active': <tf.Tensor 'ExpandDims_2:0' shape=(None, 1) dtype=float64>, 'phone_brand': <tf.Tensor 'ExpandDims_5:0' shape=(None, 1) dtype=string>, 'device_model': <tf.Tensor 'ExpandDims_1:0' shape=(None, 1) dtype=string>, 'category': <tf.Tensor 'ExpandDims:0' shape=(None, 1) dtype=string>}\n",
            "Consider rewriting this model with the Functional API.\n",
            "WARNING:tensorflow:Layers in a Sequential model should only have a single input tensor, but we receive a <class 'dict'> input: {'timestamp': <tf.Tensor 'ExpandDims_6:0' shape=(None, 1) dtype=int64>, 'longitude': <tf.Tensor 'ExpandDims_4:0' shape=(None, 1) dtype=float64>, 'latitude': <tf.Tensor 'ExpandDims_3:0' shape=(None, 1) dtype=float64>, 'is_active': <tf.Tensor 'ExpandDims_2:0' shape=(None, 1) dtype=float64>, 'phone_brand': <tf.Tensor 'ExpandDims_5:0' shape=(None, 1) dtype=string>, 'device_model': <tf.Tensor 'ExpandDims_1:0' shape=(None, 1) dtype=string>, 'category': <tf.Tensor 'ExpandDims:0' shape=(None, 1) dtype=string>}\n",
            "Consider rewriting this model with the Functional API.\n",
            "97902/97904 [============================>.] - ETA: 0s - loss: 0.4891 - accuracy: 0.7592WARNING:tensorflow:Layers in a Sequential model should only have a single input tensor, but we receive a <class 'dict'> input: {'timestamp': <tf.Tensor 'ExpandDims_6:0' shape=(None, 1) dtype=int64>, 'longitude': <tf.Tensor 'ExpandDims_4:0' shape=(None, 1) dtype=float64>, 'latitude': <tf.Tensor 'ExpandDims_3:0' shape=(None, 1) dtype=float64>, 'is_active': <tf.Tensor 'ExpandDims_2:0' shape=(None, 1) dtype=float64>, 'phone_brand': <tf.Tensor 'ExpandDims_5:0' shape=(None, 1) dtype=string>, 'device_model': <tf.Tensor 'ExpandDims_1:0' shape=(None, 1) dtype=string>, 'category': <tf.Tensor 'ExpandDims:0' shape=(None, 1) dtype=string>}\n",
            "Consider rewriting this model with the Functional API.\n",
            "97904/97904 [==============================] - 1200s 12ms/step - loss: 0.4891 - accuracy: 0.7592 - val_loss: 0.2433 - val_accuracy: 0.8926\n",
            "Epoch 2/10\n",
            "97904/97904 [==============================] - 1200s 12ms/step - loss: 0.1449 - accuracy: 0.9407 - val_loss: 0.1730 - val_accuracy: 0.9289\n",
            "Epoch 3/10\n",
            "97904/97904 [==============================] - 1199s 12ms/step - loss: 0.0762 - accuracy: 0.9707 - val_loss: 0.1515 - val_accuracy: 0.9414\n",
            "Epoch 4/10\n",
            "97904/97904 [==============================] - 1198s 12ms/step - loss: 0.0517 - accuracy: 0.9811 - val_loss: 0.1382 - val_accuracy: 0.9480\n",
            "Epoch 5/10\n",
            "97904/97904 [==============================] - 1199s 12ms/step - loss: 0.0394 - accuracy: 0.9863 - val_loss: 0.1389 - val_accuracy: 0.9508\n",
            "Epoch 6/10\n",
            "97904/97904 [==============================] - 1199s 12ms/step - loss: 0.0318 - accuracy: 0.9893 - val_loss: 0.1277 - val_accuracy: 0.9533\n",
            "Epoch 7/10\n",
            "97904/97904 [==============================] - 1202s 12ms/step - loss: 0.0276 - accuracy: 0.9911 - val_loss: 0.1276 - val_accuracy: 0.9549\n",
            "Epoch 8/10\n",
            "97904/97904 [==============================] - 1203s 12ms/step - loss: 0.0243 - accuracy: 0.9923 - val_loss: 0.1254 - val_accuracy: 0.9562\n",
            "Epoch 9/10\n",
            "97904/97904 [==============================] - 1203s 12ms/step - loss: 0.0225 - accuracy: 0.9930 - val_loss: 0.1285 - val_accuracy: 0.9562\n",
            "Epoch 10/10\n",
            "97904/97904 [==============================] - 1202s 12ms/step - loss: 0.0207 - accuracy: 0.9938 - val_loss: 0.1246 - val_accuracy: 0.9579\n"
          ],
          "name": "stdout"
        }
      ]
    },
    {
      "cell_type": "code",
      "metadata": {
        "colab": {
          "base_uri": "https://localhost:8080/"
        },
        "id": "GY78Z6FhXLs5",
        "outputId": "da9f2618-7395-4633-c13d-1f73df3f44d0"
      },
      "source": [
        "pred=model.predict(test_ds)"
      ],
      "execution_count": 62,
      "outputs": [
        {
          "output_type": "stream",
          "text": [
            "WARNING:tensorflow:Layers in a Sequential model should only have a single input tensor, but we receive a <class 'dict'> input: {'timestamp': <tf.Tensor 'ExpandDims_6:0' shape=(None, 1) dtype=int64>, 'longitude': <tf.Tensor 'ExpandDims_4:0' shape=(None, 1) dtype=float64>, 'latitude': <tf.Tensor 'ExpandDims_3:0' shape=(None, 1) dtype=float64>, 'is_active': <tf.Tensor 'ExpandDims_2:0' shape=(None, 1) dtype=float64>, 'phone_brand': <tf.Tensor 'ExpandDims_5:0' shape=(None, 1) dtype=string>, 'device_model': <tf.Tensor 'ExpandDims_1:0' shape=(None, 1) dtype=string>, 'category': <tf.Tensor 'ExpandDims:0' shape=(None, 1) dtype=string>}\n",
            "Consider rewriting this model with the Functional API.\n"
          ],
          "name": "stdout"
        }
      ]
    },
    {
      "cell_type": "code",
      "metadata": {
        "colab": {
          "base_uri": "https://localhost:8080/",
          "height": 356
        },
        "id": "wg0F_yE1ENSo",
        "outputId": "659f7bfa-5df3-4c92-bf96-ad617dd2204b"
      },
      "source": [
        "results = pd.DataFrame(history.history)\r\n",
        "\r\n",
        "#Split the count plot.\r\n",
        "f, (ax1, ax2) = plt.subplots(ncols = 2, figsize=(20,5))\r\n",
        "plt.suptitle('Results')\r\n",
        "results[['accuracy', 'val_accuracy']].plot(ax=ax1)\r\n",
        "results[['loss', 'val_loss']].plot(ax=ax2)\r\n",
        "plt.show()\r\n",
        "\r\n",
        "\r\n",
        "\r\n",
        "\r\n",
        "\r\n"
      ],
      "execution_count": 69,
      "outputs": [
        {
          "output_type": "display_data",
          "data": {
            "image/png": "[encoded data removed]",
            "text/plain": [
              "<Figure size 1440x360 with 2 Axes>"
            ]
          },
          "metadata": {
            "tags": [],
            "needs_background": "light"
          }
        }
      ]
    },
    {
      "cell_type": "code",
      "metadata": {
        "colab": {
          "base_uri": "https://localhost:8080/"
        },
        "id": "S2imyFVJWwj0",
        "outputId": "700caeef-a8ad-446e-ad9d-9297e4ef2a10"
      },
      "source": [
        "#Fix this to binary class identification. Re-reun classificationo report. \r\n",
        "from sklearn.metrics import classification_report\r\n",
        "\r\n",
        "#predicted_class_indices=np.argmax(pred,axis=-1) \r\n",
        "predicted_class_indices=(pred > 0.5).astype(\"int32\") #binary class identification.\r\n",
        "y_true = test.target\r\n",
        "\r\n",
        "print(classification_report(y_true, \r\n",
        "                            predicted_class_indices))"
      ],
      "execution_count": 63,
      "outputs": [
        {
          "output_type": "stream",
          "text": [
            "              precision    recall  f1-score   support\n",
            "\n",
            "           0       0.97      0.98      0.97   2783809\n",
            "           1       0.94      0.91      0.93   1132332\n",
            "\n",
            "    accuracy                           0.96   3916141\n",
            "   macro avg       0.95      0.95      0.95   3916141\n",
            "weighted avg       0.96      0.96      0.96   3916141\n",
            "\n"
          ],
          "name": "stdout"
        }
      ]
    }
  ]
}