{
  "nbformat": 4,
  "nbformat_minor": 0,
  "metadata": {
    "kernelspec": {
      "display_name": "Python 3",
      "language": "python",
      "name": "python3"
    },
    "language_info": {
      "codemirror_mode": {
        "name": "ipython",
        "version": 3
      },
      "file_extension": ".py",
      "mimetype": "text/x-python",
      "name": "python",
      "nbconvert_exporter": "python",
      "pygments_lexer": "ipython3",
      "version": "3.7.9"
    },
    "colab": {
      "name": "Deep Learning Demographic Prediction.ipynb",
      "provenance": [],
      "collapsed_sections": [
        "ycXn1hp-lCbj",
        "WCF8Kmb_lY5-",
        "hgfombGZZmci",
        "FRJmb3pFS4DE",
        "o2E8Li6OTDCh"
      ]
    },
    "accelerator": "GPU"
  },
  "cells": [
    {
      "cell_type": "markdown",
      "metadata": {
        "id": "ycXn1hp-lCbj"
      },
      "source": [
        "# Head\r\n",
        "*Imports and Functions*"
      ]
    },
    {
      "cell_type": "code",
      "metadata": {
        "id": "CqqDieIbZky6"
      },
      "source": [
        "#if necessary import the model data\n",
        "import numpy as np\n",
        "import pandas as pd\n",
        "import matplotlib.pyplot as plt\n",
        "import seaborn as sns\n",
        "import plotly.express as px\n",
        "\n",
        "from sklearn.preprocessing import OneHotEncoder\n",
        "from sklearn.preprocessing import OrdinalEncoder\n",
        "from sklearn.decomposition import TruncatedSVD \n",
        "from sklearn.model_selection import GridSearchCV\n",
        "from sklearn.feature_selection import SelectKBest\n",
        "\n",
        "\n",
        "import tensorflow as tf\n",
        "from keras.layers import Dense\n",
        "from keras.models import Sequential\n",
        "from tensorflow import feature_column\n",
        "from tensorflow.keras import layers\n",
        "from tensorflow.keras.utils import to_categorical\n",
        "\n",
        "#validation\n",
        "from sklearn.model_selection import cross_val_score\n",
        "from sklearn.model_selection import train_test_split\n",
        "from sklearn.metrics import classification_report\n",
        "from sklearn.metrics import roc_auc_score"
      ],
      "execution_count": 1,
      "outputs": []
    },
    {
      "cell_type": "code",
      "metadata": {
        "id": "peyUQPYc9RsT"
      },
      "source": [
        "def df_to_dataset(dataframe, shuffle=True, batch_size=32):\r\n",
        "  dataframe = dataframe.copy()\r\n",
        "  labels = dataframe.pop('target')\r\n",
        "  ds = tf.data.Dataset.from_tensor_slices((dict(dataframe), labels))\r\n",
        "  if shuffle:\r\n",
        "    ds = ds.shuffle(buffer_size=len(dataframe))\r\n",
        "  ds = ds.batch(batch_size)\r\n",
        "  return ds"
      ],
      "execution_count": 2,
      "outputs": []
    },
    {
      "cell_type": "code",
      "metadata": {
        "id": "nZvgy34OEu1j"
      },
      "source": [
        "# A utility method to create a feature column\r\n",
        "# and to transform a batch of data\r\n",
        "def demo(feature_column):\r\n",
        "  feature_layer = layers.DenseFeatures(feature_column)\r\n",
        "  print(feature_layer(example_batch).numpy())"
      ],
      "execution_count": 3,
      "outputs": []
    },
    {
      "cell_type": "code",
      "metadata": {
        "id": "7mfnhUdtZkzC"
      },
      "source": [
        "#A summary of missing variables represented as a percentage of the total missing content. \n",
        "def null_summary(df, print_log=False, sort='ascending'):\n",
        "    s = df.isnull().sum()*100/df.isnull().count()\n",
        "    \n",
        "    if sort.lower() == 'ascending':\n",
        "        s = s.sort_values(ascending=True)\n",
        "    elif sort.lower() == 'descending':\n",
        "        s = s.sort_values(ascending=False)  \n",
        "    if print_log: \n",
        "        print('Percentage of null values: \\n', s)\n",
        "  \n",
        "    return pd.Series(s)"
      ],
      "execution_count": 4,
      "outputs": []
    },
    {
      "cell_type": "markdown",
      "metadata": {
        "id": "WCF8Kmb_lY5-"
      },
      "source": [
        "# Data Acquisition"
      ]
    },
    {
      "cell_type": "code",
      "metadata": {
        "colab": {
          "base_uri": "https://localhost:8080/",
          "height": 280
        },
        "id": "Sax7FzZ6ZkzC",
        "outputId": "394be866-ed6b-4446-d821-83e115cf7fcd"
      },
      "source": [
        "#get the data\n",
        "talkdata = pd.read_csv('/content/drive/MyDrive/Thinkful/Data/talkdata.csv')\n",
        "#Quick look at the head.\n",
        "talkdata.head()"
      ],
      "execution_count": 7,
      "outputs": [
        {
          "output_type": "execute_result",
          "data": {
            "text/html": [
              "<div>\n",
              "<style scoped>\n",
              "    .dataframe tbody tr th:only-of-type {\n",
              "        vertical-align: middle;\n",
              "    }\n",
              "\n",
              "    .dataframe tbody tr th {\n",
              "        vertical-align: top;\n",
              "    }\n",
              "\n",
              "    .dataframe thead th {\n",
              "        text-align: right;\n",
              "    }\n",
              "</style>\n",
              "<table border=\"1\" class=\"dataframe\">\n",
              "  <thead>\n",
              "    <tr style=\"text-align: right;\">\n",
              "      <th></th>\n",
              "      <th>timestamp</th>\n",
              "      <th>longitude</th>\n",
              "      <th>latitude</th>\n",
              "      <th>coordinates</th>\n",
              "      <th>is_active</th>\n",
              "      <th>phone_brand</th>\n",
              "      <th>device_model</th>\n",
              "      <th>category</th>\n",
              "      <th>gender</th>\n",
              "      <th>age</th>\n",
              "      <th>group</th>\n",
              "    </tr>\n",
              "  </thead>\n",
              "  <tbody>\n",
              "    <tr>\n",
              "      <th>0</th>\n",
              "      <td>2016-05-01 14:23:37</td>\n",
              "      <td>0.0</td>\n",
              "      <td>0.0</td>\n",
              "      <td>(0.0, 0.0)</td>\n",
              "      <td>1.0</td>\n",
              "      <td>小米</td>\n",
              "      <td>MI 2</td>\n",
              "      <td>1 free</td>\n",
              "      <td>M</td>\n",
              "      <td>35</td>\n",
              "      <td>M32-38</td>\n",
              "    </tr>\n",
              "    <tr>\n",
              "      <th>1</th>\n",
              "      <td>2016-05-01 14:23:37</td>\n",
              "      <td>0.0</td>\n",
              "      <td>0.0</td>\n",
              "      <td>(0.0, 0.0)</td>\n",
              "      <td>1.0</td>\n",
              "      <td>小米</td>\n",
              "      <td>MI 2</td>\n",
              "      <td>Cozy 1</td>\n",
              "      <td>M</td>\n",
              "      <td>35</td>\n",
              "      <td>M32-38</td>\n",
              "    </tr>\n",
              "    <tr>\n",
              "      <th>2</th>\n",
              "      <td>2016-05-01 14:23:37</td>\n",
              "      <td>0.0</td>\n",
              "      <td>0.0</td>\n",
              "      <td>(0.0, 0.0)</td>\n",
              "      <td>1.0</td>\n",
              "      <td>小米</td>\n",
              "      <td>MI 2</td>\n",
              "      <td>Industry tag</td>\n",
              "      <td>M</td>\n",
              "      <td>35</td>\n",
              "      <td>M32-38</td>\n",
              "    </tr>\n",
              "    <tr>\n",
              "      <th>3</th>\n",
              "      <td>2016-05-01 14:23:37</td>\n",
              "      <td>0.0</td>\n",
              "      <td>0.0</td>\n",
              "      <td>(0.0, 0.0)</td>\n",
              "      <td>1.0</td>\n",
              "      <td>小米</td>\n",
              "      <td>MI 2</td>\n",
              "      <td>Property Industry 2.0</td>\n",
              "      <td>M</td>\n",
              "      <td>35</td>\n",
              "      <td>M32-38</td>\n",
              "    </tr>\n",
              "    <tr>\n",
              "      <th>4</th>\n",
              "      <td>2016-05-01 14:23:37</td>\n",
              "      <td>0.0</td>\n",
              "      <td>0.0</td>\n",
              "      <td>(0.0, 0.0)</td>\n",
              "      <td>1.0</td>\n",
              "      <td>小米</td>\n",
              "      <td>MI 2</td>\n",
              "      <td>music</td>\n",
              "      <td>M</td>\n",
              "      <td>35</td>\n",
              "      <td>M32-38</td>\n",
              "    </tr>\n",
              "  </tbody>\n",
              "</table>\n",
              "</div>"
            ],
            "text/plain": [
              "             timestamp  longitude  latitude  ... gender  age   group\n",
              "0  2016-05-01 14:23:37        0.0       0.0  ...      M   35  M32-38\n",
              "1  2016-05-01 14:23:37        0.0       0.0  ...      M   35  M32-38\n",
              "2  2016-05-01 14:23:37        0.0       0.0  ...      M   35  M32-38\n",
              "3  2016-05-01 14:23:37        0.0       0.0  ...      M   35  M32-38\n",
              "4  2016-05-01 14:23:37        0.0       0.0  ...      M   35  M32-38\n",
              "\n",
              "[5 rows x 11 columns]"
            ]
          },
          "metadata": {
            "tags": []
          },
          "execution_count": 7
        }
      ]
    },
    {
      "cell_type": "code",
      "metadata": {
        "id": "W3IrpHgiZkzD"
      },
      "source": [
        "#The size and shape of this dataset before categorical changing.\n",
        "talkdata.shape"
      ],
      "execution_count": null,
      "outputs": []
    },
    {
      "cell_type": "code",
      "metadata": {
        "id": "lTj6pLyGZkzE"
      },
      "source": [
        "#Set the timestamp column to a datetime datatype.[Shame on me fo ridding myself of hte epoch timesetamp before I started the Deep learning]\n",
        "talkdata['timestamp'] = pd.to_datetime(talkdata.timestamp)\n",
        "talkdata.timestamp.dtype\n",
        "\n",
        "#create the categorical time columns\n",
        "talkdata['hour'] = talkdata.timestamp.dt.hour\n",
        "talkdata['weekday'] = talkdata.timestamp.dt.dayofweek\n",
        "#get the day of the week as an integer. \n",
        "talkdata['week'] = talkdata.timestamp.dt.isocalendar().week.astype(int)\n",
        "\n",
        "talkdata.describe(include='all', datetime_is_numeric=True)"
      ],
      "execution_count": null,
      "outputs": []
    },
    {
      "cell_type": "code",
      "metadata": {
        "id": "2cuj42MMZkzE"
      },
      "source": [
        "null_summary(talkdata)"
      ],
      "execution_count": null,
      "outputs": []
    },
    {
      "cell_type": "markdown",
      "metadata": {
        "id": "hgfombGZZmci"
      },
      "source": [
        "# Deep Learning - Gender"
      ]
    },
    {
      "cell_type": "markdown",
      "metadata": {
        "id": "qP0LyLXlre0-"
      },
      "source": [
        "## Data Configuration"
      ]
    },
    {
      "cell_type": "code",
      "metadata": {
        "colab": {
          "base_uri": "https://localhost:8080/"
        },
        "id": "OISfJxC9ZkzF",
        "outputId": "0d3e0322-933a-43c8-de4e-fff504dca3c7"
      },
      "source": [
        "#Change the target variable to numeric, zero will represent the male population.\n",
        "talkdata['target'] = np.where(talkdata.gender == \"M\", 0, 1)\n",
        "\n",
        "#This will get converted into a dataset later. \n",
        "X = talkdata.drop(columns=['hour', 'weekday', 'week', 'coordinates', 'gender', 'age', 'group'])\n",
        "#We will be using tensorflow methods to work with the timestamp.\n",
        "X['timestamp'] = talkdata['timestamp'].astype('int64')\n",
        "X.shape"
      ],
      "execution_count": null,
      "outputs": [
        {
          "output_type": "execute_result",
          "data": {
            "text/plain": [
              "(7832282, 8)"
            ]
          },
          "metadata": {
            "tags": []
          },
          "execution_count": 10
        }
      ]
    },
    {
      "cell_type": "code",
      "metadata": {
        "colab": {
          "base_uri": "https://localhost:8080/"
        },
        "id": "El2rtJS7ufKE",
        "outputId": "fee9eb48-4025-4713-b411-a981d9a58e63"
      },
      "source": [
        "train, test = train_test_split(X, test_size=0.5)\r\n",
        "train, val = train_test_split(train, test_size=0.2)\r\n",
        "print(len(train), 'train examples')\r\n",
        "print(len(val), 'validation examples')\r\n",
        "print(len(test), 'test examples')"
      ],
      "execution_count": null,
      "outputs": [
        {
          "output_type": "stream",
          "text": [
            "1566456 train examples\n",
            "391614 validation examples\n",
            "1958071 test examples\n"
          ],
          "name": "stdout"
        }
      ]
    },
    {
      "cell_type": "code",
      "metadata": {
        "colab": {
          "base_uri": "https://localhost:8080/"
        },
        "id": "MUPjfjx9nx0v",
        "outputId": "fb4fab10-132e-4fac-ffcf-f6b7ae5d5ff9"
      },
      "source": [
        "train.shape"
      ],
      "execution_count": null,
      "outputs": [
        {
          "output_type": "execute_result",
          "data": {
            "text/plain": [
              "(1566456, 4)"
            ]
          },
          "metadata": {
            "tags": []
          },
          "execution_count": 33
        }
      ]
    },
    {
      "cell_type": "code",
      "metadata": {
        "id": "uxjNpanL9Z59"
      },
      "source": [
        "batch_size = 5 # A small batch sized is used for demonstration purposes\r\n",
        "train_ds = df_to_dataset(train, batch_size=batch_size)\r\n",
        "val_ds = df_to_dataset(val, shuffle=False, batch_size=batch_size)\r\n",
        "test_ds = df_to_dataset(test, shuffle=False, batch_size=batch_size)"
      ],
      "execution_count": null,
      "outputs": []
    },
    {
      "cell_type": "markdown",
      "metadata": {
        "id": "eJ7L9Ue8KNXD"
      },
      "source": [
        "## Feature Engineering"
      ]
    },
    {
      "cell_type": "code",
      "metadata": {
        "colab": {
          "base_uri": "https://localhost:8080/"
        },
        "id": "tLR4iz70DlSu",
        "outputId": "acd5b15b-1035-4dd8-acbf-088e2bebba79"
      },
      "source": [
        "#Explore the dataset.\r\n",
        "for feature_batch, label_batch in train_ds.take(1):\r\n",
        "  print('Every feature:', list(feature_batch.keys()))\r\n",
        "  print('A batch of ages:', feature_batch['phone_brand'])\r\n",
        "  print('A batch of targets:', label_batch )"
      ],
      "execution_count": null,
      "outputs": [
        {
          "output_type": "stream",
          "text": [
            "Every feature: ['timestamp', 'longitude', 'latitude', 'is_active', 'phone_brand', 'device_model', 'category']\n",
            "A batch of ages: tf.Tensor(\n",
            "[b'OPPO' b'\\xe5\\x8d\\x8e\\xe4\\xb8\\xba' b'\\xe5\\xb0\\x8f\\xe7\\xb1\\xb3'\n",
            " b'\\xe5\\x8d\\x8e\\xe4\\xb8\\xba' b'\\xe9\\xad\\x85\\xe6\\x97\\x8f'], shape=(5,), dtype=string)\n",
            "A batch of targets: tf.Tensor([0 0 0 1 0], shape=(5,), dtype=int64)\n"
          ],
          "name": "stdout"
        }
      ]
    },
    {
      "cell_type": "code",
      "metadata": {
        "id": "lvKWN-ChEVK3"
      },
      "source": [
        "# Taking a look at feature columns\r\n",
        "# We will use this batch to demonstrate several types of feature columns\r\n",
        "example_batch = next(iter(train_ds))[0]"
      ],
      "execution_count": null,
      "outputs": []
    },
    {
      "cell_type": "code",
      "metadata": {
        "id": "y5i8Oavk7l5C"
      },
      "source": [
        "feature_columns = []"
      ],
      "execution_count": null,
      "outputs": []
    },
    {
      "cell_type": "code",
      "metadata": {
        "id": "bHRtoo48F1ot"
      },
      "source": [
        "#Bucketizing these categorical columns that have fewer than 30 features.\r\n",
        "is_active = feature_column.numeric_column('is_active')\r\n",
        "is_active_buckets = feature_column.bucketized_column(is_active, boundaries=[0.])\r\n",
        "feature_columns.append(is_active_buckets)"
      ],
      "execution_count": null,
      "outputs": []
    },
    {
      "cell_type": "code",
      "metadata": {
        "id": "lUDOG1C7T1gh"
      },
      "source": [
        "#Embedding column for my sparse categories. The dimension parameter must be tuned. \r\n",
        "time_cat = feature_column.categorical_column_with_vocabulary_list(\r\n",
        "      'timestamp', X.timestamp.unique())\r\n",
        "time_embedding = feature_column.embedding_column(time_cat, dimension=27)\r\n",
        "feature_columns.append(time_embedding)"
      ],
      "execution_count": null,
      "outputs": []
    },
    {
      "cell_type": "code",
      "metadata": {
        "colab": {
          "base_uri": "https://localhost:8080/"
        },
        "id": "CyCmUn_2KFN4",
        "outputId": "68372d13-3580-4062-8931-29f2a47388b4"
      },
      "source": [
        "#Crossed feature columns - phone_brand and device_model\r\n",
        "device_crossed_feature = feature_column.crossed_column(['device_model', 'phone_brand'], hash_bucket_size=16)\r\n",
        "demo(feature_column.indicator_column(device_crossed_feature))"
      ],
      "execution_count": null,
      "outputs": [
        {
          "output_type": "stream",
          "text": [
            "[[0. 0. 0. 0. 0. 0. 0. 0. 0. 1. 0. 0. 0. 0. 0. 0.]\n",
            " [0. 0. 0. 0. 0. 0. 0. 0. 0. 0. 0. 0. 1. 0. 0. 0.]\n",
            " [0. 0. 0. 1. 0. 0. 0. 0. 0. 0. 0. 0. 0. 0. 0. 0.]\n",
            " [0. 0. 0. 0. 0. 0. 0. 0. 0. 1. 0. 0. 0. 0. 0. 0.]\n",
            " [0. 0. 0. 0. 0. 0. 0. 0. 0. 1. 0. 0. 0. 0. 0. 0.]]\n"
          ],
          "name": "stdout"
        }
      ]
    },
    {
      "cell_type": "code",
      "metadata": {
        "id": "Ftic1fxqQFOC"
      },
      "source": [
        "feature_columns.append(feature_column.indicator_column(device_crossed_feature))"
      ],
      "execution_count": null,
      "outputs": []
    },
    {
      "cell_type": "code",
      "metadata": {
        "colab": {
          "base_uri": "https://localhost:8080/"
        },
        "id": "8xHs_ILwJlr3",
        "outputId": "30be66a1-10db-49d0-b3ad-4208824628f5"
      },
      "source": [
        "#Crossed feature columns - phone_brand and device_model\r\n",
        "coordinates_crossed_feature = feature_column.crossed_column(['latitude', 'longitude'], hash_bucket_size=23)\r\n",
        "demo(feature_column.indicator_column(coordinates_crossed_feature))"
      ],
      "execution_count": null,
      "outputs": [
        {
          "output_type": "stream",
          "text": [
            "[[0. 0. 0. 0. 0. 0. 0. 0. 0. 0. 0. 0. 0. 0. 0. 0. 0. 0. 1. 0. 0. 0. 0.]\n",
            " [0. 0. 0. 0. 0. 0. 0. 0. 0. 0. 0. 0. 0. 0. 1. 0. 0. 0. 0. 0. 0. 0. 0.]\n",
            " [0. 0. 0. 0. 0. 0. 0. 0. 0. 0. 0. 0. 0. 0. 0. 0. 1. 0. 0. 0. 0. 0. 0.]\n",
            " [0. 0. 0. 0. 0. 0. 0. 0. 0. 0. 0. 0. 0. 1. 0. 0. 0. 0. 0. 0. 0. 0. 0.]\n",
            " [0. 0. 1. 0. 0. 0. 0. 0. 0. 0. 0. 0. 0. 0. 0. 0. 0. 0. 0. 0. 0. 0. 0.]]\n"
          ],
          "name": "stdout"
        }
      ]
    },
    {
      "cell_type": "code",
      "metadata": {
        "id": "LB6mQTIJQX4k"
      },
      "source": [
        "feature_columns.append(feature_column.indicator_column(coordinates_crossed_feature))"
      ],
      "execution_count": null,
      "outputs": []
    },
    {
      "cell_type": "code",
      "metadata": {
        "colab": {
          "base_uri": "https://localhost:8080/"
        },
        "id": "oObeKHVKOJjU",
        "outputId": "8b6b5463-7b3c-4a81-9f99-76baaa70004c"
      },
      "source": [
        "#Embedding column for my sparse categories. The dimension parameter must be tuned. \r\n",
        "category = feature_column.categorical_column_with_vocabulary_list(\r\n",
        "      'category', X.category.unique())\r\n",
        "cat_embedding = feature_column.embedding_column(category, dimension=10)\r\n",
        "demo(cat_embedding)"
      ],
      "execution_count": null,
      "outputs": [
        {
          "output_type": "stream",
          "text": [
            "[[-0.30284244  0.36342755  0.03773946 -0.22305723 -0.31661502  0.30962795\n",
            "   0.37174764  0.13541049 -0.29160804  0.012848  ]\n",
            " [-0.04579981 -0.09806786  0.42160332 -0.5138263   0.3396256  -0.45532805\n",
            "   0.47067556 -0.07336164 -0.5509242   0.1753399 ]\n",
            " [ 0.40636963  0.18860018  0.01013719 -0.35508063  0.40849215  0.13797355\n",
            "  -0.5759244  -0.03705606 -0.14496075 -0.41067967]\n",
            " [ 0.0933668   0.17364979 -0.08213485  0.31882548  0.35428745 -0.07178674\n",
            "  -0.429313    0.31991947 -0.11599248 -0.35484403]\n",
            " [ 0.40636963  0.18860018  0.01013719 -0.35508063  0.40849215  0.13797355\n",
            "  -0.5759244  -0.03705606 -0.14496075 -0.41067967]]\n"
          ],
          "name": "stdout"
        }
      ]
    },
    {
      "cell_type": "code",
      "metadata": {
        "id": "kt0cQQAWPjPS"
      },
      "source": [
        "feature_columns.append(cat_embedding)"
      ],
      "execution_count": null,
      "outputs": []
    },
    {
      "cell_type": "code",
      "metadata": {
        "id": "I9RyRFBoQpxK"
      },
      "source": [
        "feature_layer = tf.keras.layers.DenseFeatures(feature_columns)"
      ],
      "execution_count": null,
      "outputs": []
    },
    {
      "cell_type": "markdown",
      "metadata": {
        "id": "lcIBwAP6nADH"
      },
      "source": [
        "## Gender Prediction"
      ]
    },
    {
      "cell_type": "code",
      "metadata": {
        "id": "_rtTQp_aRjsG"
      },
      "source": [
        "batch_size = 32\r\n",
        "train_ds = df_to_dataset(train, batch_size=batch_size)\r\n",
        "val_ds = df_to_dataset(val, shuffle=False, batch_size=batch_size)\r\n",
        "test_ds = df_to_dataset(test, shuffle=False, batch_size=batch_size)"
      ],
      "execution_count": null,
      "outputs": []
    },
    {
      "cell_type": "code",
      "metadata": {
        "colab": {
          "base_uri": "https://localhost:8080/"
        },
        "id": "rhOEL0ImR2uy",
        "outputId": "88b40d32-c822-4173-8b74-04715c17c208"
      },
      "source": [
        "model = tf.keras.Sequential([\r\n",
        "  feature_layer,\r\n",
        "  layers.Dense(128, activation='relu'),\r\n",
        "  layers.Dense(128, activation='relu'),\r\n",
        "  layers.Dropout(.1),\r\n",
        "  layers.Dense(1)\r\n",
        "])\r\n",
        "\r\n",
        "model.compile(optimizer='adam',\r\n",
        "              loss=tf.keras.losses.BinaryCrossentropy(from_logits=True),\r\n",
        "              metrics=['accuracy'])\r\n",
        "\r\n",
        "history = model.fit(train_ds,\r\n",
        "          validation_data=val_ds,\r\n",
        "          epochs=10)"
      ],
      "execution_count": null,
      "outputs": [
        {
          "output_type": "stream",
          "text": [
            "Epoch 1/10\n",
            "WARNING:tensorflow:Layers in a Sequential model should only have a single input tensor, but we receive a <class 'dict'> input: {'timestamp': <tf.Tensor 'ExpandDims_6:0' shape=(None, 1) dtype=int64>, 'longitude': <tf.Tensor 'ExpandDims_4:0' shape=(None, 1) dtype=float64>, 'latitude': <tf.Tensor 'ExpandDims_3:0' shape=(None, 1) dtype=float64>, 'is_active': <tf.Tensor 'ExpandDims_2:0' shape=(None, 1) dtype=float64>, 'phone_brand': <tf.Tensor 'ExpandDims_5:0' shape=(None, 1) dtype=string>, 'device_model': <tf.Tensor 'ExpandDims_1:0' shape=(None, 1) dtype=string>, 'category': <tf.Tensor 'ExpandDims:0' shape=(None, 1) dtype=string>}\n",
            "Consider rewriting this model with the Functional API.\n",
            "WARNING:tensorflow:Layers in a Sequential model should only have a single input tensor, but we receive a <class 'dict'> input: {'timestamp': <tf.Tensor 'ExpandDims_6:0' shape=(None, 1) dtype=int64>, 'longitude': <tf.Tensor 'ExpandDims_4:0' shape=(None, 1) dtype=float64>, 'latitude': <tf.Tensor 'ExpandDims_3:0' shape=(None, 1) dtype=float64>, 'is_active': <tf.Tensor 'ExpandDims_2:0' shape=(None, 1) dtype=float64>, 'phone_brand': <tf.Tensor 'ExpandDims_5:0' shape=(None, 1) dtype=string>, 'device_model': <tf.Tensor 'ExpandDims_1:0' shape=(None, 1) dtype=string>, 'category': <tf.Tensor 'ExpandDims:0' shape=(None, 1) dtype=string>}\n",
            "Consider rewriting this model with the Functional API.\n",
            "97904/97904 [==============================] - ETA: 0s - loss: 0.4891 - accuracy: 0.7595WARNING:tensorflow:Layers in a Sequential model should only have a single input tensor, but we receive a <class 'dict'> input: {'timestamp': <tf.Tensor 'ExpandDims_6:0' shape=(None, 1) dtype=int64>, 'longitude': <tf.Tensor 'ExpandDims_4:0' shape=(None, 1) dtype=float64>, 'latitude': <tf.Tensor 'ExpandDims_3:0' shape=(None, 1) dtype=float64>, 'is_active': <tf.Tensor 'ExpandDims_2:0' shape=(None, 1) dtype=float64>, 'phone_brand': <tf.Tensor 'ExpandDims_5:0' shape=(None, 1) dtype=string>, 'device_model': <tf.Tensor 'ExpandDims_1:0' shape=(None, 1) dtype=string>, 'category': <tf.Tensor 'ExpandDims:0' shape=(None, 1) dtype=string>}\n",
            "Consider rewriting this model with the Functional API.\n",
            "97904/97904 [==============================] - 1242s 13ms/step - loss: 0.4891 - accuracy: 0.7595 - val_loss: 0.2456 - val_accuracy: 0.8932\n",
            "Epoch 2/10\n",
            "97904/97904 [==============================] - 1234s 13ms/step - loss: 0.1463 - accuracy: 0.9403 - val_loss: 0.1714 - val_accuracy: 0.9295\n",
            "Epoch 3/10\n",
            "97904/97904 [==============================] - 1217s 12ms/step - loss: 0.0771 - accuracy: 0.9704 - val_loss: 0.1499 - val_accuracy: 0.9424\n",
            "Epoch 4/10\n",
            "97904/97904 [==============================] - 1247s 13ms/step - loss: 0.0516 - accuracy: 0.9811 - val_loss: 0.1387 - val_accuracy: 0.9489\n",
            "Epoch 5/10\n",
            "97904/97904 [==============================] - 1205s 12ms/step - loss: 0.0394 - accuracy: 0.9862 - val_loss: 0.1330 - val_accuracy: 0.9523\n",
            "Epoch 6/10\n",
            "97904/97904 [==============================] - 1198s 12ms/step - loss: 0.0321 - accuracy: 0.9892 - val_loss: 0.1324 - val_accuracy: 0.9541\n",
            "Epoch 7/10\n",
            "97904/97904 [==============================] - 1198s 12ms/step - loss: 0.0272 - accuracy: 0.9912 - val_loss: 0.1281 - val_accuracy: 0.9552\n",
            "Epoch 8/10\n",
            "97904/97904 [==============================] - 1199s 12ms/step - loss: 0.0241 - accuracy: 0.9923 - val_loss: 0.1222 - val_accuracy: 0.9562\n",
            "Epoch 9/10\n",
            "97904/97904 [==============================] - 1207s 12ms/step - loss: 0.0219 - accuracy: 0.9932 - val_loss: 0.1236 - val_accuracy: 0.9577\n",
            "Epoch 10/10\n",
            "97904/97904 [==============================] - 1266s 13ms/step - loss: 0.0206 - accuracy: 0.9936 - val_loss: 0.1259 - val_accuracy: 0.9566\n"
          ],
          "name": "stdout"
        }
      ]
    },
    {
      "cell_type": "markdown",
      "metadata": {
        "id": "JZFZJUsAnknW"
      },
      "source": [
        "## Evaluation on Gender Prediction"
      ]
    },
    {
      "cell_type": "code",
      "metadata": {
        "colab": {
          "base_uri": "https://localhost:8080/"
        },
        "id": "GY78Z6FhXLs5",
        "outputId": "05f3de34-ddd2-45fa-83f0-7ac34b623c82"
      },
      "source": [
        "pred=model.predict(test_ds)"
      ],
      "execution_count": null,
      "outputs": [
        {
          "output_type": "stream",
          "text": [
            "WARNING:tensorflow:Layers in a Sequential model should only have a single input tensor, but we receive a <class 'dict'> input: {'timestamp': <tf.Tensor 'ExpandDims_6:0' shape=(None, 1) dtype=int64>, 'longitude': <tf.Tensor 'ExpandDims_4:0' shape=(None, 1) dtype=float64>, 'latitude': <tf.Tensor 'ExpandDims_3:0' shape=(None, 1) dtype=float64>, 'is_active': <tf.Tensor 'ExpandDims_2:0' shape=(None, 1) dtype=float64>, 'phone_brand': <tf.Tensor 'ExpandDims_5:0' shape=(None, 1) dtype=string>, 'device_model': <tf.Tensor 'ExpandDims_1:0' shape=(None, 1) dtype=string>, 'category': <tf.Tensor 'ExpandDims:0' shape=(None, 1) dtype=string>}\n",
            "Consider rewriting this model with the Functional API.\n"
          ],
          "name": "stdout"
        }
      ]
    },
    {
      "cell_type": "code",
      "metadata": {
        "colab": {
          "base_uri": "https://localhost:8080/",
          "height": 356
        },
        "id": "wg0F_yE1ENSo",
        "outputId": "fd112bfd-bdf1-41d4-d9ec-cf0b201bef48"
      },
      "source": [
        "results = pd.DataFrame(history.history)\r\n",
        "\r\n",
        "#Split the count plot.\r\n",
        "f, (ax1, ax2) = plt.subplots(ncols = 2, figsize=(20,5))\r\n",
        "plt.suptitle('Results')\r\n",
        "results[['accuracy', 'val_accuracy']].plot(ax=ax1)\r\n",
        "results[['loss', 'val_loss']].plot(ax=ax2)\r\n",
        "plt.show()"
      ],
      "execution_count": null,
      "outputs": [
        {
          "output_type": "display_data",
          "data": {
            "image/png": "[encoded data removed]",
            "text/plain": [
              "<Figure size 1440x360 with 2 Axes>"
            ]
          },
          "metadata": {
            "tags": [],
            "needs_background": "light"
          }
        }
      ]
    },
    {
      "cell_type": "code",
      "metadata": {
        "colab": {
          "base_uri": "https://localhost:8080/"
        },
        "id": "S2imyFVJWwj0",
        "outputId": "a9017c37-af80-4194-ece3-d0d255295ffc"
      },
      "source": [
        "#Fix this to binary class identification. Re-reun classificationo report. \r\n",
        "from sklearn.metrics import classification_report\r\n",
        "\r\n",
        "#predicted_class_indices=np.argmax(pred,axis=-1) \r\n",
        "predicted_class_indices=(pred > 0.5).astype(\"int32\") #binary class identification.\r\n",
        "y_true = test.target\r\n",
        "\r\n",
        "print(classification_report(y_true, \r\n",
        "                            predicted_class_indices))"
      ],
      "execution_count": null,
      "outputs": [
        {
          "output_type": "stream",
          "text": [
            "              precision    recall  f1-score   support\n",
            "\n",
            "           0       0.97      0.97      0.97   2783293\n",
            "           1       0.92      0.93      0.92   1132848\n",
            "\n",
            "    accuracy                           0.96   3916141\n",
            "   macro avg       0.95      0.95      0.95   3916141\n",
            "weighted avg       0.96      0.96      0.96   3916141\n",
            "\n"
          ],
          "name": "stdout"
        }
      ]
    },
    {
      "cell_type": "code",
      "metadata": {
        "id": "3ZmzrBY-oyqO"
      },
      "source": [
        "# Save the model; in case I need to re-predict everything. \r\n",
        "model.save('/content/drive/MyDrive/Thinkful/Data/gender_predictor.h5')"
      ],
      "execution_count": null,
      "outputs": []
    },
    {
      "cell_type": "code",
      "metadata": {
        "colab": {
          "base_uri": "https://localhost:8080/",
          "height": 404
        },
        "id": "u1DInW-eZdcT",
        "outputId": "6c67aec7-e738-4f9b-b457-79ea0bf4860d"
      },
      "source": [
        "data = test.copy()\r\n",
        "data['pred_gender'] = predicted_class_indices\r\n",
        "data[data.target != data.pred_gender]"
      ],
      "execution_count": null,
      "outputs": [
        {
          "output_type": "execute_result",
          "data": {
            "text/html": [
              "<div>\n",
              "<style scoped>\n",
              "    .dataframe tbody tr th:only-of-type {\n",
              "        vertical-align: middle;\n",
              "    }\n",
              "\n",
              "    .dataframe tbody tr th {\n",
              "        vertical-align: top;\n",
              "    }\n",
              "\n",
              "    .dataframe thead th {\n",
              "        text-align: right;\n",
              "    }\n",
              "</style>\n",
              "<table border=\"1\" class=\"dataframe\">\n",
              "  <thead>\n",
              "    <tr style=\"text-align: right;\">\n",
              "      <th></th>\n",
              "      <th>timestamp</th>\n",
              "      <th>longitude</th>\n",
              "      <th>latitude</th>\n",
              "      <th>is_active</th>\n",
              "      <th>phone_brand</th>\n",
              "      <th>device_model</th>\n",
              "      <th>category</th>\n",
              "      <th>target</th>\n",
              "      <th>pred_gender</th>\n",
              "    </tr>\n",
              "  </thead>\n",
              "  <tbody>\n",
              "    <tr>\n",
              "      <th>4181528</th>\n",
              "      <td>1462638793000000000</td>\n",
              "      <td>0.00</td>\n",
              "      <td>0.00</td>\n",
              "      <td>1.0</td>\n",
              "      <td>华为</td>\n",
              "      <td>荣耀6</td>\n",
              "      <td>Industry tag</td>\n",
              "      <td>1</td>\n",
              "      <td>0</td>\n",
              "    </tr>\n",
              "    <tr>\n",
              "      <th>5781197</th>\n",
              "      <td>1462437418000000000</td>\n",
              "      <td>121.88</td>\n",
              "      <td>41.13</td>\n",
              "      <td>0.0</td>\n",
              "      <td>小米</td>\n",
              "      <td>MI 4</td>\n",
              "      <td>Cozy 1</td>\n",
              "      <td>1</td>\n",
              "      <td>0</td>\n",
              "    </tr>\n",
              "    <tr>\n",
              "      <th>1545531</th>\n",
              "      <td>1462386842000000000</td>\n",
              "      <td>113.99</td>\n",
              "      <td>23.06</td>\n",
              "      <td>1.0</td>\n",
              "      <td>华为</td>\n",
              "      <td>荣耀6</td>\n",
              "      <td>Property Industry 1.0</td>\n",
              "      <td>1</td>\n",
              "      <td>0</td>\n",
              "    </tr>\n",
              "    <tr>\n",
              "      <th>900344</th>\n",
              "      <td>1462558317000000000</td>\n",
              "      <td>0.00</td>\n",
              "      <td>0.00</td>\n",
              "      <td>1.0</td>\n",
              "      <td>小米</td>\n",
              "      <td>小米4C</td>\n",
              "      <td>Industry tag</td>\n",
              "      <td>0</td>\n",
              "      <td>1</td>\n",
              "    </tr>\n",
              "    <tr>\n",
              "      <th>5202373</th>\n",
              "      <td>1462487383000000000</td>\n",
              "      <td>0.00</td>\n",
              "      <td>0.00</td>\n",
              "      <td>1.0</td>\n",
              "      <td>华为</td>\n",
              "      <td>Mate 7</td>\n",
              "      <td>Industry tag</td>\n",
              "      <td>1</td>\n",
              "      <td>0</td>\n",
              "    </tr>\n",
              "    <tr>\n",
              "      <th>...</th>\n",
              "      <td>...</td>\n",
              "      <td>...</td>\n",
              "      <td>...</td>\n",
              "      <td>...</td>\n",
              "      <td>...</td>\n",
              "      <td>...</td>\n",
              "      <td>...</td>\n",
              "      <td>...</td>\n",
              "      <td>...</td>\n",
              "    </tr>\n",
              "    <tr>\n",
              "      <th>581560</th>\n",
              "      <td>1462109834000000000</td>\n",
              "      <td>116.37</td>\n",
              "      <td>35.28</td>\n",
              "      <td>1.0</td>\n",
              "      <td>小米</td>\n",
              "      <td>红米Note2</td>\n",
              "      <td>unknown</td>\n",
              "      <td>1</td>\n",
              "      <td>0</td>\n",
              "    </tr>\n",
              "    <tr>\n",
              "      <th>6406919</th>\n",
              "      <td>1462551237000000000</td>\n",
              "      <td>0.00</td>\n",
              "      <td>0.00</td>\n",
              "      <td>0.0</td>\n",
              "      <td>魅族</td>\n",
              "      <td>MX2</td>\n",
              "      <td>unknown</td>\n",
              "      <td>0</td>\n",
              "      <td>1</td>\n",
              "    </tr>\n",
              "    <tr>\n",
              "      <th>4131637</th>\n",
              "      <td>1462478383000000000</td>\n",
              "      <td>0.00</td>\n",
              "      <td>0.00</td>\n",
              "      <td>0.0</td>\n",
              "      <td>三星</td>\n",
              "      <td>Galaxy Core Max</td>\n",
              "      <td>Finance</td>\n",
              "      <td>0</td>\n",
              "      <td>1</td>\n",
              "    </tr>\n",
              "    <tr>\n",
              "      <th>6458118</th>\n",
              "      <td>1462465110000000000</td>\n",
              "      <td>0.00</td>\n",
              "      <td>0.00</td>\n",
              "      <td>0.0</td>\n",
              "      <td>小米</td>\n",
              "      <td>MI 2A</td>\n",
              "      <td>1 free</td>\n",
              "      <td>1</td>\n",
              "      <td>0</td>\n",
              "    </tr>\n",
              "    <tr>\n",
              "      <th>2914182</th>\n",
              "      <td>1462360268000000000</td>\n",
              "      <td>121.54</td>\n",
              "      <td>31.25</td>\n",
              "      <td>1.0</td>\n",
              "      <td>华为</td>\n",
              "      <td>Mate 7</td>\n",
              "      <td>Services 1</td>\n",
              "      <td>1</td>\n",
              "      <td>0</td>\n",
              "    </tr>\n",
              "  </tbody>\n",
              "</table>\n",
              "<p>170529 rows × 9 columns</p>\n",
              "</div>"
            ],
            "text/plain": [
              "                   timestamp  longitude  ...  target  pred_gender\n",
              "4181528  1462638793000000000       0.00  ...       1            0\n",
              "5781197  1462437418000000000     121.88  ...       1            0\n",
              "1545531  1462386842000000000     113.99  ...       1            0\n",
              "900344   1462558317000000000       0.00  ...       0            1\n",
              "5202373  1462487383000000000       0.00  ...       1            0\n",
              "...                      ...        ...  ...     ...          ...\n",
              "581560   1462109834000000000     116.37  ...       1            0\n",
              "6406919  1462551237000000000       0.00  ...       0            1\n",
              "4131637  1462478383000000000       0.00  ...       0            1\n",
              "6458118  1462465110000000000       0.00  ...       1            0\n",
              "2914182  1462360268000000000     121.54  ...       1            0\n",
              "\n",
              "[170529 rows x 9 columns]"
            ]
          },
          "metadata": {
            "tags": []
          },
          "execution_count": 41
        }
      ]
    },
    {
      "cell_type": "code",
      "metadata": {
        "id": "CqKHxL5WaOL_"
      },
      "source": [
        "#I don't know which is better; to predict on the saved prediction model or to call everything from a zip file. The zip file is good for coding and testing.\r\n",
        "# Saving and recalling/relearning on the model is better for new data. I'm exporting to zip for now in the interest of saving time, but for the purpose of a product; it may be better\r\n",
        "#to work from the prediction model.\r\n",
        "data.to_csv('/content/drive/MyDrive/Thinkful/Data/gender.csv', compression='zip')"
      ],
      "execution_count": null,
      "outputs": []
    },
    {
      "cell_type": "markdown",
      "metadata": {
        "id": "JT3pNY76nrxo"
      },
      "source": [
        "# Deep Learning - Group Classification "
      ]
    },
    {
      "cell_type": "code",
      "metadata": {
        "id": "GLgNs65IrDXJ"
      },
      "source": [
        "data = pd.read_csv('/content/drive/MyDrive/Thinkful/Data/gender.csv', compression='zip', index_col=0)"
      ],
      "execution_count": null,
      "outputs": []
    },
    {
      "cell_type": "code",
      "metadata": {
        "id": "XKYKVgUp0c6p"
      },
      "source": [
        "data.target = talkdata['group']"
      ],
      "execution_count": 9,
      "outputs": []
    },
    {
      "cell_type": "markdown",
      "metadata": {
        "id": "FRJmb3pFS4DE"
      },
      "source": [
        "## improper fitting\r\n",
        "\r\n",
        "*for learning purposes, this model was originally fit without standard encoding techniques. I have kept this around in case anyone wants a look at the difference.*"
      ]
    },
    {
      "cell_type": "code",
      "metadata": {
        "id": "6EZCLZxIm7wW",
        "colab": {
          "base_uri": "https://localhost:8080/"
        },
        "outputId": "64438acb-3b85-426a-af11-263ea2ac1f9c"
      },
      "source": [
        "# Number of components\r\n",
        "k = 5000\r\n",
        "#Number of samples\r\n",
        "n = 1000000\r\n",
        "#Take a sample of the data.\r\n",
        "sample = data.sample(n=n)\r\n",
        "\r\n",
        "#Ordinal encode and translate to categorical.\r\n",
        "oec = OrdinalEncoder()\r\n",
        "y = oec.fit_transform(sample['target'].values.reshape(-1,1))\r\n",
        "\r\n",
        "#Assign the target variable.\r\n",
        "X = sample.drop(columns=['target'])\r\n",
        "\r\n",
        "#One hot encode.\r\n",
        "enc = OneHotEncoder()\r\n",
        "X_enc = enc.fit_transform(X, y)\r\n",
        "\r\n",
        "#Tranfrom the components.\r\n",
        "skb = SelectKBest(k=k)\r\n",
        "X_skb = skb.fit_transform(X_enc, y.ravel())\r\n",
        "\r\n",
        "#Convert target to categorical\r\n",
        "y = tf.keras.utils.to_categorical(y)\r\n",
        "\r\n",
        "#split the data.\r\n",
        "X_train, X_test, y_train, y_test = train_test_split(X_skb, y, test_size=0.2)\r\n",
        "print(f'Shape of training: {X_train.shape} {y_train.shape} \\n Shape of Test: {X_test.shape}, {y_test.shape}')"
      ],
      "execution_count": null,
      "outputs": [
        {
          "output_type": "stream",
          "text": [
            "Shape of training: (800000, 5000) (800000, 12) \n",
            " Shape of Test: (200000, 5000), (200000, 12)\n"
          ],
          "name": "stdout"
        }
      ]
    },
    {
      "cell_type": "code",
      "metadata": {
        "id": "11N0yEYkwmW0"
      },
      "source": [
        "model = Sequential()\r\n",
        "\r\n",
        "model.add(Dense(64, input_dim=X_train.shape[1], activation='relu'))\r\n",
        "model.add(Dense(64, activation='relu'))\r\n",
        "model.add(Dense(y_train.shape[1], activation='softmax'))\r\n",
        "\r\n"
      ],
      "execution_count": null,
      "outputs": []
    },
    {
      "cell_type": "code",
      "metadata": {
        "colab": {
          "base_uri": "https://localhost:8080/"
        },
        "id": "KkyYHidnwmW0",
        "outputId": "ddc9f40c-1a24-4980-b1d1-835bc338cbaa"
      },
      "source": [
        "model.compile(optimizer='adam', \r\n",
        "              loss='categorical_crossentropy', \r\n",
        "              metrics=['accuracy'])\r\n",
        "\r\n",
        "model.fit(X_train, y_train, validation_data=(X_test, y_test), epochs=10, batch_size=64)"
      ],
      "execution_count": null,
      "outputs": [
        {
          "output_type": "stream",
          "text": [
            "Epoch 1/10\n",
            "12500/12500 [==============================] - 43s 3ms/step - loss: 1.0902 - accuracy: 0.6236 - val_loss: 0.6710 - val_accuracy: 0.7662\n",
            "Epoch 2/10\n",
            "12500/12500 [==============================] - 42s 3ms/step - loss: 0.6277 - accuracy: 0.7749 - val_loss: 0.6041 - val_accuracy: 0.7840\n",
            "Epoch 3/10\n",
            "12500/12500 [==============================] - 41s 3ms/step - loss: 0.5651 - accuracy: 0.7929 - val_loss: 0.5810 - val_accuracy: 0.7903\n",
            "Epoch 4/10\n",
            "12500/12500 [==============================] - 41s 3ms/step - loss: 0.5385 - accuracy: 0.8008 - val_loss: 0.5690 - val_accuracy: 0.7932\n",
            "Epoch 5/10\n",
            "12500/12500 [==============================] - 42s 3ms/step - loss: 0.5278 - accuracy: 0.8030 - val_loss: 0.5616 - val_accuracy: 0.7978\n",
            "Epoch 6/10\n",
            "12500/12500 [==============================] - 40s 3ms/step - loss: 0.5210 - accuracy: 0.8051 - val_loss: 0.5587 - val_accuracy: 0.7970\n",
            "Epoch 7/10\n",
            "12500/12500 [==============================] - 42s 3ms/step - loss: 0.5145 - accuracy: 0.8064 - val_loss: 0.5566 - val_accuracy: 0.8003\n",
            "Epoch 8/10\n",
            "12500/12500 [==============================] - 41s 3ms/step - loss: 0.5106 - accuracy: 0.8069 - val_loss: 0.5567 - val_accuracy: 0.8010\n",
            "Epoch 9/10\n",
            "12500/12500 [==============================] - 41s 3ms/step - loss: 0.5080 - accuracy: 0.8085 - val_loss: 0.5578 - val_accuracy: 0.8004\n",
            "Epoch 10/10\n",
            "12500/12500 [==============================] - 41s 3ms/step - loss: 0.5056 - accuracy: 0.8087 - val_loss: 0.5585 - val_accuracy: 0.8006\n"
          ],
          "name": "stdout"
        },
        {
          "output_type": "execute_result",
          "data": {
            "text/plain": [
              "<tensorflow.python.keras.callbacks.History at 0x7f46a3ce5240>"
            ]
          },
          "metadata": {
            "tags": []
          },
          "execution_count": 179
        }
      ]
    },
    {
      "cell_type": "code",
      "metadata": {
        "id": "fEE19kpi7vAs",
        "colab": {
          "base_uri": "https://localhost:8080/"
        },
        "outputId": "e4ebbe07-ff87-4b2c-8387-0ec040b02ed6"
      },
      "source": [
        "#Fix this to binary class identification. Re-reun classificationo report. \r\n",
        "from sklearn.metrics import classification_report\r\n",
        "pred = model.predict(X_test)\r\n",
        "predicted_class_indices=np.argmax(pred,axis=-1) \r\n",
        "#predicted_class_indices=(pred > 0.5).astype(\"int32\") #binary class identification.\r\n",
        "y_true = [np.argmax(n) for n in y_test]\r\n",
        "print(classification_report(y_true, \r\n",
        "                            predicted_class_indices))"
      ],
      "execution_count": null,
      "outputs": [
        {
          "output_type": "stream",
          "text": [
            "              precision    recall  f1-score   support\n",
            "\n",
            "           0       0.78      0.77      0.77      7333\n",
            "           1       0.87      0.72      0.79      7646\n",
            "           2       0.88      0.75      0.81      6816\n",
            "           3       0.78      0.74      0.76      9488\n",
            "           4       0.75      0.82      0.78     14528\n",
            "           5       0.76      0.83      0.79     12408\n",
            "           6       0.82      0.75      0.78     12178\n",
            "           7       0.85      0.77      0.81     22390\n",
            "           8       0.92      0.74      0.82     14698\n",
            "           9       0.86      0.79      0.82     23111\n",
            "          10       0.81      0.82      0.81     34426\n",
            "          11       0.73      0.89      0.80     34978\n",
            "\n",
            "    accuracy                           0.80    200000\n",
            "   macro avg       0.82      0.78      0.80    200000\n",
            "weighted avg       0.81      0.80      0.80    200000\n",
            "\n"
          ],
          "name": "stdout"
        }
      ]
    },
    {
      "cell_type": "markdown",
      "metadata": {
        "id": "o2E8Li6OTDCh"
      },
      "source": [
        "## Proper Fitting"
      ]
    },
    {
      "cell_type": "code",
      "metadata": {
        "id": "GhonlXqbBGXZ"
      },
      "source": [
        "# Number of components\r\n",
        "k = 10000\r\n",
        "\r\n",
        "#For sampling\r\n",
        "#n = 1000000\r\n",
        "#Take a sample of the data.\r\n",
        "#sample = data.sample(n=n)\r\n",
        "\r\n",
        "#for working with all data.\r\n",
        "sample = data.copy()"
      ],
      "execution_count": null,
      "outputs": []
    },
    {
      "cell_type": "code",
      "metadata": {
        "id": "DxzwWUwtVIxk"
      },
      "source": [
        "y = sample['target']\r\n",
        "\r\n",
        "#Assign the target variable.\r\n",
        "X = sample.drop(columns=['target'])"
      ],
      "execution_count": null,
      "outputs": []
    },
    {
      "cell_type": "code",
      "metadata": {
        "colab": {
          "base_uri": "https://localhost:8080/"
        },
        "id": "Z6nFq0S-Uxlk",
        "outputId": "c6fb09c2-4643-4a3f-8c85-32d9af151eea"
      },
      "source": [
        "#split the data.\r\n",
        "X_train, X_test, y_train, y_test = train_test_split(X, y, test_size=0.2)\r\n",
        "X_train, X_val, y_train, y_val = train_test_split(X_train, y_train, test_size=0.2)\r\n",
        "print(f'Shape of training: {X_train.shape} {y_train.shape}')\r\n",
        "print(f'Shape of validation: {X_val.shape} {y_val.shape}')\r\n",
        "print(f'Shape of Test: {X_test.shape}, {y_test.shape}')"
      ],
      "execution_count": null,
      "outputs": [
        {
          "output_type": "stream",
          "text": [
            "Shape of training: (2506329, 8) (2506329,)\n",
            "Shape of validation: (626583, 8) (626583,)\n",
            "Shape of Test: (783229, 8), (783229,)\n"
          ],
          "name": "stdout"
        }
      ]
    },
    {
      "cell_type": "code",
      "metadata": {
        "id": "kN3Y3huiU8Nb"
      },
      "source": [
        "#Ordinal encode and translate to categorical.\r\n",
        "oec = OrdinalEncoder()\r\n",
        "y_train = oec.fit_transform(y_train.values.reshape(-1,1))\r\n",
        "y_test = oec.transform(y_test.values.reshape(-1,1))\r\n",
        "y_val = oec.transform(y_val.values.reshape(-1,1))"
      ],
      "execution_count": null,
      "outputs": []
    },
    {
      "cell_type": "code",
      "metadata": {
        "id": "8hH-xCYlTAoN"
      },
      "source": [
        "#One hot encode.\r\n",
        "enc = OneHotEncoder(handle_unknown='ignore')\r\n",
        "X_train = enc.fit_transform(X_train, y_train)\r\n",
        "X_test = enc.transform(X_test)\r\n",
        "X_val = enc.transform(X_val)\r\n",
        "\r\n",
        "#Tranfrom the components.\r\n",
        "skb = SelectKBest(k=k)\r\n",
        "X_train = skb.fit_transform(X_train, y_train.ravel())\r\n",
        "X_test = skb.transform(X_test)\r\n",
        "X_val = skb.transform(X_val)\r\n",
        "\r\n",
        "#Convert target to categorical\r\n",
        "y_train = tf.keras.utils.to_categorical(y_train)\r\n",
        "y_test = tf.keras.utils.to_categorical(y_test)\r\n",
        "y_val = tf.keras.utils.to_categorical(y_val)"
      ],
      "execution_count": null,
      "outputs": []
    },
    {
      "cell_type": "code",
      "metadata": {
        "id": "bxQ8esuKUppR"
      },
      "source": [
        "model = Sequential()\r\n",
        "\r\n",
        "model.add(Dense(64, input_dim=X_train.shape[1], activation='relu'))\r\n",
        "model.add(Dense(64, activation='relu'))\r\n",
        "model.add(Dense(y_train.shape[1], activation='softmax'))"
      ],
      "execution_count": null,
      "outputs": []
    },
    {
      "cell_type": "code",
      "metadata": {
        "colab": {
          "base_uri": "https://localhost:8080/"
        },
        "id": "FuoPuL0AWAWN",
        "outputId": "eef46ea2-e0e0-41fa-b037-af97ed2afbc0"
      },
      "source": [
        "model.compile(optimizer='adam', \r\n",
        "              loss='categorical_crossentropy', \r\n",
        "              metrics=['accuracy'])\r\n",
        "\r\n",
        "history = model.fit(X_train, y_train, validation_data=(X_val, y_val), epochs=10, batch_size=64)"
      ],
      "execution_count": null,
      "outputs": [
        {
          "output_type": "stream",
          "text": [
            "Epoch 1/10\n",
            "39162/39162 [==============================] - 128s 3ms/step - loss: 0.8537 - accuracy: 0.7049 - val_loss: 0.5523 - val_accuracy: 0.7977\n",
            "Epoch 2/10\n",
            "39162/39162 [==============================] - 128s 3ms/step - loss: 0.5326 - accuracy: 0.8034 - val_loss: 0.5266 - val_accuracy: 0.8048\n",
            "Epoch 3/10\n",
            "39162/39162 [==============================] - 128s 3ms/step - loss: 0.5115 - accuracy: 0.8092 - val_loss: 0.5176 - val_accuracy: 0.8079\n",
            "Epoch 4/10\n",
            "39162/39162 [==============================] - 128s 3ms/step - loss: 0.5036 - accuracy: 0.8116 - val_loss: 0.5131 - val_accuracy: 0.8082\n",
            "Epoch 5/10\n",
            "39162/39162 [==============================] - 129s 3ms/step - loss: 0.4996 - accuracy: 0.8126 - val_loss: 0.5104 - val_accuracy: 0.8095\n",
            "Epoch 6/10\n",
            "39162/39162 [==============================] - 132s 3ms/step - loss: 0.4957 - accuracy: 0.8136 - val_loss: 0.5072 - val_accuracy: 0.8108\n",
            "Epoch 7/10\n",
            "39162/39162 [==============================] - 131s 3ms/step - loss: 0.4936 - accuracy: 0.8143 - val_loss: 0.5069 - val_accuracy: 0.8108\n",
            "Epoch 8/10\n",
            "39162/39162 [==============================] - 129s 3ms/step - loss: 0.4923 - accuracy: 0.8146 - val_loss: 0.5075 - val_accuracy: 0.8105\n",
            "Epoch 9/10\n",
            "39162/39162 [==============================] - 128s 3ms/step - loss: 0.4923 - accuracy: 0.8143 - val_loss: 0.5079 - val_accuracy: 0.8098\n",
            "Epoch 10/10\n",
            "39162/39162 [==============================] - 131s 3ms/step - loss: 0.4916 - accuracy: 0.8146 - val_loss: 0.5062 - val_accuracy: 0.8111\n"
          ],
          "name": "stdout"
        }
      ]
    },
    {
      "cell_type": "code",
      "metadata": {
        "colab": {
          "base_uri": "https://localhost:8080/",
          "height": 356
        },
        "id": "8hmF_TqUWEs3",
        "outputId": "ff028485-83fe-4337-987b-9203a67f1376"
      },
      "source": [
        "results = pd.DataFrame(history.history)\r\n",
        "\r\n",
        "#Split the count plot.\r\n",
        "f, (ax1, ax2) = plt.subplots(ncols = 2, figsize=(20,5))\r\n",
        "plt.suptitle('Results')\r\n",
        "results[['accuracy', 'val_accuracy']].plot(ax=ax1)\r\n",
        "results[['loss', 'val_loss']].plot(ax=ax2)\r\n",
        "plt.show()"
      ],
      "execution_count": null,
      "outputs": [
        {
          "output_type": "display_data",
          "data": {
            "image/png": "[encoded data removed]",
            "text/plain": [
              "<Figure size 1440x360 with 2 Axes>"
            ]
          },
          "metadata": {
            "tags": [],
            "needs_background": "light"
          }
        }
      ]
    },
    {
      "cell_type": "code",
      "metadata": {
        "colab": {
          "base_uri": "https://localhost:8080/"
        },
        "id": "mt-aqVnQX6x3",
        "outputId": "db99db84-44df-4ee8-ca07-c20507cb921b"
      },
      "source": [
        "# get the predictions against the test dataset as whole numbers.\r\n",
        "pred = model.predict(X_test)\r\n",
        "predicted_class_indices=np.argmax(pred,axis=-1) \r\n",
        "# revert the categorical data into ordinal data. \r\n",
        "y_true = [np.argmax(n) for n in y_test]\r\n",
        "\r\n",
        "\r\n",
        "print(classification_report(y_true, \r\n",
        "                            predicted_class_indices))"
      ],
      "execution_count": null,
      "outputs": [
        {
          "output_type": "stream",
          "text": [
            "              precision    recall  f1-score   support\n",
            "\n",
            "           0       0.82      0.77      0.80     28161\n",
            "           1       0.92      0.73      0.81     29417\n",
            "           2       0.91      0.77      0.83     26615\n",
            "           3       0.80      0.76      0.78     36980\n",
            "           4       0.71      0.88      0.78     56840\n",
            "           5       0.83      0.82      0.83     48314\n",
            "           6       0.90      0.73      0.81     47924\n",
            "           7       0.80      0.81      0.80     89106\n",
            "           8       0.93      0.74      0.83     57048\n",
            "           9       0.89      0.80      0.84     90571\n",
            "          10       0.81      0.83      0.82    136368\n",
            "          11       0.73      0.89      0.80    135885\n",
            "\n",
            "    accuracy                           0.81    783229\n",
            "   macro avg       0.84      0.79      0.81    783229\n",
            "weighted avg       0.82      0.81      0.81    783229\n",
            "\n"
          ],
          "name": "stdout"
        }
      ]
    },
    {
      "cell_type": "code",
      "metadata": {
        "id": "eDj6PG8ZYUef"
      },
      "source": [
        ""
      ],
      "execution_count": null,
      "outputs": []
    },
    {
      "cell_type": "markdown",
      "metadata": {
        "id": "bG0W_vvaffAm"
      },
      "source": [
        "## Enhancing"
      ]
    },
    {
      "cell_type": "code",
      "metadata": {
        "id": "FaT4H2mIffAq"
      },
      "source": [
        "# Number of components\r\n",
        "k = 'all'\r\n",
        "\r\n",
        "#For sampling\r\n",
        "#n = 1000000\r\n",
        "#Take a sample of the data.\r\n",
        "#sample = data.sample(n=n)\r\n",
        "\r\n",
        "#for working with all data.\r\n",
        "sample = data.copy()"
      ],
      "execution_count": 10,
      "outputs": []
    },
    {
      "cell_type": "code",
      "metadata": {
        "id": "6PwB2QaVffAr"
      },
      "source": [
        "y = sample['target']\r\n",
        "\r\n",
        "#Assign the target variable.\r\n",
        "X = sample.drop(columns=['target'])"
      ],
      "execution_count": 11,
      "outputs": []
    },
    {
      "cell_type": "code",
      "metadata": {
        "colab": {
          "base_uri": "https://localhost:8080/"
        },
        "id": "dtNAxIP6ffAr",
        "outputId": "1d4cb4e9-738c-4e90-b811-e5c913349d95"
      },
      "source": [
        "#split the data.\r\n",
        "X_train, X_test, y_train, y_test = train_test_split(X, y, test_size=0.2)\r\n",
        "X_train, X_val, y_train, y_val = train_test_split(X_train, y_train, test_size=0.2)\r\n",
        "print(f'Shape of training: {X_train.shape} {y_train.shape}')\r\n",
        "print(f'Shape of validation: {X_val.shape} {y_val.shape}')\r\n",
        "print(f'Shape of Test: {X_test.shape}, {y_test.shape}')"
      ],
      "execution_count": 12,
      "outputs": [
        {
          "output_type": "stream",
          "text": [
            "Shape of training: (2506329, 8) (2506329,)\n",
            "Shape of validation: (626583, 8) (626583,)\n",
            "Shape of Test: (783229, 8), (783229,)\n"
          ],
          "name": "stdout"
        }
      ]
    },
    {
      "cell_type": "code",
      "metadata": {
        "id": "6DDOeKWiffAs"
      },
      "source": [
        "#Ordinal encode and translate to categorical.\r\n",
        "oec = OrdinalEncoder()\r\n",
        "y_train = oec.fit_transform(y_train.values.reshape(-1,1))\r\n",
        "y_test = oec.transform(y_test.values.reshape(-1,1))\r\n",
        "y_val = oec.transform(y_val.values.reshape(-1,1))"
      ],
      "execution_count": 13,
      "outputs": []
    },
    {
      "cell_type": "code",
      "metadata": {
        "id": "77_OUUp7ffAs"
      },
      "source": [
        "#One hot encode.\r\n",
        "enc = OneHotEncoder(handle_unknown='ignore')\r\n",
        "X_train = enc.fit_transform(X_train, y_train)\r\n",
        "X_test = enc.transform(X_test)\r\n",
        "X_val = enc.transform(X_val)\r\n",
        "\r\n",
        "#Tranfrom the components.\r\n",
        "skb = SelectKBest(k=k)\r\n",
        "X_train = skb.fit_transform(X_train, y_train.ravel())\r\n",
        "X_test = skb.transform(X_test)\r\n",
        "X_val = skb.transform(X_val)\r\n",
        "\r\n",
        "#Convert target to categorical\r\n",
        "y_train = tf.keras.utils.to_categorical(y_train)\r\n",
        "y_test = tf.keras.utils.to_categorical(y_test)\r\n",
        "y_val = tf.keras.utils.to_categorical(y_val)"
      ],
      "execution_count": 14,
      "outputs": []
    },
    {
      "cell_type": "code",
      "metadata": {
        "id": "Ag5sBHPWffAt"
      },
      "source": [
        "model = Sequential()\r\n",
        "\r\n",
        "model.add(Dense(64, input_dim=X_train.shape[1], activation='relu'))\r\n",
        "model.add(Dense(64, activation='relu'))\r\n",
        "model.add(Dense(y_train.shape[1], activation='softmax'))"
      ],
      "execution_count": 15,
      "outputs": []
    },
    {
      "cell_type": "code",
      "metadata": {
        "colab": {
          "base_uri": "https://localhost:8080/"
        },
        "id": "gMLVsNdvffAt",
        "outputId": "d995a1f4-b875-4602-8a72-c4220a8c087f"
      },
      "source": [
        "model.compile(optimizer='adam', \r\n",
        "              loss='categorical_crossentropy', \r\n",
        "              metrics=['accuracy'])\r\n",
        "\r\n",
        "history = model.fit(X_train, y_train, validation_data=(X_val, y_val), epochs=10, batch_size=64)"
      ],
      "execution_count": 16,
      "outputs": [
        {
          "output_type": "stream",
          "text": [
            "Epoch 1/10\n",
            "39162/39162 [==============================] - 321s 8ms/step - loss: 0.7475 - accuracy: 0.7537 - val_loss: 0.2382 - val_accuracy: 0.9296\n",
            "Epoch 2/10\n",
            "39162/39162 [==============================] - 323s 8ms/step - loss: 0.1114 - accuracy: 0.9675 - val_loss: 0.1893 - val_accuracy: 0.9472\n",
            "Epoch 3/10\n",
            "39162/39162 [==============================] - 322s 8ms/step - loss: 0.0535 - accuracy: 0.9846 - val_loss: 0.1812 - val_accuracy: 0.9540\n",
            "Epoch 4/10\n",
            "39162/39162 [==============================] - 321s 8ms/step - loss: 0.0311 - accuracy: 0.9912 - val_loss: 0.1824 - val_accuracy: 0.9573\n",
            "Epoch 5/10\n",
            "39162/39162 [==============================] - 324s 8ms/step - loss: 0.0203 - accuracy: 0.9943 - val_loss: 0.1897 - val_accuracy: 0.9595\n",
            "Epoch 6/10\n",
            "39162/39162 [==============================] - 324s 8ms/step - loss: 0.0142 - accuracy: 0.9961 - val_loss: 0.2027 - val_accuracy: 0.9604\n",
            "Epoch 7/10\n",
            "39162/39162 [==============================] - 324s 8ms/step - loss: 0.0105 - accuracy: 0.9971 - val_loss: 0.2086 - val_accuracy: 0.9617\n",
            "Epoch 8/10\n",
            "39162/39162 [==============================] - 323s 8ms/step - loss: 0.0084 - accuracy: 0.9977 - val_loss: 0.2283 - val_accuracy: 0.9617\n",
            "Epoch 9/10\n",
            "39162/39162 [==============================] - 322s 8ms/step - loss: 0.0066 - accuracy: 0.9982 - val_loss: 0.2483 - val_accuracy: 0.9616\n",
            "Epoch 10/10\n",
            "39162/39162 [==============================] - 322s 8ms/step - loss: 0.0057 - accuracy: 0.9985 - val_loss: 0.2587 - val_accuracy: 0.9616\n"
          ],
          "name": "stdout"
        }
      ]
    },
    {
      "cell_type": "code",
      "metadata": {
        "colab": {
          "base_uri": "https://localhost:8080/",
          "height": 356
        },
        "id": "2l-oFIIGffAt",
        "outputId": "4e4558fa-e80d-4fd1-8c69-b2a4ad899bd3"
      },
      "source": [
        "results = pd.DataFrame(history.history)\r\n",
        "\r\n",
        "#Split the count plot.\r\n",
        "f, (ax1, ax2) = plt.subplots(ncols = 2, figsize=(20,5))\r\n",
        "plt.suptitle('Results')\r\n",
        "results[['accuracy', 'val_accuracy']].plot(ax=ax1)\r\n",
        "results[['loss', 'val_loss']].plot(ax=ax2)\r\n",
        "plt.show()"
      ],
      "execution_count": 17,
      "outputs": [
        {
          "output_type": "display_data",
          "data": {
            "image/png": "[encoded data removed]",
            "text/plain": [
              "<Figure size 1440x360 with 2 Axes>"
            ]
          },
          "metadata": {
            "tags": [],
            "needs_background": "light"
          }
        }
      ]
    },
    {
      "cell_type": "code",
      "metadata": {
        "colab": {
          "base_uri": "https://localhost:8080/"
        },
        "id": "t0FpZjfQffAu",
        "outputId": "9b861c9d-6595-4e62-ff45-8a52846bcfb4"
      },
      "source": [
        "# get the predictions against the test dataset as whole numbers.\r\n",
        "pred = model.predict(X_test)\r\n",
        "predicted_class_indices=np.argmax(pred,axis=-1) \r\n",
        "# revert the categorical data into ordinal data. \r\n",
        "y_true = [np.argmax(n) for n in y_test]\r\n",
        "\r\n",
        "print(classification_report(y_true, \r\n",
        "                            predicted_class_indices))"
      ],
      "execution_count": 18,
      "outputs": [
        {
          "output_type": "stream",
          "text": [
            "              precision    recall  f1-score   support\n",
            "\n",
            "           0       0.96      0.95      0.96     28322\n",
            "           1       0.97      0.95      0.96     29231\n",
            "           2       0.97      0.96      0.96     26707\n",
            "           3       0.94      0.95      0.95     36994\n",
            "           4       0.93      0.96      0.94     56916\n",
            "           5       0.96      0.96      0.96     48490\n",
            "           6       0.93      0.97      0.95     47761\n",
            "           7       0.96      0.96      0.96     88539\n",
            "           8       0.97      0.96      0.96     57164\n",
            "           9       0.97      0.96      0.97     90419\n",
            "          10       0.97      0.96      0.97    135992\n",
            "          11       0.97      0.97      0.97    136694\n",
            "\n",
            "    accuracy                           0.96    783229\n",
            "   macro avg       0.96      0.96      0.96    783229\n",
            "weighted avg       0.96      0.96      0.96    783229\n",
            "\n"
          ],
          "name": "stdout"
        }
      ]
    },
    {
      "cell_type": "code",
      "metadata": {
        "id": "hSUxcJLzffAu",
        "colab": {
          "base_uri": "https://localhost:8080/"
        },
        "outputId": "dfee0567-d923-4c9a-b18a-fe8b5a2cc414"
      },
      "source": [
        "\r\n",
        "print(classification_report(y_true, \r\n",
        "                            predicted_class_indices, \r\n",
        "                            target_names=['F23-', 'F24-26', 'F27-28', 'F29-32', 'F33-42', 'F43+', 'M22-',\r\n",
        "                            'M23-26', 'M27-28', 'M29-31', 'M32-38', 'M39+']))"
      ],
      "execution_count": 122,
      "outputs": [
        {
          "output_type": "stream",
          "text": [
            "              precision    recall  f1-score   support\n",
            "\n",
            "        F23-       0.96      0.95      0.96     28322\n",
            "      F24-26       0.97      0.95      0.96     29231\n",
            "      F27-28       0.97      0.96      0.96     26707\n",
            "      F29-32       0.94      0.95      0.95     36994\n",
            "      F33-42       0.93      0.96      0.94     56916\n",
            "        F43+       0.96      0.96      0.96     48490\n",
            "        M22-       0.93      0.97      0.95     47761\n",
            "      M23-26       0.96      0.96      0.96     88539\n",
            "      M27-28       0.97      0.96      0.96     57164\n",
            "      M29-31       0.97      0.96      0.97     90419\n",
            "      M32-38       0.97      0.96      0.97    135992\n",
            "        M39+       0.97      0.97      0.97    136694\n",
            "\n",
            "    accuracy                           0.96    783229\n",
            "   macro avg       0.96      0.96      0.96    783229\n",
            "weighted avg       0.96      0.96      0.96    783229\n",
            "\n"
          ],
          "name": "stdout"
        }
      ]
    },
    {
      "cell_type": "code",
      "metadata": {
        "colab": {
          "base_uri": "https://localhost:8080/"
        },
        "id": "TgSUGOvsYpIt",
        "outputId": "2c664c34-7d6b-421b-e64b-ef8191ebb820"
      },
      "source": [
        "l = oec.inverse_transform(np.array(y_true).reshape(-1,1)).reshape((-1,1))\r\n",
        "pd.DataFrame(l).value_counts()"
      ],
      "execution_count": 137,
      "outputs": [
        {
          "output_type": "execute_result",
          "data": {
            "text/plain": [
              "M39+      136694\n",
              "M32-38    135992\n",
              "M29-31     90419\n",
              "M23-26     88539\n",
              "M27-28     57164\n",
              "F33-42     56916\n",
              "F43+       48490\n",
              "M22-       47761\n",
              "F29-32     36994\n",
              "F24-26     29231\n",
              "F23-       28322\n",
              "F27-28     26707\n",
              "dtype: int64"
            ]
          },
          "metadata": {
            "tags": []
          },
          "execution_count": 137
        }
      ]
    },
    {
      "cell_type": "code",
      "metadata": {
        "colab": {
          "base_uri": "https://localhost:8080/"
        },
        "id": "4MF1QUXVXU08",
        "outputId": "22b2ca3a-0123-4dec-f3f9-8a522759857b"
      },
      "source": [
        "oec.categories_[0]"
      ],
      "execution_count": 119,
      "outputs": [
        {
          "output_type": "execute_result",
          "data": {
            "text/plain": [
              "array(['F23-', 'F24-26', 'F27-28', 'F29-32', 'F33-42', 'F43+', 'M22-',\n",
              "       'M23-26', 'M27-28', 'M29-31', 'M32-38', 'M39+'], dtype=object)"
            ]
          },
          "metadata": {
            "tags": []
          },
          "execution_count": 119
        }
      ]
    },
    {
      "cell_type": "code",
      "metadata": {
        "id": "UYURTYRdYJl4"
      },
      "source": [
        ""
      ],
      "execution_count": 135,
      "outputs": []
    },
    {
      "cell_type": "code",
      "metadata": {
        "id": "8IcUzoBHZbA4"
      },
      "source": [
        ""
      ],
      "execution_count": null,
      "outputs": []
    }
  ]
}