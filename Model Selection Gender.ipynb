{
 "cells": [
  {
   "cell_type": "code",
   "execution_count": 1,
   "metadata": {},
   "outputs": [],
   "source": [
    "#if necessary import the model data\n",
    "import numpy as np\n",
    "import pandas as pd\n",
    "import matplotlib.pyplot as plt\n",
    "import seaborn as sns\n",
    "import plotly.express as px\n",
    "import datetime\n",
    "#Modeling Imports - GridSearch\n",
    "from sklearn.pipeline import Pipeline\n",
    "from sklearn.preprocessing import OneHotEncoder\n",
    "from sklearn.decomposition import TruncatedSVD \n",
    "from sklearn.feature_selection import SelectKBest, chi2, f_classif\n",
    "from sklearn.model_selection import GridSearchCV\n",
    "\n",
    "#Models\n",
    "from sklearn.dummy import DummyClassifier\n",
    "from sklearn.ensemble import RandomForestClassifier\n",
    "from sklearn.tree import DecisionTreeClassifier\n",
    "from imblearn.ensemble import BalancedRandomForestClassifier\n",
    "from sklearn.neighbors import KNeighborsClassifier\n",
    "from sklearn.svm import SVC\n",
    "from sklearn.ensemble import GradientBoostingClassifier\n",
    "from sklearn.linear_model import LogisticRegression\n",
    "\n",
    "#Unsupervised Models\n",
    "from sklearn.cluster import KMeans\n",
    "from sklearn.metrics import silhouette_score\n",
    "from sklearn.metrics.cluster import fowlkes_mallows_score\n",
    "\n",
    "#validation\n",
    "from sklearn.model_selection import cross_val_score\n",
    "from sklearn.model_selection import train_test_split\n",
    "from sklearn.metrics import classification_report\n",
    "from sklearn.metrics import roc_auc_score"
   ]
  },
  {
   "cell_type": "code",
   "execution_count": 2,
   "metadata": {},
   "outputs": [],
   "source": [
    "#A summary of missing variables represented as a percentage of the total missing content. \n",
    "def null_summary(df, print_log=False, sort='ascending'):\n",
    "    s = df.isnull().sum()*100/df.isnull().count()\n",
    "    \n",
    "    if sort.lower() == 'ascending':\n",
    "        s = s.sort_values(ascending=True)\n",
    "    elif sort.lower() == 'descending':\n",
    "        s = s.sort_values(ascending=False)  \n",
    "    if print_log: \n",
    "        print('Percentage of null values: \\n', s)\n",
    "  \n",
    "    return pd.Series(s)"
   ]
  },
  {
   "cell_type": "code",
   "execution_count": 3,
   "metadata": {},
   "outputs": [
    {
     "data": {
      "text/html": [
       "<div>\n",
       "<style scoped>\n",
       "    .dataframe tbody tr th:only-of-type {\n",
       "        vertical-align: middle;\n",
       "    }\n",
       "\n",
       "    .dataframe tbody tr th {\n",
       "        vertical-align: top;\n",
       "    }\n",
       "\n",
       "    .dataframe thead th {\n",
       "        text-align: right;\n",
       "    }\n",
       "</style>\n",
       "<table border=\"1\" class=\"dataframe\">\n",
       "  <thead>\n",
       "    <tr style=\"text-align: right;\">\n",
       "      <th></th>\n",
       "      <th>timestamp</th>\n",
       "      <th>longitude</th>\n",
       "      <th>latitude</th>\n",
       "      <th>coordinates</th>\n",
       "      <th>is_active</th>\n",
       "      <th>phone_brand</th>\n",
       "      <th>device_model</th>\n",
       "      <th>category</th>\n",
       "      <th>gender</th>\n",
       "      <th>age</th>\n",
       "      <th>group</th>\n",
       "    </tr>\n",
       "  </thead>\n",
       "  <tbody>\n",
       "    <tr>\n",
       "      <th>0</th>\n",
       "      <td>2016-05-01 14:23:37</td>\n",
       "      <td>0.0</td>\n",
       "      <td>0.0</td>\n",
       "      <td>(0.0, 0.0)</td>\n",
       "      <td>1.0</td>\n",
       "      <td>小米</td>\n",
       "      <td>MI 2</td>\n",
       "      <td>1 free</td>\n",
       "      <td>M</td>\n",
       "      <td>35</td>\n",
       "      <td>M32-38</td>\n",
       "    </tr>\n",
       "    <tr>\n",
       "      <th>1</th>\n",
       "      <td>2016-05-01 14:23:37</td>\n",
       "      <td>0.0</td>\n",
       "      <td>0.0</td>\n",
       "      <td>(0.0, 0.0)</td>\n",
       "      <td>1.0</td>\n",
       "      <td>小米</td>\n",
       "      <td>MI 2</td>\n",
       "      <td>Cozy 1</td>\n",
       "      <td>M</td>\n",
       "      <td>35</td>\n",
       "      <td>M32-38</td>\n",
       "    </tr>\n",
       "    <tr>\n",
       "      <th>2</th>\n",
       "      <td>2016-05-01 14:23:37</td>\n",
       "      <td>0.0</td>\n",
       "      <td>0.0</td>\n",
       "      <td>(0.0, 0.0)</td>\n",
       "      <td>1.0</td>\n",
       "      <td>小米</td>\n",
       "      <td>MI 2</td>\n",
       "      <td>Industry tag</td>\n",
       "      <td>M</td>\n",
       "      <td>35</td>\n",
       "      <td>M32-38</td>\n",
       "    </tr>\n",
       "    <tr>\n",
       "      <th>3</th>\n",
       "      <td>2016-05-01 14:23:37</td>\n",
       "      <td>0.0</td>\n",
       "      <td>0.0</td>\n",
       "      <td>(0.0, 0.0)</td>\n",
       "      <td>1.0</td>\n",
       "      <td>小米</td>\n",
       "      <td>MI 2</td>\n",
       "      <td>Property Industry 2.0</td>\n",
       "      <td>M</td>\n",
       "      <td>35</td>\n",
       "      <td>M32-38</td>\n",
       "    </tr>\n",
       "    <tr>\n",
       "      <th>4</th>\n",
       "      <td>2016-05-01 14:23:37</td>\n",
       "      <td>0.0</td>\n",
       "      <td>0.0</td>\n",
       "      <td>(0.0, 0.0)</td>\n",
       "      <td>1.0</td>\n",
       "      <td>小米</td>\n",
       "      <td>MI 2</td>\n",
       "      <td>music</td>\n",
       "      <td>M</td>\n",
       "      <td>35</td>\n",
       "      <td>M32-38</td>\n",
       "    </tr>\n",
       "  </tbody>\n",
       "</table>\n",
       "</div>"
      ],
      "text/plain": [
       "             timestamp  longitude  latitude coordinates  is_active  \\\n",
       "0  2016-05-01 14:23:37        0.0       0.0  (0.0, 0.0)        1.0   \n",
       "1  2016-05-01 14:23:37        0.0       0.0  (0.0, 0.0)        1.0   \n",
       "2  2016-05-01 14:23:37        0.0       0.0  (0.0, 0.0)        1.0   \n",
       "3  2016-05-01 14:23:37        0.0       0.0  (0.0, 0.0)        1.0   \n",
       "4  2016-05-01 14:23:37        0.0       0.0  (0.0, 0.0)        1.0   \n",
       "\n",
       "  phone_brand device_model               category gender  age   group  \n",
       "0          小米         MI 2                 1 free      M   35  M32-38  \n",
       "1          小米         MI 2                 Cozy 1      M   35  M32-38  \n",
       "2          小米         MI 2           Industry tag      M   35  M32-38  \n",
       "3          小米         MI 2  Property Industry 2.0      M   35  M32-38  \n",
       "4          小米         MI 2                  music      M   35  M32-38  "
      ]
     },
     "execution_count": 3,
     "metadata": {},
     "output_type": "execute_result"
    }
   ],
   "source": [
    "#get the data\n",
    "talkdata = pd.read_csv('./data/talkdata.csv')\n",
    "#Quick look at the head.\n",
    "talkdata.head()"
   ]
  },
  {
   "cell_type": "code",
   "execution_count": 4,
   "metadata": {},
   "outputs": [
    {
     "data": {
      "text/plain": [
       "(7832282, 11)"
      ]
     },
     "execution_count": 4,
     "metadata": {},
     "output_type": "execute_result"
    }
   ],
   "source": [
    "#The size and shape of this dataset before categorical changing.\n",
    "talkdata.shape"
   ]
  },
  {
   "cell_type": "code",
   "execution_count": 5,
   "metadata": {},
   "outputs": [
    {
     "data": {
      "text/html": [
       "<div>\n",
       "<style scoped>\n",
       "    .dataframe tbody tr th:only-of-type {\n",
       "        vertical-align: middle;\n",
       "    }\n",
       "\n",
       "    .dataframe tbody tr th {\n",
       "        vertical-align: top;\n",
       "    }\n",
       "\n",
       "    .dataframe thead th {\n",
       "        text-align: right;\n",
       "    }\n",
       "</style>\n",
       "<table border=\"1\" class=\"dataframe\">\n",
       "  <thead>\n",
       "    <tr style=\"text-align: right;\">\n",
       "      <th></th>\n",
       "      <th>timestamp</th>\n",
       "      <th>longitude</th>\n",
       "      <th>latitude</th>\n",
       "      <th>coordinates</th>\n",
       "      <th>is_active</th>\n",
       "      <th>phone_brand</th>\n",
       "      <th>device_model</th>\n",
       "      <th>category</th>\n",
       "      <th>gender</th>\n",
       "      <th>age</th>\n",
       "      <th>group</th>\n",
       "      <th>hour</th>\n",
       "      <th>weekday</th>\n",
       "      <th>week</th>\n",
       "      <th>device_type</th>\n",
       "    </tr>\n",
       "  </thead>\n",
       "  <tbody>\n",
       "    <tr>\n",
       "      <th>count</th>\n",
       "      <td>7832282</td>\n",
       "      <td>7.832282e+06</td>\n",
       "      <td>7.832282e+06</td>\n",
       "      <td>7832282</td>\n",
       "      <td>7.832282e+06</td>\n",
       "      <td>7832282</td>\n",
       "      <td>7832282</td>\n",
       "      <td>7832282</td>\n",
       "      <td>7832282</td>\n",
       "      <td>7.832282e+06</td>\n",
       "      <td>7832282</td>\n",
       "      <td>7.832282e+06</td>\n",
       "      <td>7.832282e+06</td>\n",
       "      <td>7.832282e+06</td>\n",
       "      <td>7832282</td>\n",
       "    </tr>\n",
       "    <tr>\n",
       "      <th>unique</th>\n",
       "      <td>NaN</td>\n",
       "      <td>NaN</td>\n",
       "      <td>NaN</td>\n",
       "      <td>32921</td>\n",
       "      <td>NaN</td>\n",
       "      <td>89</td>\n",
       "      <td>926</td>\n",
       "      <td>441</td>\n",
       "      <td>2</td>\n",
       "      <td>NaN</td>\n",
       "      <td>12</td>\n",
       "      <td>NaN</td>\n",
       "      <td>NaN</td>\n",
       "      <td>NaN</td>\n",
       "      <td>942</td>\n",
       "    </tr>\n",
       "    <tr>\n",
       "      <th>top</th>\n",
       "      <td>NaN</td>\n",
       "      <td>NaN</td>\n",
       "      <td>NaN</td>\n",
       "      <td>(0.0, 0.0)</td>\n",
       "      <td>NaN</td>\n",
       "      <td>华为</td>\n",
       "      <td>荣耀6</td>\n",
       "      <td>Industry tag</td>\n",
       "      <td>M</td>\n",
       "      <td>NaN</td>\n",
       "      <td>M39+</td>\n",
       "      <td>NaN</td>\n",
       "      <td>NaN</td>\n",
       "      <td>NaN</td>\n",
       "      <td>华为 荣耀6</td>\n",
       "    </tr>\n",
       "    <tr>\n",
       "      <th>freq</th>\n",
       "      <td>NaN</td>\n",
       "      <td>NaN</td>\n",
       "      <td>NaN</td>\n",
       "      <td>2295988</td>\n",
       "      <td>NaN</td>\n",
       "      <td>2422726</td>\n",
       "      <td>354430</td>\n",
       "      <td>907153</td>\n",
       "      <td>5566437</td>\n",
       "      <td>NaN</td>\n",
       "      <td>1360719</td>\n",
       "      <td>NaN</td>\n",
       "      <td>NaN</td>\n",
       "      <td>NaN</td>\n",
       "      <td>354430</td>\n",
       "    </tr>\n",
       "    <tr>\n",
       "      <th>mean</th>\n",
       "      <td>2016-05-04 13:58:30.355242240</td>\n",
       "      <td>7.837463e+01</td>\n",
       "      <td>2.182485e+01</td>\n",
       "      <td>NaN</td>\n",
       "      <td>3.404700e-01</td>\n",
       "      <td>NaN</td>\n",
       "      <td>NaN</td>\n",
       "      <td>NaN</td>\n",
       "      <td>NaN</td>\n",
       "      <td>3.350478e+01</td>\n",
       "      <td>NaN</td>\n",
       "      <td>1.306016e+01</td>\n",
       "      <td>2.963128e+00</td>\n",
       "      <td>1.786502e+01</td>\n",
       "      <td>NaN</td>\n",
       "    </tr>\n",
       "    <tr>\n",
       "      <th>min</th>\n",
       "      <td>2016-04-30 23:52:24</td>\n",
       "      <td>-1.800000e+02</td>\n",
       "      <td>-3.380000e+01</td>\n",
       "      <td>NaN</td>\n",
       "      <td>0.000000e+00</td>\n",
       "      <td>NaN</td>\n",
       "      <td>NaN</td>\n",
       "      <td>NaN</td>\n",
       "      <td>NaN</td>\n",
       "      <td>1.100000e+01</td>\n",
       "      <td>NaN</td>\n",
       "      <td>0.000000e+00</td>\n",
       "      <td>0.000000e+00</td>\n",
       "      <td>1.700000e+01</td>\n",
       "      <td>NaN</td>\n",
       "    </tr>\n",
       "    <tr>\n",
       "      <th>25%</th>\n",
       "      <td>2016-05-02 20:22:46.500000</td>\n",
       "      <td>0.000000e+00</td>\n",
       "      <td>0.000000e+00</td>\n",
       "      <td>NaN</td>\n",
       "      <td>0.000000e+00</td>\n",
       "      <td>NaN</td>\n",
       "      <td>NaN</td>\n",
       "      <td>NaN</td>\n",
       "      <td>NaN</td>\n",
       "      <td>2.700000e+01</td>\n",
       "      <td>NaN</td>\n",
       "      <td>8.000000e+00</td>\n",
       "      <td>1.000000e+00</td>\n",
       "      <td>1.800000e+01</td>\n",
       "      <td>NaN</td>\n",
       "    </tr>\n",
       "    <tr>\n",
       "      <th>50%</th>\n",
       "      <td>2016-05-04 14:05:48</td>\n",
       "      <td>1.127500e+02</td>\n",
       "      <td>2.857000e+01</td>\n",
       "      <td>NaN</td>\n",
       "      <td>0.000000e+00</td>\n",
       "      <td>NaN</td>\n",
       "      <td>NaN</td>\n",
       "      <td>NaN</td>\n",
       "      <td>NaN</td>\n",
       "      <td>3.100000e+01</td>\n",
       "      <td>NaN</td>\n",
       "      <td>1.300000e+01</td>\n",
       "      <td>3.000000e+00</td>\n",
       "      <td>1.800000e+01</td>\n",
       "      <td>NaN</td>\n",
       "    </tr>\n",
       "    <tr>\n",
       "      <th>75%</th>\n",
       "      <td>2016-05-06 08:22:22</td>\n",
       "      <td>1.171700e+02</td>\n",
       "      <td>3.401000e+01</td>\n",
       "      <td>NaN</td>\n",
       "      <td>1.000000e+00</td>\n",
       "      <td>NaN</td>\n",
       "      <td>NaN</td>\n",
       "      <td>NaN</td>\n",
       "      <td>NaN</td>\n",
       "      <td>3.900000e+01</td>\n",
       "      <td>NaN</td>\n",
       "      <td>1.900000e+01</td>\n",
       "      <td>5.000000e+00</td>\n",
       "      <td>1.800000e+01</td>\n",
       "      <td>NaN</td>\n",
       "    </tr>\n",
       "    <tr>\n",
       "      <th>max</th>\n",
       "      <td>2016-05-08 00:00:08</td>\n",
       "      <td>1.511800e+02</td>\n",
       "      <td>5.364000e+01</td>\n",
       "      <td>NaN</td>\n",
       "      <td>1.000000e+00</td>\n",
       "      <td>NaN</td>\n",
       "      <td>NaN</td>\n",
       "      <td>NaN</td>\n",
       "      <td>NaN</td>\n",
       "      <td>8.900000e+01</td>\n",
       "      <td>NaN</td>\n",
       "      <td>2.300000e+01</td>\n",
       "      <td>6.000000e+00</td>\n",
       "      <td>1.800000e+01</td>\n",
       "      <td>NaN</td>\n",
       "    </tr>\n",
       "    <tr>\n",
       "      <th>std</th>\n",
       "      <td>NaN</td>\n",
       "      <td>5.381746e+01</td>\n",
       "      <td>1.565152e+01</td>\n",
       "      <td>NaN</td>\n",
       "      <td>4.738673e-01</td>\n",
       "      <td>NaN</td>\n",
       "      <td>NaN</td>\n",
       "      <td>NaN</td>\n",
       "      <td>NaN</td>\n",
       "      <td>9.748107e+00</td>\n",
       "      <td>NaN</td>\n",
       "      <td>6.355358e+00</td>\n",
       "      <td>1.974990e+00</td>\n",
       "      <td>3.417027e-01</td>\n",
       "      <td>NaN</td>\n",
       "    </tr>\n",
       "  </tbody>\n",
       "</table>\n",
       "</div>"
      ],
      "text/plain": [
       "                            timestamp     longitude      latitude coordinates  \\\n",
       "count                         7832282  7.832282e+06  7.832282e+06     7832282   \n",
       "unique                            NaN           NaN           NaN       32921   \n",
       "top                               NaN           NaN           NaN  (0.0, 0.0)   \n",
       "freq                              NaN           NaN           NaN     2295988   \n",
       "mean    2016-05-04 13:58:30.355242240  7.837463e+01  2.182485e+01         NaN   \n",
       "min               2016-04-30 23:52:24 -1.800000e+02 -3.380000e+01         NaN   \n",
       "25%        2016-05-02 20:22:46.500000  0.000000e+00  0.000000e+00         NaN   \n",
       "50%               2016-05-04 14:05:48  1.127500e+02  2.857000e+01         NaN   \n",
       "75%               2016-05-06 08:22:22  1.171700e+02  3.401000e+01         NaN   \n",
       "max               2016-05-08 00:00:08  1.511800e+02  5.364000e+01         NaN   \n",
       "std                               NaN  5.381746e+01  1.565152e+01         NaN   \n",
       "\n",
       "           is_active phone_brand device_model      category   gender  \\\n",
       "count   7.832282e+06     7832282      7832282       7832282  7832282   \n",
       "unique           NaN          89          926           441        2   \n",
       "top              NaN          华为          荣耀6  Industry tag        M   \n",
       "freq             NaN     2422726       354430        907153  5566437   \n",
       "mean    3.404700e-01         NaN          NaN           NaN      NaN   \n",
       "min     0.000000e+00         NaN          NaN           NaN      NaN   \n",
       "25%     0.000000e+00         NaN          NaN           NaN      NaN   \n",
       "50%     0.000000e+00         NaN          NaN           NaN      NaN   \n",
       "75%     1.000000e+00         NaN          NaN           NaN      NaN   \n",
       "max     1.000000e+00         NaN          NaN           NaN      NaN   \n",
       "std     4.738673e-01         NaN          NaN           NaN      NaN   \n",
       "\n",
       "                 age    group          hour       weekday          week  \\\n",
       "count   7.832282e+06  7832282  7.832282e+06  7.832282e+06  7.832282e+06   \n",
       "unique           NaN       12           NaN           NaN           NaN   \n",
       "top              NaN     M39+           NaN           NaN           NaN   \n",
       "freq             NaN  1360719           NaN           NaN           NaN   \n",
       "mean    3.350478e+01      NaN  1.306016e+01  2.963128e+00  1.786502e+01   \n",
       "min     1.100000e+01      NaN  0.000000e+00  0.000000e+00  1.700000e+01   \n",
       "25%     2.700000e+01      NaN  8.000000e+00  1.000000e+00  1.800000e+01   \n",
       "50%     3.100000e+01      NaN  1.300000e+01  3.000000e+00  1.800000e+01   \n",
       "75%     3.900000e+01      NaN  1.900000e+01  5.000000e+00  1.800000e+01   \n",
       "max     8.900000e+01      NaN  2.300000e+01  6.000000e+00  1.800000e+01   \n",
       "std     9.748107e+00      NaN  6.355358e+00  1.974990e+00  3.417027e-01   \n",
       "\n",
       "       device_type  \n",
       "count      7832282  \n",
       "unique         942  \n",
       "top         华为 荣耀6  \n",
       "freq        354430  \n",
       "mean           NaN  \n",
       "min            NaN  \n",
       "25%            NaN  \n",
       "50%            NaN  \n",
       "75%            NaN  \n",
       "max            NaN  \n",
       "std            NaN  "
      ]
     },
     "execution_count": 5,
     "metadata": {},
     "output_type": "execute_result"
    }
   ],
   "source": [
    "#Set the timestamp column to a datetime datatype.\n",
    "talkdata['timestamp'] = pd.to_datetime(talkdata.timestamp)\n",
    "talkdata.timestamp.dtype\n",
    "\n",
    "#create the categorical time columns\n",
    "talkdata['hour'] = talkdata.timestamp.dt.hour\n",
    "talkdata['weekday'] = talkdata.timestamp.dt.dayofweek\n",
    "talkdata['week'] = talkdata.timestamp.dt.isocalendar().week\n",
    "\n",
    "#concatenate the phone brand to the device model. \n",
    "talkdata['device_type'] = talkdata.phone_brand + \" \"+ talkdata.device_model\n",
    "talkdata.describe(include='all', datetime_is_numeric=True)"
   ]
  },
  {
   "cell_type": "code",
   "execution_count": 6,
   "metadata": {},
   "outputs": [
    {
     "data": {
      "text/plain": [
       "timestamp       0.0\n",
       "longitude       0.0\n",
       "latitude        0.0\n",
       "coordinates     0.0\n",
       "is_active       0.0\n",
       "phone_brand     0.0\n",
       "device_model    0.0\n",
       "category        0.0\n",
       "gender          0.0\n",
       "age             0.0\n",
       "group           0.0\n",
       "hour            0.0\n",
       "weekday         0.0\n",
       "week            0.0\n",
       "device_type     0.0\n",
       "dtype: float64"
      ]
     },
     "execution_count": 6,
     "metadata": {},
     "output_type": "execute_result"
    }
   ],
   "source": [
    "null_summary(talkdata)"
   ]
  },
  {
   "cell_type": "code",
   "execution_count": 7,
   "metadata": {},
   "outputs": [
    {
     "data": {
      "text/plain": [
       "(7832282, 7)"
      ]
     },
     "execution_count": 7,
     "metadata": {},
     "output_type": "execute_result"
    }
   ],
   "source": [
    "y = talkdata.gender\n",
    "#drop the non-categorical columnsand the columns that are no longer in use.\n",
    "X = talkdata.drop(columns=['timestamp', 'longitude', 'latitude', 'phone_brand', 'device_model', 'gender', 'age', 'group'])\n",
    "X.shape"
   ]
  },
  {
   "cell_type": "markdown",
   "metadata": {},
   "source": [
    "# Down Sample\n",
    "\n",
    "I expect to have a lot more data unprocessed and waiting for me in production. In modeling; I want to reduce this dataset down to a workable amount, so that I can process and work with it. I will use 0.1% of the data for training/testing my model and will leave the rest as \"what's in production\". Which is what I would anticipate fitting the model on. \n",
    "\n",
    "The decision to use 0.1% was made after getting positive results from working with a dummy classifer on a sample of 0.05% of the data. In practice, I've experience lag and complications on datasets running over 750k. Discussions with colleagues were an agreement that 250k would be a fair amount. I think 1% of the data is decent. "
   ]
  },
  {
   "cell_type": "code",
   "execution_count": 21,
   "metadata": {},
   "outputs": [
    {
     "data": {
      "text/plain": [
       "(783229, 7)"
      ]
     },
     "execution_count": 21,
     "metadata": {},
     "output_type": "execute_result"
    }
   ],
   "source": [
    "X_prod, X_train, y_prod, y_train = train_test_split(X, y, test_size=0.1, random_state=42, stratify=y)\n",
    "X_train.shape"
   ]
  },
  {
   "cell_type": "code",
   "execution_count": 22,
   "metadata": {},
   "outputs": [
    {
     "data": {
      "text/plain": [
       "Index(['coordinates', 'is_active', 'category', 'hour', 'weekday', 'week',\n",
       "       'device_type'],\n",
       "      dtype='object')"
      ]
     },
     "execution_count": 22,
     "metadata": {},
     "output_type": "execute_result"
    }
   ],
   "source": [
    "X.columns"
   ]
  },
  {
   "cell_type": "code",
   "execution_count": 23,
   "metadata": {},
   "outputs": [
    {
     "data": {
      "text/plain": [
       "M    556644\n",
       "F    226585\n",
       "Name: gender, dtype: int64"
      ]
     },
     "execution_count": 23,
     "metadata": {},
     "output_type": "execute_result"
    }
   ],
   "source": [
    "y_train.value_counts()"
   ]
  },
  {
   "cell_type": "code",
   "execution_count": 25,
   "metadata": {},
   "outputs": [
    {
     "data": {
      "text/plain": [
       "M    5009793\n",
       "F    2039260\n",
       "Name: gender, dtype: int64"
      ]
     },
     "execution_count": 25,
     "metadata": {},
     "output_type": "execute_result"
    }
   ],
   "source": [
    "y_prod.value_counts()"
   ]
  },
  {
   "cell_type": "code",
   "execution_count": 27,
   "metadata": {},
   "outputs": [],
   "source": [
    "#Export the training data for later use.\n",
    "X_train.to_csv('./data/train_features.csv', index=False)\n",
    "y_train.to_csv('./data/train_target.csv', index=False)\n",
    "\n",
    "#Export the prod data for later use. \n",
    "X_prod.to_csv('./data/prod_features.csv', index=False)\n",
    "y_prod.to_csv('./data/prod_target.csv', index=False)"
   ]
  },
  {
   "cell_type": "markdown",
   "metadata": {},
   "source": [
    "# Dimensionality Reduction:\n",
    "\n",
    "The great search for the best dimension reduction parameters are done against a dummy classifier. This allows for reduced processing time as I seek to find the best parameters for machine learning models. The dummy classifer also helps determine whether or not I can get decent results from the data I've cleaned and processed.\n",
    "\n",
    "These dummy models were run several time using different settings for the parameters; some higher - some lower. \n",
    "\n",
    "## TruncatedSVD (PCA)"
   ]
  },
  {
   "cell_type": "code",
   "execution_count": 12,
   "metadata": {},
   "outputs": [
    {
     "name": "stdout",
     "output_type": "stream",
     "text": [
      "Fitting 5 folds for each of 4 candidates, totalling 20 fits\n"
     ]
    },
    {
     "name": "stderr",
     "output_type": "stream",
     "text": [
      "[Parallel(n_jobs=1)]: Using backend SequentialBackend with 1 concurrent workers.\n",
      "[Parallel(n_jobs=1)]: Done  20 out of  20 | elapsed:  3.4min finished\n"
     ]
    },
    {
     "data": {
      "text/plain": [
       "GridSearchCV(cv=5,\n",
       "             estimator=Pipeline(steps=[('enc',\n",
       "                                        OneHotEncoder(handle_unknown='ignore')),\n",
       "                                       ('svd', TruncatedSVD()),\n",
       "                                       ('dc',\n",
       "                                        DummyClassifier(strategy='most_frequent'))]),\n",
       "             param_grid={'svd__n_components': [50, 75, 60, 10]}, verbose=1)"
      ]
     },
     "execution_count": 12,
     "metadata": {},
     "output_type": "execute_result"
    }
   ],
   "source": [
    "#Truncated SVD\n",
    "pipeline = Pipeline([('enc', OneHotEncoder(handle_unknown='ignore')), \n",
    "                     ('svd', TruncatedSVD()),\n",
    "                     ('dc', DummyClassifier(strategy='most_frequent'))])\n",
    "params = { 'svd__n_components' :  [50, 75, 60, 10],\n",
    "          }\n",
    "#run with verbosity then clear output for readability. \n",
    "search = GridSearchCV(pipeline, params, cv=5, verbose=1)\n",
    "search.fit(X_train, y_train)"
   ]
  },
  {
   "cell_type": "code",
   "execution_count": 34,
   "metadata": {},
   "outputs": [
    {
     "name": "stdout",
     "output_type": "stream",
     "text": [
      "best score: 0.7107039290992662 \n",
      " estimator: Pipeline(steps=[('enc', OneHotEncoder(handle_unknown='ignore')),\n",
      "                ('svd', TruncatedSVD(n_components=50)),\n",
      "                ('dc', DummyClassifier(strategy='most_frequent'))])\n"
     ]
    }
   ],
   "source": [
    "print(f\"best score: {search.best_score_} \\n estimator: {search.best_estimator_}\" )"
   ]
  },
  {
   "cell_type": "code",
   "execution_count": 35,
   "metadata": {},
   "outputs": [
    {
     "name": "stderr",
     "output_type": "stream",
     "text": [
      "C:\\Users\\kalik\\anaconda3\\lib\\site-packages\\sklearn\\metrics\\_classification.py:1221: UndefinedMetricWarning: Precision and F-score are ill-defined and being set to 0.0 in labels with no predicted samples. Use `zero_division` parameter to control this behavior.\n",
      "  _warn_prf(average, modifier, msg_start, len(result))\n"
     ]
    },
    {
     "name": "stdout",
     "output_type": "stream",
     "text": [
      "              precision    recall  f1-score   support\n",
      "\n",
      "           F       0.00      0.00      0.00     45317\n",
      "           M       0.71      1.00      0.83    111329\n",
      "\n",
      "    accuracy                           0.71    156646\n",
      "   macro avg       0.36      0.50      0.42    156646\n",
      "weighted avg       0.51      0.71      0.59    156646\n",
      "\n"
     ]
    }
   ],
   "source": [
    "#an okay score, what's the classification report look like?\n",
    "y_pred = search.predict(X_test)\n",
    "print(classification_report(y_test, y_pred))"
   ]
  },
  {
   "cell_type": "markdown",
   "metadata": {},
   "source": [
    "As expected, I have an imbalanced dataset, so the data is not predicting the female population very well. Another model will be more effective at making these predictions. \n",
    "\n",
    "From the best score, I can tell that I can use this dataset to predict the gender. Additionally, the best parameters for truncateSVD against my classification models is determined as n_components=50."
   ]
  },
  {
   "cell_type": "markdown",
   "metadata": {},
   "source": [
    "## SelectKBest\n"
   ]
  },
  {
   "cell_type": "code",
   "execution_count": null,
   "metadata": {},
   "outputs": [],
   "source": [
    "#First run for model selection on 250k records. It takes less than a minute to fit on five estimators. \n",
    "pipeline = Pipeline([('enc', OneHotEncoder(handle_unknown='ignore')), \n",
    "                     ('sk', SelectKBest()),\n",
    "                     ('dc', DummyClassifier(strategy='most_frequent'))])\n",
    "params = { 'sk__score_func' :  [chi2, f_classif],\n",
    "           'sk__k' : [100, 90, 95, 110]\n",
    "          }\n",
    "#run with verbosity then clear output for readability. \n",
    "search = GridSearchCV(pipeline, params, cv=5, verbose=1)\n",
    "search.fit(X_train, y_train)\n"
   ]
  },
  {
   "cell_type": "code",
   "execution_count": 45,
   "metadata": {},
   "outputs": [
    {
     "name": "stdout",
     "output_type": "stream",
     "text": [
      "best score: 0.7107039290992662 \n",
      " estimator: Pipeline(steps=[('enc', OneHotEncoder(handle_unknown='ignore')),\n",
      "                ('sk',\n",
      "                 SelectKBest(k=100,\n",
      "                             score_func=<function chi2 at 0x00000167ACD188B8>)),\n",
      "                ('dc', DummyClassifier(strategy='most_frequent'))])\n"
     ]
    }
   ],
   "source": [
    "print(f\"best score: {search.best_score_} \\n estimator: {search.best_estimator_}\" )"
   ]
  },
  {
   "cell_type": "code",
   "execution_count": 51,
   "metadata": {},
   "outputs": [
    {
     "name": "stderr",
     "output_type": "stream",
     "text": [
      "C:\\Users\\kalik\\anaconda3\\lib\\site-packages\\sklearn\\metrics\\_classification.py:1221: UndefinedMetricWarning: Precision and F-score are ill-defined and being set to 0.0 in labels with no predicted samples. Use `zero_division` parameter to control this behavior.\n",
      "  _warn_prf(average, modifier, msg_start, len(result))\n"
     ]
    },
    {
     "name": "stdout",
     "output_type": "stream",
     "text": [
      "              precision    recall  f1-score   support\n",
      "\n",
      "           F       0.00      0.00      0.00     45317\n",
      "           M       0.71      1.00      0.83    111329\n",
      "\n",
      "    accuracy                           0.71    156646\n",
      "   macro avg       0.36      0.50      0.42    156646\n",
      "weighted avg       0.51      0.71      0.59    156646\n",
      "\n"
     ]
    }
   ],
   "source": [
    "#an okay score, what's the classification report look like?\n",
    "y_pred = search.predict(X_test)\n",
    "print(classification_report(y_test, y_pred))"
   ]
  },
  {
   "cell_type": "markdown",
   "metadata": {},
   "source": [
    "# GridSearch Parameters"
   ]
  },
  {
   "cell_type": "markdown",
   "metadata": {},
   "source": [
    "## Late Modeling\n",
    "Start Here after running imports and functions"
   ]
  },
  {
   "cell_type": "code",
   "execution_count": 3,
   "metadata": {},
   "outputs": [
    {
     "data": {
      "text/plain": [
       "(783229,)"
      ]
     },
     "execution_count": 3,
     "metadata": {},
     "output_type": "execute_result"
    }
   ],
   "source": [
    "# Emergency Call: For use after kernel shut down!\n",
    "X_train = pd.read_csv('./data/train_features.csv')\n",
    "y_train = pd.read_csv('./data/train_target.csv')\n",
    "y_train = y_train.values.ravel()\n",
    "y_train.shape"
   ]
  },
  {
   "cell_type": "code",
   "execution_count": 4,
   "metadata": {},
   "outputs": [
    {
     "data": {
      "text/plain": [
       "(626583, 7)"
      ]
     },
     "execution_count": 4,
     "metadata": {},
     "output_type": "execute_result"
    }
   ],
   "source": [
    "#The training dataset can now be used for training/testing against models.\n",
    "X_train, X_test, y_train, y_test = train_test_split(X_train, y_train, test_size=0.2, random_state=42, stratify=y_train)\n",
    "X_train.shape"
   ]
  },
  {
   "cell_type": "code",
   "execution_count": 5,
   "metadata": {},
   "outputs": [],
   "source": [
    "#Helper function. y_train and X_train are assumed to have been defined in the notebook.\n",
    "def print_scores(model, y_train=y_train, X_train=X_train):\n",
    "    print(\"Roc_AUC Score: \", roc_auc_score(y_train, model.predict_proba(X_train)[:, 1]))\n",
    "    print(f\"best score: {model.best_score_} \\n estimator: {model.best_estimator_}\")"
   ]
  },
  {
   "cell_type": "code",
   "execution_count": 6,
   "metadata": {},
   "outputs": [],
   "source": [
    "#Helper function. Prints the classification report.\n",
    "def class_rep(model, y_test=y_test, X_test=X_test):\n",
    "    #Fit and classify on the best score.\n",
    "    y_pred = model.predict(X_test)\n",
    "    print(classification_report(y_test, y_pred))"
   ]
  },
  {
   "cell_type": "code",
   "execution_count": 12,
   "metadata": {},
   "outputs": [],
   "source": [
    "#Modeling parameters. \n",
    "#Some constant variables for parameter settings. \n",
    "#cross validation, constant parameter\n",
    "cv = 5\n",
    "\n",
    "#multiclass\n",
    "mc = ['auto', 'ovr', 'multinomial']\n",
    "#solver\n",
    "sv = ['newton-cg', 'liblinear', 'sag', 'saga']\n",
    "#penalty\n",
    "py = ['l1', 'l2', 'elasticnet', 'none']\n",
    "#criterion\n",
    "cn = ['gini', 'entropy']\n",
    "#max_features\n",
    "mf = ['auto', None, 'log2']\n",
    "#splitter\n",
    "sr = ['best', 'random']\n",
    "#max_depth\n",
    "md = [5, 7, 15, 29] \n",
    "#n_estimators\n",
    "ne = [n+50 for n in range(50, 500, 50)]  \n",
    "\n",
    "\n",
    "#Decompositions models\n",
    "skb = SelectKBest(k=100, score_func=chi2)\n",
    "svd =TruncatedSVD(n_components=50)\n",
    "enc = OneHotEncoder(handle_unknown='ignore')\n",
    "\n",
    "#logistic regression\n",
    "lrcPara = { \"lrc__multi_class\": mc, \n",
    "           \"lrc__solver\": sv,\n",
    "           #'lrc__penalty' : py       \n",
    "          }\n",
    "\n",
    "#decision tree\n",
    "dtPara = {#'dt__criterion': cn,\n",
    "           #'dt__max_features': mf,\n",
    "           #'dt__splitter':sr, \n",
    "           'dt__max_depth': md     \n",
    "          }\n",
    "\n",
    "#K Nearest Neighbors\n",
    "knnPara = {'knn__n_neighbors': [3, 9, 39, 12],\n",
    "           #'knn__weights': ['uniform', 'distance'],\n",
    "           #'knn__algorithm': ['auto', 'ball_tree', 'kd_tree', 'brute'], \n",
    "           'knn__leaf_size': [30, 12, 9, 3, 17],  \n",
    "           #'knn__metric': ['mahalanobis','euclidean', 'manhattan', 'chebyshev', 'minkowski', 'seuclidean']   \n",
    "          }\n",
    "\n",
    "#Support Vector Classifier\n",
    "svcPara = {\n",
    "          'svc__kernel': ['linear', 'rbf'],\n",
    "          'svc__break_ties': [True] \n",
    "          }\n",
    "\n",
    "#Random Forest Classifier \n",
    "rfcPara = {#'rfc__criterion': cn,\n",
    "           #'rfc__max_features': mf,\n",
    "           #'rfc__oob_score':[True, False], \n",
    "           'rfc__max_depth': md,\n",
    "           'rfc__n_estimators': ne     \n",
    "          }\n",
    "\n",
    "#gradient boost \n",
    "gbcPara = {#'gbc__criterion': ['friedman_mse', 'mse', 'mae'],\n",
    "           #'gbc__max_features': mf,\n",
    "           'gbc__max_depth': md, \n",
    "           'gbc__n_estimators': ne\n",
    "          }"
   ]
  },
  {
   "cell_type": "markdown",
   "metadata": {},
   "source": [
    "# Model Selection\n",
    "\n",
    "A note on model selection - these models were run, sometimes several times - with verbosity level on. Due to the time constraints; some models were stopped prior to completion and a determination was made to either adjust parameters or not run the model. There are situations where one may see that a version of a model isn't present; for example, Random Forest does not dispay a version run with PCA (TruncateSVD). This is because I ran the model, noticed that the scores it was providing were neither desirable nor improving and - in the interest of being concise, deleted it in entirity. \n",
    "\n",
    "Classification reports were skipped for models returning less than 70% accuracy scores."
   ]
  },
  {
   "cell_type": "markdown",
   "metadata": {},
   "source": [
    "# Decision Tree"
   ]
  },
  {
   "cell_type": "code",
   "execution_count": null,
   "metadata": {},
   "outputs": [],
   "source": [
    "#First run for model selection on 250k records. It takes less than a minute to fit on five estimators. \n",
    "pipeline = Pipeline([('enc', enc), \n",
    "                     ('svd', svd),\n",
    "                     ('dt', DecisionTreeClassifier())])\n",
    "dt_svd = GridSearchCV(pipeline, dtPara, cv=cv, verbose=3)\n",
    "dt_svd.fit(X_train, y_train)"
   ]
  },
  {
   "cell_type": "code",
   "execution_count": 64,
   "metadata": {},
   "outputs": [
    {
     "data": {
      "text/plain": [
       "0.5652984793228599"
      ]
     },
     "execution_count": 64,
     "metadata": {},
     "output_type": "execute_result"
    }
   ],
   "source": [
    "roc_auc_score(y_train, dt_svd.predict_proba(X_train)[:, 1])"
   ]
  },
  {
   "cell_type": "code",
   "execution_count": 63,
   "metadata": {},
   "outputs": [
    {
     "name": "stdout",
     "output_type": "stream",
     "text": [
      "best score: 0.7129877450409752 \n",
      " estimator: Pipeline(steps=[('enc', OneHotEncoder(handle_unknown='ignore')),\n",
      "                ('svd', TruncatedSVD(n_components=50)),\n",
      "                ('dt', DecisionTreeClassifier(max_depth=7))])\n"
     ]
    }
   ],
   "source": [
    "print(f\"best score: {dt_svd.best_score_} \\n estimator: {dt_svd.best_estimator_}\")"
   ]
  },
  {
   "cell_type": "code",
   "execution_count": 66,
   "metadata": {},
   "outputs": [
    {
     "name": "stdout",
     "output_type": "stream",
     "text": [
      "Fitting 5 folds for each of 4 candidates, totalling 20 fits\n"
     ]
    },
    {
     "name": "stderr",
     "output_type": "stream",
     "text": [
      "[Parallel(n_jobs=1)]: Using backend SequentialBackend with 1 concurrent workers.\n",
      "[Parallel(n_jobs=1)]: Done  20 out of  20 | elapsed:  1.2min finished\n"
     ]
    },
    {
     "data": {
      "text/plain": [
       "GridSearchCV(cv=5,\n",
       "             estimator=Pipeline(steps=[('enc',\n",
       "                                        OneHotEncoder(handle_unknown='ignore')),\n",
       "                                       ('skb',\n",
       "                                        SelectKBest(k=100,\n",
       "                                                    score_func=<function chi2 at 0x00000167ACD188B8>)),\n",
       "                                       ('dt', DecisionTreeClassifier())]),\n",
       "             param_grid={'dt__max_depth': [5, 7, 15, 29]}, verbose=1)"
      ]
     },
     "execution_count": 66,
     "metadata": {},
     "output_type": "execute_result"
    }
   ],
   "source": [
    "#First run for model selection on 250k records. It takes less than a minute to fit on five estimators. \n",
    "pipeline = Pipeline([('enc', enc), \n",
    "                     ('skb', skb),\n",
    "                     ('dt', DecisionTreeClassifier())])\n",
    "dt_skb = GridSearchCV(pipeline, dtPara, cv=cv, verbose=1)\n",
    "dt_skb.fit(X_train, y_train)"
   ]
  },
  {
   "cell_type": "code",
   "execution_count": 67,
   "metadata": {},
   "outputs": [
    {
     "data": {
      "text/plain": [
       "0.6043909942677723"
      ]
     },
     "execution_count": 67,
     "metadata": {},
     "output_type": "execute_result"
    }
   ],
   "source": [
    "roc_auc_score(y_train, dt_skb.predict_proba(X_train)[:, 1])"
   ]
  },
  {
   "cell_type": "code",
   "execution_count": 68,
   "metadata": {},
   "outputs": [
    {
     "name": "stdout",
     "output_type": "stream",
     "text": [
      "best score: 0.7350454764480372 \n",
      " estimator: Pipeline(steps=[('enc', OneHotEncoder(handle_unknown='ignore')),\n",
      "                ('skb',\n",
      "                 SelectKBest(k=100,\n",
      "                             score_func=<function chi2 at 0x00000167ACD188B8>)),\n",
      "                ('dt', DecisionTreeClassifier(max_depth=29))])\n"
     ]
    }
   ],
   "source": [
    "print(f\"best score: {dt_skb.best_score_} \\n estimator: {dt_skb.best_estimator_}\")"
   ]
  },
  {
   "cell_type": "code",
   "execution_count": null,
   "metadata": {},
   "outputs": [],
   "source": [
    "#First run for model selection on 250k records. It takes less than a minute to fit on five estimators. \n",
    "pipeline = Pipeline([('enc', enc), \n",
    "                     ('skb', skb),\n",
    "                     ('dt', DecisionTreeClassifier())])\n",
    "para = {\n",
    "         'dt__max_depth': ne \n",
    "        }\n",
    "dt_skb = GridSearchCV(pipeline, para, cv=cv, verbose=3)\n",
    "dt_skb.fit(X_train, y_train)"
   ]
  },
  {
   "cell_type": "code",
   "execution_count": 76,
   "metadata": {},
   "outputs": [
    {
     "name": "stdout",
     "output_type": "stream",
     "text": [
      "0.6570450359927795\n",
      "best score: 0.7484914206628774 \n",
      " estimator: Pipeline(steps=[('enc', OneHotEncoder(handle_unknown='ignore')),\n",
      "                ('skb',\n",
      "                 SelectKBest(k=100,\n",
      "                             score_func=<function chi2 at 0x00000167ACD188B8>)),\n",
      "                ('dt', DecisionTreeClassifier(max_depth=250))])\n"
     ]
    }
   ],
   "source": [
    "print(roc_auc_score(y_train, dt_skb.predict_proba(X_train)[:, 1]))\n",
    "print(f\"best score: {dt_skb.best_score_} \\n estimator: {dt_skb.best_estimator_}\")"
   ]
  },
  {
   "cell_type": "code",
   "execution_count": 77,
   "metadata": {},
   "outputs": [
    {
     "name": "stdout",
     "output_type": "stream",
     "text": [
      "              precision    recall  f1-score   support\n",
      "\n",
      "           F       0.83      0.17      0.28     45317\n",
      "           M       0.74      0.99      0.85    111329\n",
      "\n",
      "    accuracy                           0.75    156646\n",
      "   macro avg       0.79      0.58      0.56    156646\n",
      "weighted avg       0.77      0.75      0.68    156646\n",
      "\n"
     ]
    }
   ],
   "source": [
    "#Fit and classify on the best score.\n",
    "y_pred = dt_skb.predict(X_test)\n",
    "print(classification_report(y_test, y_pred))"
   ]
  },
  {
   "cell_type": "markdown",
   "metadata": {},
   "source": [
    "# Random Forest\n",
    "\n",
    "I achieved better results with decision trees when I used the SelectKBest reduction. I also noticed that the model ran much faster. Originally, I attempted a run of the truncatedSVD method. After about 30 minutes, with a score reporting of 71 on average and a lagging gridsearch, I decided to run the selectkbest model."
   ]
  },
  {
   "cell_type": "code",
   "execution_count": null,
   "metadata": {},
   "outputs": [],
   "source": [
    "#First run for model selection on 250k records. It takes less than a minute to fit on five estimators. \n",
    "pipeline = Pipeline([('enc', enc), \n",
    "                     ('skb', skb),\n",
    "                     ('rfc', RandomForestClassifier())])\n",
    "rfc_skb = GridSearchCV(pipeline, rfcPara, cv=cv, verbose=3)\n",
    "rfc_skb.fit(X_train, y_train)"
   ]
  },
  {
   "cell_type": "code",
   "execution_count": 80,
   "metadata": {},
   "outputs": [
    {
     "name": "stdout",
     "output_type": "stream",
     "text": [
      "0.6447365108683398\n",
      "best score: 0.7370132911005614 \n",
      " estimator: Pipeline(steps=[('enc', OneHotEncoder(handle_unknown='ignore')),\n",
      "                ('skb',\n",
      "                 SelectKBest(k=100,\n",
      "                             score_func=<function chi2 at 0x00000167ACD188B8>)),\n",
      "                ('rfc',\n",
      "                 RandomForestClassifier(max_depth=29, n_estimators=400))])\n"
     ]
    }
   ],
   "source": [
    "print(roc_auc_score(y_train, rfc_skb.predict_proba(X_train)[:, 1]))\n",
    "print(f\"best score: {rfc_skb.best_score_} \\n estimator: {rfc_skb.best_estimator_}\")"
   ]
  },
  {
   "cell_type": "code",
   "execution_count": 82,
   "metadata": {},
   "outputs": [
    {
     "name": "stdout",
     "output_type": "stream",
     "text": [
      "              precision    recall  f1-score   support\n",
      "\n",
      "           F       0.87      0.11      0.19     45317\n",
      "           M       0.73      0.99      0.84    111329\n",
      "\n",
      "    accuracy                           0.74    156646\n",
      "   macro avg       0.80      0.55      0.52    156646\n",
      "weighted avg       0.77      0.74      0.65    156646\n",
      "\n"
     ]
    }
   ],
   "source": [
    "#Fit and classify on the best score.\n",
    "y_pred = rfc_skb.predict(X_test)\n",
    "print(classification_report(y_test, y_pred))"
   ]
  },
  {
   "cell_type": "markdown",
   "metadata": {},
   "source": [
    "# Imbalanced Learn Random Forest Classifer\n",
    "This imbalanced learn classifier may help balance the dataset, it did; a little. Notice the ROC_AUC score matches the accuracy. I may want to revisit this model or checkout Ada_Boost. I'll run a gradient boost model first and go from there.\n",
    "\n",
    "Note: The number of estimators are set to 400; which is the best result I got from my random forest model. I did this and reduce the cross validation to two when I realized that the process was taking a long time, the scores weren't improving much, and that I wanted to get a look at it."
   ]
  },
  {
   "cell_type": "code",
   "execution_count": null,
   "metadata": {},
   "outputs": [],
   "source": [
    "pipeline = Pipeline([('enc', enc), \n",
    "                     ('skb', skb),\n",
    "                     ('brfc', BalancedRandomForestClassifier(n_estimators=400))])\n",
    "\n",
    "#Balanced \n",
    "rfcPara = {#'rfc__criterion': cn,\n",
    "           #'rfc__max_features': mf,\n",
    "           #'rfc__oob_score':[True, False], \n",
    "           'brfc__max_depth': ne  \n",
    "          }\n",
    "brfc_skb = GridSearchCV(pipeline, rfcPara, cv=2, verbose=3)\n",
    "brfc_skb.fit(X_train, y_train)"
   ]
  },
  {
   "cell_type": "code",
   "execution_count": 91,
   "metadata": {},
   "outputs": [
    {
     "name": "stdout",
     "output_type": "stream",
     "text": [
      "0.6570431355911869\n",
      "best score: 0.6402775089801704 \n",
      " estimator: Pipeline(steps=[('enc', OneHotEncoder(handle_unknown='ignore')),\n",
      "                ('skb',\n",
      "                 SelectKBest(k=100,\n",
      "                             score_func=<function chi2 at 0x00000167ACD188B8>)),\n",
      "                ('brfc',\n",
      "                 BalancedRandomForestClassifier(max_depth=150,\n",
      "                                                n_estimators=400))])\n"
     ]
    }
   ],
   "source": [
    "print(roc_auc_score(y_train, brfc_skb.predict_proba(X_train)[:, 1]))\n",
    "print(f\"best score: {brfc_skb.best_score_} \\n estimator: {brfc_skb.best_estimator_}\")"
   ]
  },
  {
   "cell_type": "markdown",
   "metadata": {},
   "source": [
    "The imbalance for the dataset rests on the target variable. Either I haven't balanced out the dataset well enough (I need to learn how to adjust the parameters) or I do not have an imbalanced dataset as I had thought; originally. "
   ]
  },
  {
   "cell_type": "markdown",
   "metadata": {},
   "source": [
    "# Logistic Regression Classification"
   ]
  },
  {
   "cell_type": "code",
   "execution_count": null,
   "metadata": {},
   "outputs": [],
   "source": [
    "pipeline = Pipeline([('enc', enc), \n",
    "                     ('svd', svd),\n",
    "                     ('lrc', LogisticRegression())\n",
    "                    ])\n",
    "\n",
    "lrc_svd = GridSearchCV(pipeline, lrcPara, cv=5, verbose=3)\n",
    "lrc_svd.fit(X_train, y_train)\n"
   ]
  },
  {
   "cell_type": "code",
   "execution_count": 9,
   "metadata": {},
   "outputs": [
    {
     "name": "stdout",
     "output_type": "stream",
     "text": [
      "Roc_AUC Score:  0.5631157538736603\n",
      "best score: 0.7107119088625863 \n",
      " estimator: Pipeline(steps=[('enc', OneHotEncoder(handle_unknown='ignore')),\n",
      "                ('skb', TruncatedSVD(n_components=50)),\n",
      "                ('lrc',\n",
      "                 LogisticRegression(multi_class='ovr', solver='newton-cg'))])\n"
     ]
    }
   ],
   "source": [
    "print_scores(lrc_svd)"
   ]
  },
  {
   "cell_type": "code",
   "execution_count": 10,
   "metadata": {},
   "outputs": [
    {
     "name": "stdout",
     "output_type": "stream",
     "text": [
      "              precision    recall  f1-score   support\n",
      "\n",
      "           F       0.00      0.00      0.00     45317\n",
      "           M       0.71      1.00      0.83    111329\n",
      "\n",
      "    accuracy                           0.71    156646\n",
      "   macro avg       0.36      0.50      0.42    156646\n",
      "weighted avg       0.51      0.71      0.59    156646\n",
      "\n"
     ]
    }
   ],
   "source": [
    "class_rep(lrc_svd)"
   ]
  },
  {
   "cell_type": "code",
   "execution_count": null,
   "metadata": {},
   "outputs": [],
   "source": [
    "pipeline = Pipeline([('enc', enc), \n",
    "                     ('skb', skb),\n",
    "                     ('lrc', LogisticRegression())\n",
    "                    ])\n",
    "\n",
    "lrc_skb = GridSearchCV(pipeline, lrcPara, cv=5, verbose=3, scoring='balanced_accuracy')\n",
    "lrc_skb.fit(X_train, y_train)\n"
   ]
  },
  {
   "cell_type": "code",
   "execution_count": 14,
   "metadata": {},
   "outputs": [
    {
     "name": "stdout",
     "output_type": "stream",
     "text": [
      "Roc_AUC Score:  0.6535529555939187\n",
      "best score: 0.5708415497771704 \n",
      " estimator: Pipeline(steps=[('enc', OneHotEncoder(handle_unknown='ignore')),\n",
      "                ('skb',\n",
      "                 SelectKBest(k=100,\n",
      "                             score_func=<function chi2 at 0x0000022DA8B820D8>)),\n",
      "                ('lrc', LogisticRegression(solver='newton-cg'))])\n"
     ]
    }
   ],
   "source": [
    "print_scores(lrc_skb)"
   ]
  },
  {
   "cell_type": "code",
   "execution_count": 15,
   "metadata": {},
   "outputs": [
    {
     "name": "stdout",
     "output_type": "stream",
     "text": [
      "              precision    recall  f1-score   support\n",
      "\n",
      "           F       0.83      0.16      0.26     45317\n",
      "           M       0.74      0.99      0.85    111329\n",
      "\n",
      "    accuracy                           0.75    156646\n",
      "   macro avg       0.79      0.57      0.56    156646\n",
      "weighted avg       0.77      0.75      0.68    156646\n",
      "\n"
     ]
    }
   ],
   "source": [
    "class_rep(lrc_skb)"
   ]
  },
  {
   "cell_type": "markdown",
   "metadata": {},
   "source": [
    "# Gradient Boosting Classifier"
   ]
  },
  {
   "cell_type": "code",
   "execution_count": null,
   "metadata": {},
   "outputs": [],
   "source": [
    "pipeline = Pipeline([('enc', enc), \n",
    "                     ('skb', skb),\n",
    "                     ('gbc', GradientBoostingClassifier(n_iter_no_change=2))\n",
    "                    ])\n",
    "\n",
    "gbc_skb = GridSearchCV(pipeline, gbcPara, cv=cv, verbose=3)\n",
    "gbc_skb.fit(X_train, y_train)\n"
   ]
  },
  {
   "cell_type": "code",
   "execution_count": 101,
   "metadata": {},
   "outputs": [
    {
     "name": "stdout",
     "output_type": "stream",
     "text": [
      "Roc_AUC Score:  0.6570361587017484\n",
      "best score: 0.7485041882714543 \n",
      " estimator: Pipeline(steps=[('enc', OneHotEncoder(handle_unknown='ignore')),\n",
      "                ('skb',\n",
      "                 SelectKBest(k=100,\n",
      "                             score_func=<function chi2 at 0x00000167ACD188B8>)),\n",
      "                ('gbc',\n",
      "                 GradientBoostingClassifier(max_depth=29, n_iter_no_change=2))])\n",
      "              precision    recall  f1-score   support\n",
      "\n",
      "           F       0.84      0.17      0.28     45317\n",
      "           M       0.74      0.99      0.85    111329\n",
      "\n",
      "    accuracy                           0.75    156646\n",
      "   macro avg       0.79      0.58      0.56    156646\n",
      "weighted avg       0.77      0.75      0.68    156646\n",
      "\n"
     ]
    }
   ],
   "source": [
    "print_scores(gbc_skb)\n",
    "class_rep(gbc_skb)"
   ]
  },
  {
   "cell_type": "markdown",
   "metadata": {},
   "source": [
    "# K Nearest Neighbors"
   ]
  },
  {
   "cell_type": "code",
   "execution_count": null,
   "metadata": {},
   "outputs": [],
   "source": [
    "pipeline = Pipeline([('enc', enc), \n",
    "                     ('svd', svd),\n",
    "                     ('knn', KNeighborsClassifier())\n",
    "                    ])\n",
    "\n",
    "knn_svd = GridSearchCV(pipeline, knnPara, cv=cv, verbose=3)\n",
    "knn_svd.fit(X_train, y_train)\n"
   ]
  },
  {
   "cell_type": "code",
   "execution_count": 168,
   "metadata": {},
   "outputs": [
    {
     "name": "stdout",
     "output_type": "stream",
     "text": [
      "Roc_AUC Score:  0.6456846857386586\n",
      "best score: 0.7098022131569064 \n",
      " estimator: Pipeline(steps=[('enc', OneHotEncoder(handle_unknown='ignore')),\n",
      "                ('svd', TruncatedSVD(n_components=50)),\n",
      "                ('knn', KNeighborsClassifier(leaf_size=17, n_neighbors=39))])\n"
     ]
    }
   ],
   "source": [
    "print_scores(knn_svd)"
   ]
  },
  {
   "cell_type": "code",
   "execution_count": 169,
   "metadata": {},
   "outputs": [
    {
     "name": "stdout",
     "output_type": "stream",
     "text": [
      "              precision    recall  f1-score   support\n",
      "\n",
      "           F       0.48      0.03      0.06     45317\n",
      "           M       0.71      0.99      0.83    111329\n",
      "\n",
      "    accuracy                           0.71    156646\n",
      "   macro avg       0.60      0.51      0.44    156646\n",
      "weighted avg       0.65      0.71      0.61    156646\n",
      "\n"
     ]
    }
   ],
   "source": [
    "class_rep(knn_svd)"
   ]
  },
  {
   "cell_type": "markdown",
   "metadata": {},
   "source": [
    "# Unsupervised Learning Model"
   ]
  },
  {
   "cell_type": "code",
   "execution_count": 89,
   "metadata": {},
   "outputs": [
    {
     "data": {
      "text/plain": [
       "((78322, 7), (78322,))"
      ]
     },
     "execution_count": 89,
     "metadata": {},
     "output_type": "execute_result"
    }
   ],
   "source": [
    "#Downsample and pull the data; as necessary. \n",
    "#Clustering Unsupervised learning models against group labels. \n",
    "cluster_true = talkdata.group.values.ravel() #cluster on group\n",
    "cluster_gender = talkdata.gender.values.ravel() #cluster on gender.\n",
    "cluster_age = talkdata.age.values.ravel() #cluster on age.\n",
    "cluster_data = talkdata.drop(columns=['timestamp', 'longitude', 'latitude', 'phone_brand', 'device_model', 'gender', 'age', 'group'])\n",
    "\n",
    "#The training dataset can now be used for training/testing against models.\n",
    "X_train, X_test, y_train, y_test = train_test_split(cluster_data, cluster_gender, test_size=0.999, random_state=42, stratify=cluster_gender)\n",
    "X_train.shape, y_train.shape"
   ]
  },
  {
   "cell_type": "code",
   "execution_count": 90,
   "metadata": {},
   "outputs": [
    {
     "data": {
      "text/html": [
       "<div>\n",
       "<style scoped>\n",
       "    .dataframe tbody tr th:only-of-type {\n",
       "        vertical-align: middle;\n",
       "    }\n",
       "\n",
       "    .dataframe tbody tr th {\n",
       "        vertical-align: top;\n",
       "    }\n",
       "\n",
       "    .dataframe thead th {\n",
       "        text-align: right;\n",
       "    }\n",
       "</style>\n",
       "<table border=\"1\" class=\"dataframe\">\n",
       "  <thead>\n",
       "    <tr style=\"text-align: right;\">\n",
       "      <th></th>\n",
       "      <th>coordinates</th>\n",
       "      <th>is_active</th>\n",
       "      <th>category</th>\n",
       "      <th>hour</th>\n",
       "      <th>weekday</th>\n",
       "      <th>week</th>\n",
       "      <th>device_type</th>\n",
       "    </tr>\n",
       "  </thead>\n",
       "  <tbody>\n",
       "    <tr>\n",
       "      <th>5174218</th>\n",
       "      <td>(37.53, 121.39)</td>\n",
       "      <td>0.0</td>\n",
       "      <td>Wealth Management</td>\n",
       "      <td>21</td>\n",
       "      <td>5</td>\n",
       "      <td>18</td>\n",
       "      <td>华为 Ascend P8</td>\n",
       "    </tr>\n",
       "    <tr>\n",
       "      <th>1288864</th>\n",
       "      <td>(26.39, 106.64)</td>\n",
       "      <td>0.0</td>\n",
       "      <td>Internet banking</td>\n",
       "      <td>12</td>\n",
       "      <td>4</td>\n",
       "      <td>18</td>\n",
       "      <td>华为 荣耀6</td>\n",
       "    </tr>\n",
       "    <tr>\n",
       "      <th>1442479</th>\n",
       "      <td>(0.0, 0.0)</td>\n",
       "      <td>0.0</td>\n",
       "      <td>Property Industry 1.0</td>\n",
       "      <td>9</td>\n",
       "      <td>3</td>\n",
       "      <td>18</td>\n",
       "      <td>华为 荣耀6</td>\n",
       "    </tr>\n",
       "    <tr>\n",
       "      <th>5477526</th>\n",
       "      <td>(21.68, 110.9)</td>\n",
       "      <td>1.0</td>\n",
       "      <td>Property Industry 1.0</td>\n",
       "      <td>11</td>\n",
       "      <td>2</td>\n",
       "      <td>18</td>\n",
       "      <td>vivo X5Pro</td>\n",
       "    </tr>\n",
       "    <tr>\n",
       "      <th>6031660</th>\n",
       "      <td>(28.2, 113.01)</td>\n",
       "      <td>0.0</td>\n",
       "      <td>Technology Information</td>\n",
       "      <td>20</td>\n",
       "      <td>5</td>\n",
       "      <td>18</td>\n",
       "      <td>华为 荣耀6</td>\n",
       "    </tr>\n",
       "  </tbody>\n",
       "</table>\n",
       "</div>"
      ],
      "text/plain": [
       "             coordinates  is_active                category  hour  weekday  \\\n",
       "5174218  (37.53, 121.39)        0.0       Wealth Management    21        5   \n",
       "1288864  (26.39, 106.64)        0.0        Internet banking    12        4   \n",
       "1442479       (0.0, 0.0)        0.0   Property Industry 1.0     9        3   \n",
       "5477526   (21.68, 110.9)        1.0   Property Industry 1.0    11        2   \n",
       "6031660   (28.2, 113.01)        0.0  Technology Information    20        5   \n",
       "\n",
       "         week   device_type  \n",
       "5174218    18  华为 Ascend P8  \n",
       "1288864    18        华为 荣耀6  \n",
       "1442479    18        华为 荣耀6  \n",
       "5477526    18    vivo X5Pro  \n",
       "6031660    18        华为 荣耀6  "
      ]
     },
     "execution_count": 90,
     "metadata": {},
     "output_type": "execute_result"
    }
   ],
   "source": [
    "X_train.head()"
   ]
  },
  {
   "cell_type": "markdown",
   "metadata": {},
   "source": [
    "## KMeans "
   ]
  },
  {
   "cell_type": "code",
   "execution_count": 91,
   "metadata": {},
   "outputs": [
    {
     "name": "stdout",
     "output_type": "stream",
     "text": [
      "Welcome to the KMeans Cluster Search on 78322 samples \n",
      " Start time: 2021-01-16 20:05:15.643062\n",
      "*************************************************************************************\n",
      "Building cluster 2 at 2021-01-16 20:05:15.643062\n",
      "scoring the model at: 2021-01-16 20:05:20.563405\n",
      "best score so far is 0.5638086529353075 with a k of 2\n",
      "-----\n",
      "Building cluster 4 at 2021-01-16 20:06:39.945249\n",
      "scoring the model at: 2021-01-16 20:06:41.907003\n",
      "best score so far is 0.6066647097685256 with a k of 4\n",
      "-----\n",
      "Building cluster 6 at 2021-01-16 20:07:57.869170\n",
      "scoring the model at: 2021-01-16 20:08:00.185052\n",
      "best score so far is 0.6324964067913547 with a k of 6\n",
      "-----\n",
      "Building cluster 8 at 2021-01-16 20:09:16.042876\n",
      "scoring the model at: 2021-01-16 20:09:18.648874\n",
      "best score so far is 0.6546847566663271 with a k of 8\n",
      "-----\n",
      "Building cluster 10 at 2021-01-16 20:10:32.647011\n",
      "scoring the model at: 2021-01-16 20:10:35.333851\n",
      "best score so far is 0.6738427220667768 with a k of 10\n",
      "-----\n",
      "Building cluster 12 at 2021-01-16 20:11:53.483551\n",
      "scoring the model at: 2021-01-16 20:11:56.325286\n",
      "best score so far is 0.6949245270682476 with a k of 12\n",
      "-----\n",
      "Building cluster 14 at 2021-01-16 20:13:11.796670\n",
      "scoring the model at: 2021-01-16 20:13:15.090790\n",
      "best score so far is 0.714616410255694 with a k of 14\n",
      "-----\n",
      "Thank you for using the KMeans Cluster Search. End time: 2021-01-16 20:14:33.677394\n",
      "*************************************************************************************\n"
     ]
    }
   ],
   "source": [
    "#Encode the data.\n",
    "enc = OneHotEncoder()\n",
    "X = enc.fit_transform(X_train)\n",
    "y = y_train\n",
    "\n",
    "#Select K Best the data\n",
    "skb = SelectKBest(k=100, score_func=chi2)\n",
    "X = skb.fit_transform(X, y)\n",
    "\n",
    "#Run Kmeans for the best silhouette score\n",
    "#k-means cluster using pca. \n",
    "scores = []\n",
    "K = range(2, 15, 2) \n",
    "metric='euclidean'\n",
    "goal = 0\n",
    "\n",
    "#score on a sample\n",
    "size = X.shape[0]\n",
    "score_sample = X\n",
    "\n",
    "print(\"Welcome to the KMeans Cluster Search on {} samples \\n Start time: {}\".format(size, datetime.datetime.now()))\n",
    "print(\"*************************************************************************************\")\n",
    "for k in K: \n",
    "\n",
    "  #Building and fitting the model, date time and labels for knowing when a first cluster and silhouette score has completed. \n",
    "  print(\"Building cluster {} at {}\".format(k, datetime.datetime.now()))   \n",
    "  sample_pred = KMeans(n_clusters=k).fit_predict(score_sample)\n",
    "  \n",
    "  print(\"scoring the model at: {}\".format(datetime.datetime.now()))\n",
    "  score = silhouette_score(score_sample, sample_pred, metric=metric)\n",
    "  #track for the max score.\n",
    "  if score > goal:\n",
    "    goal = score\n",
    "    cluster = k\n",
    "    print(\"best score so far is {} with a k of {}\".format(goal, k))\n",
    "  scores.append(score)\n",
    "  print(\"-----\")\n",
    "print(\"Thank you for using the KMeans Cluster Search. End time: {}\".format(datetime.datetime.now()))\n",
    "print(\"*************************************************************************************\")"
   ]
  },
  {
   "cell_type": "code",
   "execution_count": 94,
   "metadata": {},
   "outputs": [
    {
     "name": "stdout",
     "output_type": "stream",
     "text": [
      "Welcome to the KMeans Cluster Search on 78322 samples \n",
      " Start time: 2021-01-16 20:25:08.859748\n",
      "*************************************************************************************\n",
      "Building cluster 12 at 2021-01-16 20:25:08.860751\n",
      "scoring the model at: 2021-01-16 20:25:11.917887\n",
      "-----\n",
      "Building cluster 14 at 2021-01-16 20:26:26.758924\n",
      "scoring the model at: 2021-01-16 20:26:29.807531\n",
      "-----\n",
      "Building cluster 16 at 2021-01-16 20:27:46.753417\n",
      "scoring the model at: 2021-01-16 20:27:50.206352\n",
      "-----\n",
      "Building cluster 50 at 2021-01-16 20:29:09.802001\n",
      "scoring the model at: 2021-01-16 20:29:17.200772\n",
      "best score so far is 0.9073884925590461 with a k of 50\n",
      "-----\n",
      "Building cluster 100 at 2021-01-16 20:30:32.095529\n",
      "scoring the model at: 2021-01-16 20:30:43.934395\n",
      "best score so far is 0.9699968882987217 with a k of 100\n",
      "-----\n",
      "Thank you for using the KMeans Cluster Search. End time: 2021-01-16 20:31:57.592267\n",
      "*************************************************************************************\n"
     ]
    }
   ],
   "source": [
    "#Add additional values of k for the number of clusters; it seems I didn't set the cluster high enough last round. \n",
    "#k-means cluster using pca. \n",
    "K = [12, 14, 16, 50, 100]\n",
    "metric='euclidean'\n",
    "\n",
    "#score on a sample\n",
    "size = X.shape[0]\n",
    "score_sample = X\n",
    "\n",
    "print(\"Welcome to the KMeans Cluster Search on {} samples \\n Start time: {}\".format(size, datetime.datetime.now()))\n",
    "print(\"*************************************************************************************\")\n",
    "for k in K: \n",
    "\n",
    "  #Building and fitting the model, date time and labels for knowing when a first cluster and silhouette score has completed. \n",
    "  print(\"Building cluster {} at {}\".format(k, datetime.datetime.now()))   \n",
    "  sample_pred = KMeans(n_clusters=k).fit_predict(score_sample)\n",
    "  \n",
    "  print(\"scoring the model at: {}\".format(datetime.datetime.now()))\n",
    "  score = silhouette_score(score_sample, sample_pred, metric=metric)\n",
    "  #track for the max score.\n",
    "  if score > goal:\n",
    "    goal = score\n",
    "    cluster = k\n",
    "    print(\"best score so far is {} with a k of {}\".format(goal, k))\n",
    "  scores.append(score)\n",
    "  print(\"-----\")\n",
    "print(\"Thank you for using the KMeans Cluster Search. End time: {}\".format(datetime.datetime.now()))\n",
    "print(\"*************************************************************************************\")"
   ]
  },
  {
   "cell_type": "markdown",
   "metadata": {},
   "source": [
    "How many clusters do I want? One hundred would be quite large. I know from revewing the scores - that the silhouette score appears to go up with each cluster count. \n",
    "I want a cluster number that's easy to work with. The number for my demographic is twelve. I get a score of less than 70% with that number. 50 puts me in the 90% range, but that's way too large.\n",
    "\n",
    "Twenty is a number that's in between. I'll choose 20 as my cluster count for this project. I think it will be manageable. "
   ]
  },
  {
   "cell_type": "code",
   "execution_count": 142,
   "metadata": {},
   "outputs": [
    {
     "name": "stdout",
     "output_type": "stream",
     "text": [
      "scoring the model at: 2021-01-16 21:57:46.735752\n",
      "The silhouette score for the 20 chosen is 0.8531995262191375\n",
      "Completed scoring the model at: 2021-01-16 21:57:54.327118\n"
     ]
    }
   ],
   "source": [
    "num_clusters = 20\n",
    "#The test dataset can now be used for evaluating the model. \n",
    "X_test, X_prod, y_test, y_prod = train_test_split(X_test, y_test, test_size=0.80, random_state=42, stratify=y_test)\n",
    "\n",
    "#Encode the data.\n",
    "enc = OneHotEncoder()\n",
    "X = enc.fit_transform(X_test)\n",
    "y = y_test\n",
    "\n",
    "#Select K Best the data\n",
    "skb = SelectKBest(k=100, score_func=chi2)\n",
    "X = skb.fit_transform(X, y)\n",
    "\n",
    "kmeans = KMeans(n_clusters=num_clusters)\n",
    "cluster= kmeans.fit_predict(X)\n",
    "#Run the best silhouette score.\n",
    "print(\"scoring the model at: {}\".format(datetime.datetime.now()))\n",
    "print(f'The silhouette score for the {num_clusters} chosen is {silhouette_score(X, cluster)}')\n",
    "print(\"Completed scoring the model at: {}\".format(datetime.datetime.now()))"
   ]
  },
  {
   "cell_type": "code",
   "execution_count": 143,
   "metadata": {},
   "outputs": [
    {
     "data": {
      "text/plain": [
       "0.5049175018732595"
      ]
     },
     "execution_count": 143,
     "metadata": {},
     "output_type": "execute_result"
    }
   ],
   "source": [
    "fowlkes_mallows_score(y, cluster)"
   ]
  },
  {
   "cell_type": "code",
   "execution_count": 158,
   "metadata": {},
   "outputs": [
    {
     "data": {
      "text/html": [
       "<div>\n",
       "<style scoped>\n",
       "    .dataframe tbody tr th:only-of-type {\n",
       "        vertical-align: middle;\n",
       "    }\n",
       "\n",
       "    .dataframe tbody tr th {\n",
       "        vertical-align: top;\n",
       "    }\n",
       "\n",
       "    .dataframe thead th {\n",
       "        text-align: right;\n",
       "    }\n",
       "</style>\n",
       "<table border=\"1\" class=\"dataframe\">\n",
       "  <thead>\n",
       "    <tr style=\"text-align: right;\">\n",
       "      <th></th>\n",
       "      <th>coordinates</th>\n",
       "      <th>is_active</th>\n",
       "      <th>category</th>\n",
       "      <th>hour</th>\n",
       "      <th>weekday</th>\n",
       "      <th>week</th>\n",
       "      <th>device_type</th>\n",
       "    </tr>\n",
       "  </thead>\n",
       "  <tbody>\n",
       "    <tr>\n",
       "      <th>0</th>\n",
       "      <td>(41.82, 123.47)</td>\n",
       "      <td>0</td>\n",
       "      <td>1 free</td>\n",
       "      <td>0</td>\n",
       "      <td>0</td>\n",
       "      <td>17</td>\n",
       "      <td>三星 Galaxy A5</td>\n",
       "    </tr>\n",
       "    <tr>\n",
       "      <th>1</th>\n",
       "      <td>(0.0, 0.0)</td>\n",
       "      <td>0</td>\n",
       "      <td>1 free</td>\n",
       "      <td>0</td>\n",
       "      <td>0</td>\n",
       "      <td>17</td>\n",
       "      <td>三星 Galaxy A5</td>\n",
       "    </tr>\n",
       "    <tr>\n",
       "      <th>2</th>\n",
       "      <td>(34.74, 111.92)</td>\n",
       "      <td>0</td>\n",
       "      <td>1 free</td>\n",
       "      <td>0</td>\n",
       "      <td>0</td>\n",
       "      <td>17</td>\n",
       "      <td>华为 荣耀畅玩4X</td>\n",
       "    </tr>\n",
       "    <tr>\n",
       "      <th>3</th>\n",
       "      <td>(38.03, 115.02)</td>\n",
       "      <td>0</td>\n",
       "      <td>1 free</td>\n",
       "      <td>0</td>\n",
       "      <td>0</td>\n",
       "      <td>17</td>\n",
       "      <td>小米 红米note</td>\n",
       "    </tr>\n",
       "    <tr>\n",
       "      <th>4</th>\n",
       "      <td>(32.11, 118.81)</td>\n",
       "      <td>0</td>\n",
       "      <td>1 free</td>\n",
       "      <td>0</td>\n",
       "      <td>0</td>\n",
       "      <td>17</td>\n",
       "      <td>华为 荣耀3X畅玩版</td>\n",
       "    </tr>\n",
       "    <tr>\n",
       "      <th>5</th>\n",
       "      <td>(-0.18, 0.02)</td>\n",
       "      <td>0</td>\n",
       "      <td>1 free</td>\n",
       "      <td>0</td>\n",
       "      <td>0</td>\n",
       "      <td>17</td>\n",
       "      <td>魅族 MX5</td>\n",
       "    </tr>\n",
       "    <tr>\n",
       "      <th>6</th>\n",
       "      <td>(0.0, 0.0)</td>\n",
       "      <td>0</td>\n",
       "      <td>1 free</td>\n",
       "      <td>0</td>\n",
       "      <td>0</td>\n",
       "      <td>17</td>\n",
       "      <td>小米 红米2</td>\n",
       "    </tr>\n",
       "    <tr>\n",
       "      <th>7</th>\n",
       "      <td>(24.45, 117.8)</td>\n",
       "      <td>0</td>\n",
       "      <td>1 free</td>\n",
       "      <td>0</td>\n",
       "      <td>0</td>\n",
       "      <td>17</td>\n",
       "      <td>小米 红米Note3</td>\n",
       "    </tr>\n",
       "    <tr>\n",
       "      <th>8</th>\n",
       "      <td>(-0.18, 0.02)</td>\n",
       "      <td>0</td>\n",
       "      <td>1 free</td>\n",
       "      <td>0</td>\n",
       "      <td>0</td>\n",
       "      <td>17</td>\n",
       "      <td>小米 红米2</td>\n",
       "    </tr>\n",
       "    <tr>\n",
       "      <th>9</th>\n",
       "      <td>(30.66, 104.13)</td>\n",
       "      <td>0</td>\n",
       "      <td>1 free</td>\n",
       "      <td>0</td>\n",
       "      <td>0</td>\n",
       "      <td>17</td>\n",
       "      <td>三星 Galaxy Grand 2</td>\n",
       "    </tr>\n",
       "    <tr>\n",
       "      <th>10</th>\n",
       "      <td>(0.0, 0.0)</td>\n",
       "      <td>0</td>\n",
       "      <td>1 free</td>\n",
       "      <td>0</td>\n",
       "      <td>0</td>\n",
       "      <td>17</td>\n",
       "      <td>小米 红米note</td>\n",
       "    </tr>\n",
       "    <tr>\n",
       "      <th>11</th>\n",
       "      <td>(0.0, 0.0)</td>\n",
       "      <td>0</td>\n",
       "      <td>1 free</td>\n",
       "      <td>0</td>\n",
       "      <td>0</td>\n",
       "      <td>17</td>\n",
       "      <td>魅族 MX5</td>\n",
       "    </tr>\n",
       "    <tr>\n",
       "      <th>12</th>\n",
       "      <td>(-0.18, 0.02)</td>\n",
       "      <td>0</td>\n",
       "      <td>1 free</td>\n",
       "      <td>0</td>\n",
       "      <td>0</td>\n",
       "      <td>17</td>\n",
       "      <td>华为 畅享5</td>\n",
       "    </tr>\n",
       "    <tr>\n",
       "      <th>13</th>\n",
       "      <td>(-0.18, 0.02)</td>\n",
       "      <td>0</td>\n",
       "      <td>1 free</td>\n",
       "      <td>0</td>\n",
       "      <td>0</td>\n",
       "      <td>17</td>\n",
       "      <td>乐视 超级手机1</td>\n",
       "    </tr>\n",
       "    <tr>\n",
       "      <th>14</th>\n",
       "      <td>(28.84, 112.35)</td>\n",
       "      <td>0</td>\n",
       "      <td>1 free</td>\n",
       "      <td>0</td>\n",
       "      <td>0</td>\n",
       "      <td>17</td>\n",
       "      <td>vivo X5Max+</td>\n",
       "    </tr>\n",
       "    <tr>\n",
       "      <th>15</th>\n",
       "      <td>(0.0, 0.0)</td>\n",
       "      <td>0</td>\n",
       "      <td>1 free</td>\n",
       "      <td>0</td>\n",
       "      <td>0</td>\n",
       "      <td>17</td>\n",
       "      <td>华为 荣耀畅玩4X</td>\n",
       "    </tr>\n",
       "    <tr>\n",
       "      <th>16</th>\n",
       "      <td>(41.91, 123.57)</td>\n",
       "      <td>0</td>\n",
       "      <td>1 free</td>\n",
       "      <td>0</td>\n",
       "      <td>0</td>\n",
       "      <td>17</td>\n",
       "      <td>OPPO R2017</td>\n",
       "    </tr>\n",
       "    <tr>\n",
       "      <th>17</th>\n",
       "      <td>(39.67, 118.16)</td>\n",
       "      <td>0</td>\n",
       "      <td>1 free</td>\n",
       "      <td>0</td>\n",
       "      <td>0</td>\n",
       "      <td>17</td>\n",
       "      <td>vivo X5Pro</td>\n",
       "    </tr>\n",
       "    <tr>\n",
       "      <th>18</th>\n",
       "      <td>(22.63, 114.07)</td>\n",
       "      <td>0</td>\n",
       "      <td>1 free</td>\n",
       "      <td>0</td>\n",
       "      <td>0</td>\n",
       "      <td>17</td>\n",
       "      <td>vivo X3L</td>\n",
       "    </tr>\n",
       "    <tr>\n",
       "      <th>19</th>\n",
       "      <td>(30.57, 114.26)</td>\n",
       "      <td>0</td>\n",
       "      <td>1 free</td>\n",
       "      <td>0</td>\n",
       "      <td>0</td>\n",
       "      <td>17</td>\n",
       "      <td>三星 Galaxy S6 Edge</td>\n",
       "    </tr>\n",
       "  </tbody>\n",
       "</table>\n",
       "</div>"
      ],
      "text/plain": [
       "        coordinates is_active category hour weekday week        device_type\n",
       "0   (41.82, 123.47)         0   1 free    0       0   17       三星 Galaxy A5\n",
       "1        (0.0, 0.0)         0   1 free    0       0   17       三星 Galaxy A5\n",
       "2   (34.74, 111.92)         0   1 free    0       0   17          华为 荣耀畅玩4X\n",
       "3   (38.03, 115.02)         0   1 free    0       0   17          小米 红米note\n",
       "4   (32.11, 118.81)         0   1 free    0       0   17         华为 荣耀3X畅玩版\n",
       "5     (-0.18, 0.02)         0   1 free    0       0   17             魅族 MX5\n",
       "6        (0.0, 0.0)         0   1 free    0       0   17             小米 红米2\n",
       "7    (24.45, 117.8)         0   1 free    0       0   17         小米 红米Note3\n",
       "8     (-0.18, 0.02)         0   1 free    0       0   17             小米 红米2\n",
       "9   (30.66, 104.13)         0   1 free    0       0   17  三星 Galaxy Grand 2\n",
       "10       (0.0, 0.0)         0   1 free    0       0   17          小米 红米note\n",
       "11       (0.0, 0.0)         0   1 free    0       0   17             魅族 MX5\n",
       "12    (-0.18, 0.02)         0   1 free    0       0   17             华为 畅享5\n",
       "13    (-0.18, 0.02)         0   1 free    0       0   17           乐视 超级手机1\n",
       "14  (28.84, 112.35)         0   1 free    0       0   17        vivo X5Max+\n",
       "15       (0.0, 0.0)         0   1 free    0       0   17          华为 荣耀畅玩4X\n",
       "16  (41.91, 123.57)         0   1 free    0       0   17         OPPO R2017\n",
       "17  (39.67, 118.16)         0   1 free    0       0   17         vivo X5Pro\n",
       "18  (22.63, 114.07)         0   1 free    0       0   17           vivo X3L\n",
       "19  (30.57, 114.26)         0   1 free    0       0   17  三星 Galaxy S6 Edge"
      ]
     },
     "execution_count": 158,
     "metadata": {},
     "output_type": "execute_result"
    }
   ],
   "source": [
    "#Look a the means/centers of the data. This will give me an idea of what's manipulating the clusters. \n",
    "kmeans_results = pd.DataFrame(enc.inverse_transform(skb.inverse_transform(kmeans.cluster_centers_)), columns=X_test.columns)\n",
    "kmeans_results"
   ]
  },
  {
   "cell_type": "code",
   "execution_count": 148,
   "metadata": {},
   "outputs": [],
   "source": [
    "cluster_model = X_test.copy()\n",
    "cluster_model['cluster'] = cluster"
   ]
  },
  {
   "cell_type": "markdown",
   "metadata": {},
   "source": [
    "# What is my demographic? "
   ]
  },
  {
   "cell_type": "code",
   "execution_count": 149,
   "metadata": {},
   "outputs": [],
   "source": [
    "cluster_model['latitude'] = talkdata.latitude\n",
    "cluster_model['longitude'] = talkdata.longitude\n",
    "cluster_model['gender'] = talkdata.gender\n",
    "cluster_model['group'] = talkdata.group"
   ]
  },
  {
   "cell_type": "code",
   "execution_count": 22,
   "metadata": {},
   "outputs": [],
   "source": [
    "#Set the font to display phone brands and models.\n",
    "sns.set(style=\"whitegrid\")\n",
    "sns.set_color_codes(\"pastel\")\n",
    "sns.set(font=\"SimSun\")"
   ]
  },
  {
   "cell_type": "code",
   "execution_count": 20,
   "metadata": {},
   "outputs": [],
   "source": [
    "#In case of kernel shutdown; reimport. \n",
    "#cluster_model = pd.read_csv('./data/clustered.csv')"
   ]
  },
  {
   "cell_type": "code",
   "execution_count": 30,
   "metadata": {},
   "outputs": [
    {
     "data": {
      "image/png": "[encoded data removed]",
      "text/plain": [
       "<Figure size 1440x612 with 2 Axes>"
      ]
     },
     "metadata": {},
     "output_type": "display_data"
    }
   ],
   "source": [
    "\n",
    "top_five = cluster_model.device_type.value_counts().nlargest(5).keys()\n",
    "men = cluster_model[cluster_model.gender == 'M']\n",
    "women = cluster_model[cluster_model.gender == 'F']\n",
    "\n",
    "\n",
    "men = men[men.device_type.isin(top_five)]\n",
    "women = women[women.device_type.isin(top_five)]\n",
    "\n",
    "#Split the count plot.\n",
    "fig,ax =  plt.subplots(1,2, figsize=(20,8.5))\n",
    "plt.suptitle('Overall Top Five Device Usage')\n",
    "sns.countplot(y='device_type', \n",
    "            data= men, \n",
    "            hue='cluster', \n",
    "            ax=ax[0]).set_title('Male Contributions')\n",
    "\n",
    "sns.countplot(y='device_type', \n",
    "            data=women, \n",
    "            hue='cluster', \n",
    "            ax=ax[1]).set_title(\"Female Contributions\")\n",
    "plt.show()"
   ]
  },
  {
   "cell_type": "code",
   "execution_count": 25,
   "metadata": {},
   "outputs": [],
   "source": [
    "top_five_clusters = cluster_model[cluster_model.device_type.isin(top_five)]"
   ]
  },
  {
   "cell_type": "code",
   "execution_count": 29,
   "metadata": {},
   "outputs": [
    {
     "data": {
      "image/png": "[encoded data removed]",
      "text/plain": [
       "<Figure size 432x288 with 1 Axes>"
      ]
     },
     "metadata": {},
     "output_type": "display_data"
    }
   ],
   "source": [
    "sns.countplot(y='device_type', \n",
    "            data= top_five_clusters, \n",
    "            hue='cluster').set_title('Top five Devices by Cluster')\n",
    "plt.show()"
   ]
  },
  {
   "cell_type": "code",
   "execution_count": 153,
   "metadata": {},
   "outputs": [],
   "source": [
    "#I'm not done visualizing these cluster models; but I may run into some issues later. Exporting the data to csv for future use; if needed.\n",
    "cluster_model.to_csv('./data/clustered.csv', index=False)"
   ]
  },
  {
   "cell_type": "code",
   "execution_count": 174,
   "metadata": {},
   "outputs": [
    {
     "data": {
      "text/plain": [
       "cluster\n",
       "0     6218\n",
       "3      292\n",
       "2      273\n",
       "7      117\n",
       "5      112\n",
       "8       93\n",
       "4       82\n",
       "13      80\n",
       "17      71\n",
       "14      56\n",
       "19      51\n",
       "9       50\n",
       "18      30\n",
       "12      26\n",
       "16      16\n",
       "10       1\n",
       "6        1\n",
       "11       1\n",
       "15       1\n",
       "1        1\n",
       "Name: coordinates, dtype: int64"
      ]
     },
     "execution_count": 174,
     "metadata": {},
     "output_type": "execute_result"
    }
   ],
   "source": [
    "cluster_model.groupby(by='cluster').coordinates.nunique().sort_values(ascending=False)"
   ]
  },
  {
   "cell_type": "code",
   "execution_count": 184,
   "metadata": {},
   "outputs": [
    {
     "data": {
      "image/png": "[encoded data removed]",
      "text/plain": [
       "<Figure size 1440x612 with 2 Axes>"
      ]
     },
     "metadata": {},
     "output_type": "display_data"
    }
   ],
   "source": [
    "#Split the count plot.\n",
    "fig,ax =  plt.subplots(1,2, figsize=(20,8.5))\n",
    "plt.suptitle('Group Count in top Five Clusters')\n",
    "sns.countplot(y='group', \n",
    "            data= men, \n",
    "            hue='cluster', \n",
    "            ax=ax[0]).set_title('Male Counts')\n",
    "\n",
    "sns.countplot(y='group', \n",
    "            data=women, \n",
    "            hue='cluster', \n",
    "            ax=ax[1]).set_title(\"Female Counts\")\n",
    "plt.show()"
   ]
  },
  {
   "cell_type": "code",
   "execution_count": 216,
   "metadata": {},
   "outputs": [
    {
     "data": {
      "text/html": [
       "<div>\n",
       "<style scoped>\n",
       "    .dataframe tbody tr th:only-of-type {\n",
       "        vertical-align: middle;\n",
       "    }\n",
       "\n",
       "    .dataframe tbody tr th {\n",
       "        vertical-align: top;\n",
       "    }\n",
       "\n",
       "    .dataframe thead th {\n",
       "        text-align: right;\n",
       "    }\n",
       "</style>\n",
       "<table border=\"1\" class=\"dataframe\">\n",
       "  <thead>\n",
       "    <tr style=\"text-align: right;\">\n",
       "      <th></th>\n",
       "      <th>coordinates</th>\n",
       "      <th>is_active</th>\n",
       "      <th>category</th>\n",
       "      <th>hour</th>\n",
       "      <th>weekday</th>\n",
       "      <th>week</th>\n",
       "      <th>device_type</th>\n",
       "      <th>gender</th>\n",
       "      <th>group</th>\n",
       "    </tr>\n",
       "    <tr>\n",
       "      <th>cluster</th>\n",
       "      <th></th>\n",
       "      <th></th>\n",
       "      <th></th>\n",
       "      <th></th>\n",
       "      <th></th>\n",
       "      <th></th>\n",
       "      <th></th>\n",
       "      <th></th>\n",
       "      <th></th>\n",
       "    </tr>\n",
       "  </thead>\n",
       "  <tbody>\n",
       "    <tr>\n",
       "      <th>0</th>\n",
       "      <td>6218</td>\n",
       "      <td>2</td>\n",
       "      <td>282</td>\n",
       "      <td>24</td>\n",
       "      <td>7</td>\n",
       "      <td>2</td>\n",
       "      <td>431</td>\n",
       "      <td>2</td>\n",
       "      <td>12</td>\n",
       "    </tr>\n",
       "    <tr>\n",
       "      <th>3</th>\n",
       "      <td>292</td>\n",
       "      <td>2</td>\n",
       "      <td>115</td>\n",
       "      <td>24</td>\n",
       "      <td>7</td>\n",
       "      <td>2</td>\n",
       "      <td>1</td>\n",
       "      <td>2</td>\n",
       "      <td>12</td>\n",
       "    </tr>\n",
       "    <tr>\n",
       "      <th>2</th>\n",
       "      <td>273</td>\n",
       "      <td>2</td>\n",
       "      <td>121</td>\n",
       "      <td>24</td>\n",
       "      <td>7</td>\n",
       "      <td>2</td>\n",
       "      <td>1</td>\n",
       "      <td>2</td>\n",
       "      <td>12</td>\n",
       "    </tr>\n",
       "    <tr>\n",
       "      <th>7</th>\n",
       "      <td>117</td>\n",
       "      <td>2</td>\n",
       "      <td>74</td>\n",
       "      <td>23</td>\n",
       "      <td>7</td>\n",
       "      <td>2</td>\n",
       "      <td>1</td>\n",
       "      <td>2</td>\n",
       "      <td>11</td>\n",
       "    </tr>\n",
       "    <tr>\n",
       "      <th>5</th>\n",
       "      <td>112</td>\n",
       "      <td>2</td>\n",
       "      <td>64</td>\n",
       "      <td>24</td>\n",
       "      <td>7</td>\n",
       "      <td>2</td>\n",
       "      <td>1</td>\n",
       "      <td>2</td>\n",
       "      <td>9</td>\n",
       "    </tr>\n",
       "    <tr>\n",
       "      <th>8</th>\n",
       "      <td>93</td>\n",
       "      <td>2</td>\n",
       "      <td>66</td>\n",
       "      <td>24</td>\n",
       "      <td>7</td>\n",
       "      <td>2</td>\n",
       "      <td>1</td>\n",
       "      <td>2</td>\n",
       "      <td>11</td>\n",
       "    </tr>\n",
       "    <tr>\n",
       "      <th>4</th>\n",
       "      <td>82</td>\n",
       "      <td>2</td>\n",
       "      <td>81</td>\n",
       "      <td>24</td>\n",
       "      <td>7</td>\n",
       "      <td>2</td>\n",
       "      <td>1</td>\n",
       "      <td>2</td>\n",
       "      <td>11</td>\n",
       "    </tr>\n",
       "    <tr>\n",
       "      <th>13</th>\n",
       "      <td>80</td>\n",
       "      <td>2</td>\n",
       "      <td>65</td>\n",
       "      <td>24</td>\n",
       "      <td>7</td>\n",
       "      <td>2</td>\n",
       "      <td>1</td>\n",
       "      <td>2</td>\n",
       "      <td>11</td>\n",
       "    </tr>\n",
       "    <tr>\n",
       "      <th>17</th>\n",
       "      <td>71</td>\n",
       "      <td>2</td>\n",
       "      <td>51</td>\n",
       "      <td>23</td>\n",
       "      <td>7</td>\n",
       "      <td>2</td>\n",
       "      <td>1</td>\n",
       "      <td>2</td>\n",
       "      <td>12</td>\n",
       "    </tr>\n",
       "    <tr>\n",
       "      <th>14</th>\n",
       "      <td>56</td>\n",
       "      <td>2</td>\n",
       "      <td>50</td>\n",
       "      <td>24</td>\n",
       "      <td>7</td>\n",
       "      <td>2</td>\n",
       "      <td>1</td>\n",
       "      <td>2</td>\n",
       "      <td>12</td>\n",
       "    </tr>\n",
       "    <tr>\n",
       "      <th>19</th>\n",
       "      <td>51</td>\n",
       "      <td>2</td>\n",
       "      <td>44</td>\n",
       "      <td>23</td>\n",
       "      <td>7</td>\n",
       "      <td>2</td>\n",
       "      <td>1</td>\n",
       "      <td>2</td>\n",
       "      <td>10</td>\n",
       "    </tr>\n",
       "    <tr>\n",
       "      <th>9</th>\n",
       "      <td>50</td>\n",
       "      <td>2</td>\n",
       "      <td>48</td>\n",
       "      <td>24</td>\n",
       "      <td>7</td>\n",
       "      <td>2</td>\n",
       "      <td>1</td>\n",
       "      <td>2</td>\n",
       "      <td>11</td>\n",
       "    </tr>\n",
       "    <tr>\n",
       "      <th>18</th>\n",
       "      <td>30</td>\n",
       "      <td>2</td>\n",
       "      <td>45</td>\n",
       "      <td>24</td>\n",
       "      <td>7</td>\n",
       "      <td>2</td>\n",
       "      <td>1</td>\n",
       "      <td>2</td>\n",
       "      <td>10</td>\n",
       "    </tr>\n",
       "    <tr>\n",
       "      <th>12</th>\n",
       "      <td>26</td>\n",
       "      <td>2</td>\n",
       "      <td>43</td>\n",
       "      <td>21</td>\n",
       "      <td>7</td>\n",
       "      <td>2</td>\n",
       "      <td>1</td>\n",
       "      <td>2</td>\n",
       "      <td>8</td>\n",
       "    </tr>\n",
       "    <tr>\n",
       "      <th>16</th>\n",
       "      <td>16</td>\n",
       "      <td>2</td>\n",
       "      <td>27</td>\n",
       "      <td>16</td>\n",
       "      <td>7</td>\n",
       "      <td>2</td>\n",
       "      <td>1</td>\n",
       "      <td>2</td>\n",
       "      <td>9</td>\n",
       "    </tr>\n",
       "    <tr>\n",
       "      <th>11</th>\n",
       "      <td>1</td>\n",
       "      <td>2</td>\n",
       "      <td>49</td>\n",
       "      <td>24</td>\n",
       "      <td>7</td>\n",
       "      <td>2</td>\n",
       "      <td>1</td>\n",
       "      <td>2</td>\n",
       "      <td>12</td>\n",
       "    </tr>\n",
       "    <tr>\n",
       "      <th>1</th>\n",
       "      <td>1</td>\n",
       "      <td>2</td>\n",
       "      <td>219</td>\n",
       "      <td>24</td>\n",
       "      <td>7</td>\n",
       "      <td>2</td>\n",
       "      <td>507</td>\n",
       "      <td>2</td>\n",
       "      <td>12</td>\n",
       "    </tr>\n",
       "    <tr>\n",
       "      <th>15</th>\n",
       "      <td>1</td>\n",
       "      <td>2</td>\n",
       "      <td>76</td>\n",
       "      <td>23</td>\n",
       "      <td>7</td>\n",
       "      <td>2</td>\n",
       "      <td>1</td>\n",
       "      <td>2</td>\n",
       "      <td>12</td>\n",
       "    </tr>\n",
       "    <tr>\n",
       "      <th>6</th>\n",
       "      <td>1</td>\n",
       "      <td>2</td>\n",
       "      <td>41</td>\n",
       "      <td>22</td>\n",
       "      <td>7</td>\n",
       "      <td>2</td>\n",
       "      <td>1</td>\n",
       "      <td>2</td>\n",
       "      <td>12</td>\n",
       "    </tr>\n",
       "    <tr>\n",
       "      <th>10</th>\n",
       "      <td>1</td>\n",
       "      <td>2</td>\n",
       "      <td>62</td>\n",
       "      <td>23</td>\n",
       "      <td>7</td>\n",
       "      <td>2</td>\n",
       "      <td>1</td>\n",
       "      <td>2</td>\n",
       "      <td>12</td>\n",
       "    </tr>\n",
       "  </tbody>\n",
       "</table>\n",
       "</div>"
      ],
      "text/plain": [
       "         coordinates  is_active  category  hour  weekday  week  device_type  \\\n",
       "cluster                                                                       \n",
       "0               6218          2       282    24        7     2          431   \n",
       "3                292          2       115    24        7     2            1   \n",
       "2                273          2       121    24        7     2            1   \n",
       "7                117          2        74    23        7     2            1   \n",
       "5                112          2        64    24        7     2            1   \n",
       "8                 93          2        66    24        7     2            1   \n",
       "4                 82          2        81    24        7     2            1   \n",
       "13                80          2        65    24        7     2            1   \n",
       "17                71          2        51    23        7     2            1   \n",
       "14                56          2        50    24        7     2            1   \n",
       "19                51          2        44    23        7     2            1   \n",
       "9                 50          2        48    24        7     2            1   \n",
       "18                30          2        45    24        7     2            1   \n",
       "12                26          2        43    21        7     2            1   \n",
       "16                16          2        27    16        7     2            1   \n",
       "11                 1          2        49    24        7     2            1   \n",
       "1                  1          2       219    24        7     2          507   \n",
       "15                 1          2        76    23        7     2            1   \n",
       "6                  1          2        41    22        7     2            1   \n",
       "10                 1          2        62    23        7     2            1   \n",
       "\n",
       "         gender  group  \n",
       "cluster                 \n",
       "0             2     12  \n",
       "3             2     12  \n",
       "2             2     12  \n",
       "7             2     11  \n",
       "5             2      9  \n",
       "8             2     11  \n",
       "4             2     11  \n",
       "13            2     11  \n",
       "17            2     12  \n",
       "14            2     12  \n",
       "19            2     10  \n",
       "9             2     11  \n",
       "18            2     10  \n",
       "12            2      8  \n",
       "16            2      9  \n",
       "11            2     12  \n",
       "1             2     12  \n",
       "15            2     12  \n",
       "6             2     12  \n",
       "10            2     12  "
      ]
     },
     "execution_count": 216,
     "metadata": {},
     "output_type": "execute_result"
    }
   ],
   "source": [
    "cluster_model.drop(columns=['longitude', 'latitude']).groupby(by='cluster').nunique().sort_values(by='coordinates', ascending=False)"
   ]
  },
  {
   "cell_type": "code",
   "execution_count": 211,
   "metadata": {},
   "outputs": [
    {
     "data": {
      "text/html": [
       "<div>\n",
       "<style scoped>\n",
       "    .dataframe tbody tr th:only-of-type {\n",
       "        vertical-align: middle;\n",
       "    }\n",
       "\n",
       "    .dataframe tbody tr th {\n",
       "        vertical-align: top;\n",
       "    }\n",
       "\n",
       "    .dataframe thead th {\n",
       "        text-align: right;\n",
       "    }\n",
       "</style>\n",
       "<table border=\"1\" class=\"dataframe\">\n",
       "  <thead>\n",
       "    <tr style=\"text-align: right;\">\n",
       "      <th></th>\n",
       "      <th>coordinates</th>\n",
       "      <th>is_active</th>\n",
       "      <th>category</th>\n",
       "      <th>hour</th>\n",
       "      <th>weekday</th>\n",
       "      <th>week</th>\n",
       "      <th>device_type</th>\n",
       "      <th>cluster</th>\n",
       "      <th>latitude</th>\n",
       "      <th>longitude</th>\n",
       "      <th>gender</th>\n",
       "      <th>group</th>\n",
       "    </tr>\n",
       "  </thead>\n",
       "  <tbody>\n",
       "    <tr>\n",
       "      <th>6888916</th>\n",
       "      <td>(0.0, 0.0)</td>\n",
       "      <td>0.0</td>\n",
       "      <td>Industry tag</td>\n",
       "      <td>17</td>\n",
       "      <td>0</td>\n",
       "      <td>18</td>\n",
       "      <td>OPPO R8205</td>\n",
       "      <td>1</td>\n",
       "      <td>0.0</td>\n",
       "      <td>0.0</td>\n",
       "      <td>M</td>\n",
       "      <td>M32-38</td>\n",
       "    </tr>\n",
       "    <tr>\n",
       "      <th>3660344</th>\n",
       "      <td>(0.0, 0.0)</td>\n",
       "      <td>1.0</td>\n",
       "      <td>Property Industry 2.0</td>\n",
       "      <td>5</td>\n",
       "      <td>5</td>\n",
       "      <td>18</td>\n",
       "      <td>华为 G7 Plus</td>\n",
       "      <td>1</td>\n",
       "      <td>0.0</td>\n",
       "      <td>0.0</td>\n",
       "      <td>M</td>\n",
       "      <td>M32-38</td>\n",
       "    </tr>\n",
       "    <tr>\n",
       "      <th>3340681</th>\n",
       "      <td>(0.0, 0.0)</td>\n",
       "      <td>1.0</td>\n",
       "      <td>Relatives 1</td>\n",
       "      <td>9</td>\n",
       "      <td>4</td>\n",
       "      <td>18</td>\n",
       "      <td>OPPO R1C</td>\n",
       "      <td>1</td>\n",
       "      <td>0.0</td>\n",
       "      <td>0.0</td>\n",
       "      <td>F</td>\n",
       "      <td>F27-28</td>\n",
       "    </tr>\n",
       "    <tr>\n",
       "      <th>1980946</th>\n",
       "      <td>(0.0, 0.0)</td>\n",
       "      <td>1.0</td>\n",
       "      <td>Industry tag</td>\n",
       "      <td>13</td>\n",
       "      <td>1</td>\n",
       "      <td>18</td>\n",
       "      <td>vivo Y27</td>\n",
       "      <td>1</td>\n",
       "      <td>0.0</td>\n",
       "      <td>0.0</td>\n",
       "      <td>F</td>\n",
       "      <td>F33-42</td>\n",
       "    </tr>\n",
       "    <tr>\n",
       "      <th>4549595</th>\n",
       "      <td>(0.0, 0.0)</td>\n",
       "      <td>1.0</td>\n",
       "      <td>video</td>\n",
       "      <td>21</td>\n",
       "      <td>6</td>\n",
       "      <td>17</td>\n",
       "      <td>华为 荣耀6</td>\n",
       "      <td>1</td>\n",
       "      <td>0.0</td>\n",
       "      <td>0.0</td>\n",
       "      <td>M</td>\n",
       "      <td>M27-28</td>\n",
       "    </tr>\n",
       "    <tr>\n",
       "      <th>...</th>\n",
       "      <td>...</td>\n",
       "      <td>...</td>\n",
       "      <td>...</td>\n",
       "      <td>...</td>\n",
       "      <td>...</td>\n",
       "      <td>...</td>\n",
       "      <td>...</td>\n",
       "      <td>...</td>\n",
       "      <td>...</td>\n",
       "      <td>...</td>\n",
       "      <td>...</td>\n",
       "      <td>...</td>\n",
       "    </tr>\n",
       "    <tr>\n",
       "      <th>4682867</th>\n",
       "      <td>(0.0, 0.0)</td>\n",
       "      <td>0.0</td>\n",
       "      <td>Property Industry 1.0</td>\n",
       "      <td>12</td>\n",
       "      <td>6</td>\n",
       "      <td>17</td>\n",
       "      <td>vivo X5SL</td>\n",
       "      <td>1</td>\n",
       "      <td>0.0</td>\n",
       "      <td>0.0</td>\n",
       "      <td>M</td>\n",
       "      <td>M22-</td>\n",
       "    </tr>\n",
       "    <tr>\n",
       "      <th>2118681</th>\n",
       "      <td>(0.0, 0.0)</td>\n",
       "      <td>1.0</td>\n",
       "      <td>Industry tag</td>\n",
       "      <td>13</td>\n",
       "      <td>2</td>\n",
       "      <td>18</td>\n",
       "      <td>三星 Galaxy Mega 2</td>\n",
       "      <td>1</td>\n",
       "      <td>0.0</td>\n",
       "      <td>0.0</td>\n",
       "      <td>M</td>\n",
       "      <td>M29-31</td>\n",
       "    </tr>\n",
       "    <tr>\n",
       "      <th>7680022</th>\n",
       "      <td>(0.0, 0.0)</td>\n",
       "      <td>0.0</td>\n",
       "      <td>Internet banking</td>\n",
       "      <td>10</td>\n",
       "      <td>2</td>\n",
       "      <td>18</td>\n",
       "      <td>酷派 Y70-C</td>\n",
       "      <td>1</td>\n",
       "      <td>0.0</td>\n",
       "      <td>0.0</td>\n",
       "      <td>M</td>\n",
       "      <td>M32-38</td>\n",
       "    </tr>\n",
       "    <tr>\n",
       "      <th>7405325</th>\n",
       "      <td>(0.0, 0.0)</td>\n",
       "      <td>0.0</td>\n",
       "      <td>Property Industry 2.0</td>\n",
       "      <td>8</td>\n",
       "      <td>5</td>\n",
       "      <td>18</td>\n",
       "      <td>索尼 Xperia Z2</td>\n",
       "      <td>1</td>\n",
       "      <td>0.0</td>\n",
       "      <td>0.0</td>\n",
       "      <td>F</td>\n",
       "      <td>F27-28</td>\n",
       "    </tr>\n",
       "    <tr>\n",
       "      <th>6492154</th>\n",
       "      <td>(0.0, 0.0)</td>\n",
       "      <td>0.0</td>\n",
       "      <td>Financial Services</td>\n",
       "      <td>14</td>\n",
       "      <td>1</td>\n",
       "      <td>18</td>\n",
       "      <td>金立 S6</td>\n",
       "      <td>1</td>\n",
       "      <td>0.0</td>\n",
       "      <td>0.0</td>\n",
       "      <td>M</td>\n",
       "      <td>M23-26</td>\n",
       "    </tr>\n",
       "  </tbody>\n",
       "</table>\n",
       "<p>6478 rows × 12 columns</p>\n",
       "</div>"
      ],
      "text/plain": [
       "        coordinates  is_active               category  hour  weekday  week  \\\n",
       "6888916  (0.0, 0.0)        0.0           Industry tag    17        0    18   \n",
       "3660344  (0.0, 0.0)        1.0  Property Industry 2.0     5        5    18   \n",
       "3340681  (0.0, 0.0)        1.0            Relatives 1     9        4    18   \n",
       "1980946  (0.0, 0.0)        1.0           Industry tag    13        1    18   \n",
       "4549595  (0.0, 0.0)        1.0                  video    21        6    17   \n",
       "...             ...        ...                    ...   ...      ...   ...   \n",
       "4682867  (0.0, 0.0)        0.0  Property Industry 1.0    12        6    17   \n",
       "2118681  (0.0, 0.0)        1.0           Industry tag    13        2    18   \n",
       "7680022  (0.0, 0.0)        0.0       Internet banking    10        2    18   \n",
       "7405325  (0.0, 0.0)        0.0  Property Industry 2.0     8        5    18   \n",
       "6492154  (0.0, 0.0)        0.0     Financial Services    14        1    18   \n",
       "\n",
       "              device_type  cluster  latitude  longitude gender   group  \n",
       "6888916        OPPO R8205        1       0.0        0.0      M  M32-38  \n",
       "3660344        华为 G7 Plus        1       0.0        0.0      M  M32-38  \n",
       "3340681          OPPO R1C        1       0.0        0.0      F  F27-28  \n",
       "1980946          vivo Y27        1       0.0        0.0      F  F33-42  \n",
       "4549595            华为 荣耀6        1       0.0        0.0      M  M27-28  \n",
       "...                   ...      ...       ...        ...    ...     ...  \n",
       "4682867         vivo X5SL        1       0.0        0.0      M    M22-  \n",
       "2118681  三星 Galaxy Mega 2        1       0.0        0.0      M  M29-31  \n",
       "7680022          酷派 Y70-C        1       0.0        0.0      M  M32-38  \n",
       "7405325      索尼 Xperia Z2        1       0.0        0.0      F  F27-28  \n",
       "6492154             金立 S6        1       0.0        0.0      M  M23-26  \n",
       "\n",
       "[6478 rows x 12 columns]"
      ]
     },
     "execution_count": 211,
     "metadata": {},
     "output_type": "execute_result"
    }
   ],
   "source": [
    "cluster_model[(cluster_model.cluster==1)]"
   ]
  },
  {
   "cell_type": "code",
   "execution_count": null,
   "metadata": {},
   "outputs": [],
   "source": []
  }
 ],
 "metadata": {
  "kernelspec": {
   "display_name": "Python 3",
   "language": "python",
   "name": "python3"
  },
  "language_info": {
   "codemirror_mode": {
    "name": "ipython",
    "version": 3
   },
   "file_extension": ".py",
   "mimetype": "text/x-python",
   "name": "python",
   "nbconvert_exporter": "python",
   "pygments_lexer": "ipython3",
   "version": "3.7.9"
  }
 },
 "nbformat": 4,
 "nbformat_minor": 4
}
