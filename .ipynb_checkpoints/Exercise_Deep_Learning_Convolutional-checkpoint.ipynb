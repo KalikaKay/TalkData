{
  "nbformat": 4,
  "nbformat_minor": 0,
  "metadata": {
    "kernelspec": {
      "display_name": "Python 3",
      "language": "python",
      "name": "python3"
    },
    "language_info": {
      "codemirror_mode": {
        "name": "ipython",
        "version": 3
      },
      "file_extension": ".py",
      "mimetype": "text/x-python",
      "name": "python",
      "nbconvert_exporter": "python",
      "pygments_lexer": "ipython3",
      "version": "3.7.9"
    },
    "colab": {
      "name": "Exercise-Deep Learning Convolutional.ipynb",
      "provenance": [],
      "collapsed_sections": []
    },
    "accelerator": "GPU"
  },
  "cells": [
    {
      "cell_type": "markdown",
      "metadata": {
        "id": "hgfombGZZmci"
      },
      "source": [
        "# Deep Learning Model"
      ]
    },
    {
      "cell_type": "code",
      "metadata": {
        "id": "CqqDieIbZky6"
      },
      "source": [
        "#if necessary import the model data\n",
        "import numpy as np\n",
        "import pandas as pd\n",
        "import matplotlib.pyplot as plt\n",
        "import seaborn as sns\n",
        "import plotly.express as px\n",
        "\n",
        "#Modeling Imports - GridSearch\n",
        "from sklearn.pipeline import Pipeline\n",
        "from sklearn.preprocessing import OneHotEncoder\n",
        "from sklearn.preprocessing import OrdinalEncoder\n",
        "from sklearn.decomposition import TruncatedSVD \n",
        "from sklearn.model_selection import GridSearchCV\n",
        "from sklearn.feature_selection import SelectKBest, chi2\n",
        "\n",
        "#CNN Model\n",
        "from keras.layers import Dense, Activation, Flatten, Dropout, BatchNormalization, DenseFeatures\n",
        "from keras.layers import Conv1D, MaxPooling2D, MaxPooling1D\n",
        "from keras import regularizers, optimizers\n",
        "from keras.models import Sequential\n",
        "from tensorflow import feature_column\n",
        "from tensorflow.keras.utils import to_categorical\n",
        "import tensorflow as tf\n",
        "import keras\n",
        "\n",
        "#validation\n",
        "from sklearn.model_selection import cross_val_score\n",
        "from sklearn.model_selection import train_test_split\n",
        "from sklearn.metrics import classification_report\n",
        "from sklearn.metrics import roc_auc_score"
      ],
      "execution_count": 29,
      "outputs": []
    },
    {
      "cell_type": "code",
      "metadata": {
        "id": "7mfnhUdtZkzC"
      },
      "source": [
        "#A summary of missing variables represented as a percentage of the total missing content. \n",
        "def null_summary(df, print_log=False, sort='ascending'):\n",
        "    s = df.isnull().sum()*100/df.isnull().count()\n",
        "    \n",
        "    if sort.lower() == 'ascending':\n",
        "        s = s.sort_values(ascending=True)\n",
        "    elif sort.lower() == 'descending':\n",
        "        s = s.sort_values(ascending=False)  \n",
        "    if print_log: \n",
        "        print('Percentage of null values: \\n', s)\n",
        "  \n",
        "    return pd.Series(s)"
      ],
      "execution_count": 30,
      "outputs": []
    },
    {
      "cell_type": "code",
      "metadata": {
        "colab": {
          "base_uri": "https://localhost:8080/",
          "height": 196
        },
        "id": "Sax7FzZ6ZkzC",
        "outputId": "b007432e-42b8-4e2d-fa5d-064f3638d3cf"
      },
      "source": [
        "#get the data\n",
        "talkdata = pd.read_csv('/content/drive/MyDrive/Thinkful/Data/talkdata.csv')\n",
        "#Quick look at the head.\n",
        "talkdata.head()"
      ],
      "execution_count": 31,
      "outputs": [
        {
          "output_type": "execute_result",
          "data": {
            "text/html": [
              "<div>\n",
              "<style scoped>\n",
              "    .dataframe tbody tr th:only-of-type {\n",
              "        vertical-align: middle;\n",
              "    }\n",
              "\n",
              "    .dataframe tbody tr th {\n",
              "        vertical-align: top;\n",
              "    }\n",
              "\n",
              "    .dataframe thead th {\n",
              "        text-align: right;\n",
              "    }\n",
              "</style>\n",
              "<table border=\"1\" class=\"dataframe\">\n",
              "  <thead>\n",
              "    <tr style=\"text-align: right;\">\n",
              "      <th></th>\n",
              "      <th>timestamp</th>\n",
              "      <th>longitude</th>\n",
              "      <th>latitude</th>\n",
              "      <th>coordinates</th>\n",
              "      <th>is_active</th>\n",
              "      <th>phone_brand</th>\n",
              "      <th>device_model</th>\n",
              "      <th>category</th>\n",
              "      <th>gender</th>\n",
              "      <th>age</th>\n",
              "      <th>group</th>\n",
              "    </tr>\n",
              "  </thead>\n",
              "  <tbody>\n",
              "    <tr>\n",
              "      <th>0</th>\n",
              "      <td>2016-05-01 14:23:37</td>\n",
              "      <td>0.0</td>\n",
              "      <td>0.0</td>\n",
              "      <td>(0.0, 0.0)</td>\n",
              "      <td>1.0</td>\n",
              "      <td>小米</td>\n",
              "      <td>MI 2</td>\n",
              "      <td>1 free</td>\n",
              "      <td>M</td>\n",
              "      <td>35</td>\n",
              "      <td>M32-38</td>\n",
              "    </tr>\n",
              "    <tr>\n",
              "      <th>1</th>\n",
              "      <td>2016-05-01 14:23:37</td>\n",
              "      <td>0.0</td>\n",
              "      <td>0.0</td>\n",
              "      <td>(0.0, 0.0)</td>\n",
              "      <td>1.0</td>\n",
              "      <td>小米</td>\n",
              "      <td>MI 2</td>\n",
              "      <td>Cozy 1</td>\n",
              "      <td>M</td>\n",
              "      <td>35</td>\n",
              "      <td>M32-38</td>\n",
              "    </tr>\n",
              "    <tr>\n",
              "      <th>2</th>\n",
              "      <td>2016-05-01 14:23:37</td>\n",
              "      <td>0.0</td>\n",
              "      <td>0.0</td>\n",
              "      <td>(0.0, 0.0)</td>\n",
              "      <td>1.0</td>\n",
              "      <td>小米</td>\n",
              "      <td>MI 2</td>\n",
              "      <td>Industry tag</td>\n",
              "      <td>M</td>\n",
              "      <td>35</td>\n",
              "      <td>M32-38</td>\n",
              "    </tr>\n",
              "    <tr>\n",
              "      <th>3</th>\n",
              "      <td>2016-05-01 14:23:37</td>\n",
              "      <td>0.0</td>\n",
              "      <td>0.0</td>\n",
              "      <td>(0.0, 0.0)</td>\n",
              "      <td>1.0</td>\n",
              "      <td>小米</td>\n",
              "      <td>MI 2</td>\n",
              "      <td>Property Industry 2.0</td>\n",
              "      <td>M</td>\n",
              "      <td>35</td>\n",
              "      <td>M32-38</td>\n",
              "    </tr>\n",
              "    <tr>\n",
              "      <th>4</th>\n",
              "      <td>2016-05-01 14:23:37</td>\n",
              "      <td>0.0</td>\n",
              "      <td>0.0</td>\n",
              "      <td>(0.0, 0.0)</td>\n",
              "      <td>1.0</td>\n",
              "      <td>小米</td>\n",
              "      <td>MI 2</td>\n",
              "      <td>music</td>\n",
              "      <td>M</td>\n",
              "      <td>35</td>\n",
              "      <td>M32-38</td>\n",
              "    </tr>\n",
              "  </tbody>\n",
              "</table>\n",
              "</div>"
            ],
            "text/plain": [
              "             timestamp  longitude  latitude  ... gender  age   group\n",
              "0  2016-05-01 14:23:37        0.0       0.0  ...      M   35  M32-38\n",
              "1  2016-05-01 14:23:37        0.0       0.0  ...      M   35  M32-38\n",
              "2  2016-05-01 14:23:37        0.0       0.0  ...      M   35  M32-38\n",
              "3  2016-05-01 14:23:37        0.0       0.0  ...      M   35  M32-38\n",
              "4  2016-05-01 14:23:37        0.0       0.0  ...      M   35  M32-38\n",
              "\n",
              "[5 rows x 11 columns]"
            ]
          },
          "metadata": {
            "tags": []
          },
          "execution_count": 31
        }
      ]
    },
    {
      "cell_type": "code",
      "metadata": {
        "colab": {
          "base_uri": "https://localhost:8080/"
        },
        "id": "W3IrpHgiZkzD",
        "outputId": "8a5e075a-d82f-4166-f3fc-35e5ec220572"
      },
      "source": [
        "#The size and shape of this dataset before categorical changing.\n",
        "talkdata.shape"
      ],
      "execution_count": 32,
      "outputs": [
        {
          "output_type": "execute_result",
          "data": {
            "text/plain": [
              "(7832282, 11)"
            ]
          },
          "metadata": {
            "tags": []
          },
          "execution_count": 32
        }
      ]
    },
    {
      "cell_type": "code",
      "metadata": {
        "id": "lTj6pLyGZkzE"
      },
      "source": [
        "#Set the timestamp column to a datetime datatype.[Shame on me fo ridding myself of hte epoch timesetamp before I started the Deep learning]\n",
        "talkdata['timestamp'] = pd.to_datetime(talkdata.timestamp)\n",
        "talkdata.timestamp.dtype\n",
        "\n",
        "#create the categorical time columns\n",
        "talkdata['hour'] = talkdata.timestamp.dt.hour\n",
        "talkdata['weekday'] = talkdata.timestamp.dt.dayofweek\n",
        "#get the day of the week as an integer. \n",
        "talkdata['week'] = talkdata.timestamp.dt.isocalendar().week.astype(int)\n",
        "\n",
        "#concatenate the phone brand to the device model. \n",
        "talkdata['device_type'] = talkdata.phone_brand + \" \"+ talkdata.device_model"
      ],
      "execution_count": 33,
      "outputs": []
    },
    {
      "cell_type": "code",
      "metadata": {
        "colab": {
          "base_uri": "https://localhost:8080/"
        },
        "id": "2cuj42MMZkzE",
        "outputId": "46610f31-5567-42a7-c122-39846eb62231"
      },
      "source": [
        "null_summary(talkdata)"
      ],
      "execution_count": 34,
      "outputs": [
        {
          "output_type": "execute_result",
          "data": {
            "text/plain": [
              "timestamp       0.0\n",
              "longitude       0.0\n",
              "latitude        0.0\n",
              "coordinates     0.0\n",
              "is_active       0.0\n",
              "phone_brand     0.0\n",
              "device_model    0.0\n",
              "category        0.0\n",
              "gender          0.0\n",
              "age             0.0\n",
              "group           0.0\n",
              "hour            0.0\n",
              "weekday         0.0\n",
              "week            0.0\n",
              "device_type     0.0\n",
              "dtype: float64"
            ]
          },
          "metadata": {
            "tags": []
          },
          "execution_count": 34
        }
      ]
    },
    {
      "cell_type": "code",
      "metadata": {
        "colab": {
          "base_uri": "https://localhost:8080/"
        },
        "id": "OISfJxC9ZkzF",
        "outputId": "98aa6a1a-bff8-429e-c278-80e8f83c2680"
      },
      "source": [
        "#drop the non-categorical columnsand the columns that are no longer in use.\n",
        "df = talkdata.drop(columns=['timestamp', 'longitude', 'latitude', 'phone_brand', 'device_model', 'age', 'group'])\n",
        "df.shape"
      ],
      "execution_count": 35,
      "outputs": [
        {
          "output_type": "execute_result",
          "data": {
            "text/plain": [
              "(7832282, 8)"
            ]
          },
          "metadata": {
            "tags": []
          },
          "execution_count": 35
        }
      ]
    },
    {
      "cell_type": "markdown",
      "metadata": {
        "id": "yAOKzKFEOgjx"
      },
      "source": [
        "# Create the labels\r\n",
        "Export the labels to a directory. \r\n"
      ]
    },
    {
      "cell_type": "code",
      "metadata": {
        "id": "ZLWNkkXaaTIz"
      },
      "source": [
        "#I have a lot of data. Work with a much smaller subset for training. \r\n",
        "data, die = train_test_split(df, test_size=0.80)\r\n",
        "y = pd.get_dummies(data.gender, drop_first=True)\r\n",
        "X = data.drop(columns=['gender'])"
      ],
      "execution_count": 36,
      "outputs": []
    },
    {
      "cell_type": "code",
      "metadata": {
        "colab": {
          "base_uri": "https://localhost:8080/"
        },
        "id": "JkyHCDRTMZ47",
        "outputId": "c3f383f5-51da-48b6-d0ee-5bb8e9505ac4"
      },
      "source": [
        "#The test set will be 20% of the training data. \r\n",
        "X_train, X_test, y_train, y_test = train_test_split(X, y, test_size=0.5, stratify=y)\r\n",
        "print(X_train.shape, X_test.shape)"
      ],
      "execution_count": 37,
      "outputs": [
        {
          "output_type": "stream",
          "text": [
            "(783228, 7) (783228, 7)\n"
          ],
          "name": "stdout"
        }
      ]
    },
    {
      "cell_type": "code",
      "metadata": {
        "id": "Dfmw0izrX34J"
      },
      "source": [
        "enc = OneHotEncoder(handle_unknown='ignore')\r\n",
        "X_enc = enc.fit_transform(X_train)\r\n",
        "X_enc_test = enc.transform(X_test)"
      ],
      "execution_count": 38,
      "outputs": []
    },
    {
      "cell_type": "code",
      "metadata": {
        "id": "VvQdXulZeZzr"
      },
      "source": [
        "skb = SelectKBest(chi2, k=100)\r\n",
        "X_skb = skb.fit_transform(X_enc, y_train)\r\n",
        "X_skb_test = skb.transform(X_enc_test)"
      ],
      "execution_count": 39,
      "outputs": []
    },
    {
      "cell_type": "code",
      "metadata": {
        "id": "8WSn1t6o0T4R"
      },
      "source": [
        "X_dense = X_skb.todense()\r\n",
        "X_dense_test = X_skb_test.todense()"
      ],
      "execution_count": 40,
      "outputs": []
    },
    {
      "cell_type": "markdown",
      "metadata": {
        "id": "zQWtOUejgrRe"
      },
      "source": [
        "In honor of this [life-saving explanation](http://www.jussihuotari.com/2017/12/20/spell-out-convolution-1d-in-cnns/#:~:text=1D%20Convolution%20in%20Numpy&text=The%201D%20convolution%20slides%20a,having%20one%20channel%20(feature). on convolutional models, I have opted to keep the names toyX and toyY for this assignment. "
      ]
    },
    {
      "cell_type": "code",
      "metadata": {
        "colab": {
          "base_uri": "https://localhost:8080/"
        },
        "id": "HflBJdVPoT2M",
        "outputId": "b6318c37-83ac-416f-fe69-d4e890aebf95"
      },
      "source": [
        "X_dense.shape"
      ],
      "execution_count": 41,
      "outputs": [
        {
          "output_type": "execute_result",
          "data": {
            "text/plain": [
              "(783228, 100)"
            ]
          },
          "metadata": {
            "tags": []
          },
          "execution_count": 41
        }
      ]
    },
    {
      "cell_type": "code",
      "metadata": {
        "id": "zFSVQG1bPNdY"
      },
      "source": [
        "from keras import backend as K\r\n",
        "from keras.models import Sequential\r\n",
        "from keras.optimizers import Adam\r\n",
        "from keras.layers import Conv2D\r\n",
        "K.clear_session()\r\n",
        "toyX = np.array(X_dense).reshape(1, X_dense.shape[0], X_dense.shape[1])\r\n",
        "testX = np.array(X_dense_test).reshape(1, X_dense_test.shape[0], X_dense_test.shape[1])\r\n",
        "toyY = np.array(y_train).reshape(1, X_dense.shape[0], 1)\r\n",
        "testY = np.array(y_test).reshape(1, X_dense_test.shape[0], 1)\r\n",
        " \r\n",
        "input_shape = toyX.shape[1], toyX.shape[2]\r\n"
      ],
      "execution_count": 42,
      "outputs": []
    },
    {
      "cell_type": "code",
      "metadata": {
        "colab": {
          "base_uri": "https://localhost:8080/"
        },
        "id": "rhOEL0ImR2uy",
        "outputId": "863f0351-c542-4cda-ed59-a24f8d1ddc80"
      },
      "source": [
        "model = Sequential()\r\n",
        "\r\n",
        "model.add(Conv1D(184, 1, padding='same',\r\n",
        "                  input_shape=input_shape))\r\n",
        "\r\n",
        "model.add(Dense(128, activation='relu'))\r\n",
        "\r\n",
        "model.add(Dense(128, activation='relu'))\r\n",
        "\r\n",
        "model.add(Dropout(.25))\r\n",
        "\r\n",
        "model.add(Dense(1, activation='sigmoid'))\r\n",
        "\r\n",
        "model.compile(optimizer='adam',\r\n",
        "              loss='binary_crossentropy',\r\n",
        "              metrics=['accuracy'])\r\n",
        "\r\n",
        "model.fit(toyX, toyY, epochs=10, validation_data=(testX, testY))\r\n"
      ],
      "execution_count": 43,
      "outputs": [
        {
          "output_type": "stream",
          "text": [
            "Epoch 1/10\n",
            "1/1 [==============================] - 2s 2s/step - loss: 0.6982 - accuracy: 0.3149 - val_loss: 0.6873 - val_accuracy: 0.7006\n",
            "Epoch 2/10\n",
            "1/1 [==============================] - 0s 442ms/step - loss: 0.6874 - accuracy: 0.6806 - val_loss: 0.6781 - val_accuracy: 0.7280\n",
            "Epoch 3/10\n",
            "1/1 [==============================] - 1s 535ms/step - loss: 0.6782 - accuracy: 0.7219 - val_loss: 0.6698 - val_accuracy: 0.7229\n",
            "Epoch 4/10\n",
            "1/1 [==============================] - 1s 504ms/step - loss: 0.6700 - accuracy: 0.7233 - val_loss: 0.6623 - val_accuracy: 0.7183\n",
            "Epoch 5/10\n",
            "1/1 [==============================] - 0s 479ms/step - loss: 0.6626 - accuracy: 0.7186 - val_loss: 0.6555 - val_accuracy: 0.7135\n",
            "Epoch 6/10\n",
            "1/1 [==============================] - 0s 477ms/step - loss: 0.6558 - accuracy: 0.7153 - val_loss: 0.6493 - val_accuracy: 0.7125\n",
            "Epoch 7/10\n",
            "1/1 [==============================] - 0s 448ms/step - loss: 0.6496 - accuracy: 0.7135 - val_loss: 0.6436 - val_accuracy: 0.7118\n",
            "Epoch 8/10\n",
            "1/1 [==============================] - 0s 485ms/step - loss: 0.6440 - accuracy: 0.7125 - val_loss: 0.6383 - val_accuracy: 0.7112\n",
            "Epoch 9/10\n",
            "1/1 [==============================] - 0s 480ms/step - loss: 0.6388 - accuracy: 0.7120 - val_loss: 0.6336 - val_accuracy: 0.7112\n",
            "Epoch 10/10\n",
            "1/1 [==============================] - 0s 452ms/step - loss: 0.6342 - accuracy: 0.7119 - val_loss: 0.6291 - val_accuracy: 0.7112\n"
          ],
          "name": "stdout"
        },
        {
          "output_type": "execute_result",
          "data": {
            "text/plain": [
              "<tensorflow.python.keras.callbacks.History at 0x7efb734a2320>"
            ]
          },
          "metadata": {
            "tags": []
          },
          "execution_count": 43
        }
      ]
    },
    {
      "cell_type": "code",
      "metadata": {
        "id": "Gz9mxJp6eFYu"
      },
      "source": [
        "pred=model.predict(testX)\r\n",
        "predicted_class_indices=(pred > 0.5).astype(\"int32\") #binary class identification."
      ],
      "execution_count": 44,
      "outputs": []
    },
    {
      "cell_type": "code",
      "metadata": {
        "id": "3hZAzyAjMWyW",
        "colab": {
          "base_uri": "https://localhost:8080/"
        },
        "outputId": "550a2cc4-0ac1-4f74-e719-90fbb21a64e3"
      },
      "source": [
        "print(classification_report(testY.reshape(-1), predicted_class_indices.reshape(-1), zero_division=1))"
      ],
      "execution_count": 45,
      "outputs": [
        {
          "output_type": "stream",
          "text": [
            "              precision    recall  f1-score   support\n",
            "\n",
            "           0       1.00      0.00      0.00    226491\n",
            "           1       0.71      1.00      0.83    556737\n",
            "\n",
            "    accuracy                           0.71    783228\n",
            "   macro avg       0.85      0.50      0.42    783228\n",
            "weighted avg       0.79      0.71      0.59    783228\n",
            "\n"
          ],
          "name": "stdout"
        }
      ]
    }
  ]
}