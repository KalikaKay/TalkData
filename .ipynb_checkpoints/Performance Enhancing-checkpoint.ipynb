{
 "cells": [
  {
   "cell_type": "code",
   "execution_count": 2,
   "metadata": {},
   "outputs": [],
   "source": [
    "#if necessary import the model data\n",
    "import numpy as np\n",
    "import pandas as pd\n",
    "import matplotlib.pyplot as plt\n",
    "import seaborn as sns\n",
    "import plotly.express as px\n",
    "import datetime\n",
    "\n",
    "#Modeling Imports - GridSearch\n",
    "from sklearn.pipeline import Pipeline\n",
    "from sklearn.preprocessing import OneHotEncoder\n",
    "from sklearn.decomposition import TruncatedSVD \n",
    "from sklearn.feature_selection import SelectKBest, chi2, f_classif\n",
    "from sklearn.model_selection import GridSearchCV\n",
    "\n",
    "#Models\n",
    "from sklearn.tree import DecisionTreeClassifier\n",
    "from sklearn import tree\n",
    "import graphviz \n",
    "\n",
    "#Unsupervised Models\n",
    "from sklearn.cluster import KMeans\n",
    "from sklearn.metrics import silhouette_score\n",
    "from sklearn.metrics.cluster import fowlkes_mallows_score\n",
    "\n",
    "#validation\n",
    "from sklearn.model_selection import cross_val_score\n",
    "from sklearn.model_selection import train_test_split\n",
    "from sklearn.metrics import classification_report\n",
    "from sklearn.metrics import roc_auc_score"
   ]
  },
  {
   "cell_type": "code",
   "execution_count": 3,
   "metadata": {},
   "outputs": [],
   "source": [
    "#A summary of missing variables represented as a percentage of the total missing content. \n",
    "def null_summary(df, print_log=False, sort='ascending'):\n",
    "    s = df.isnull().sum()*100/df.isnull().count()\n",
    "    \n",
    "    if sort.lower() == 'ascending':\n",
    "        s = s.sort_values(ascending=True)\n",
    "    elif sort.lower() == 'descending':\n",
    "        s = s.sort_values(ascending=False)  \n",
    "    if print_log: \n",
    "        print('Percentage of null values: \\n', s)\n",
    "  \n",
    "    return pd.Series(s)"
   ]
  },
  {
   "cell_type": "code",
   "execution_count": 95,
   "metadata": {},
   "outputs": [],
   "source": [
    "#Necessary imports for plotting the confusion matrix.\n",
    "from sklearn.metrics import confusion_matrix\n",
    "from matplotlib.collections import PatchCollection\n",
    "import itertools\n",
    "\n",
    "def plot_cm(cm, classes,normalize, title='Confusion matrix', style='ggplot'):\n",
    "  #Some Stylization.\n",
    "  plt.style.use([style])\n",
    "  \n",
    "  #Confusion Matrix \n",
    "  N = len(cm[0])\n",
    "  M = len(cm[1])\n",
    "  #Labels\n",
    "  ylabels = [classes[0], classes[1]]\n",
    "  xlabels = [classes[0], classes[1]]\n",
    "\n",
    "  #Assign X and y.\n",
    "  x, y = np.meshgrid(np.arange(M), np.arange(N))\n",
    "  \n",
    "  s = cm\n",
    "  c = cm\n",
    "\n",
    "  fig, ax = plt.subplots(figsize=(14, 11))\n",
    "\n",
    "  #Circles\n",
    "  R = s/s.max()/2\n",
    "  circles = [plt.Circle((j,i), radius=r) for r, j, i in zip(R.flat, x.flat, y.flat)]\n",
    "  col = PatchCollection(circles, array=c.flatten(), cmap=plt.cm.coolwarm)\n",
    "  ax.add_collection(col)\n",
    "  ax.set(xticks=np.arange(M), yticks=np.arange(N),\n",
    "        xticklabels=xlabels, yticklabels=ylabels)\n",
    "  ax.set_xticks(np.arange(M+1)-0.5, minor=True)\n",
    "  ax.set_yticks(np.arange(N+1)-0.5, minor=True)\n",
    "  ax.grid(b=False, which='minor')\n",
    "  \n",
    "  #Add the Text\n",
    "  thresh = cm.max() / 4.\n",
    "  fmt = 'd'\n",
    "  for i, j in itertools.product(range(cm.shape[0]), range(cm.shape[1])):\n",
    "   plt.text(j, i, format(cm[i, j], fmt),\n",
    "            horizontalalignment=\"center\", verticalalignment=\"center\",\n",
    "            color=\"black\")\n",
    "   \n",
    "  #Titles and labels. \n",
    "  plt.title = title\n",
    "  plt.ylabel('True label')\n",
    "  plt.xlabel('Predicted label')\n",
    "  fig.colorbar(col)\n",
    "  plt.show()"
   ]
  },
  {
   "cell_type": "code",
   "execution_count": 17,
   "metadata": {},
   "outputs": [],
   "source": [
    "#Helper function. y_train and X_train are assumed to have been defined in the notebook.\n",
    "def print_scores(model, y_train=y_train, X_train=X_train):\n",
    "    print(\"Roc_AUC Score: \", roc_auc_score(y_train, model.predict_proba(X_train)[:, 1]))\n",
    "    print(f\"best score: {model.best_score_} \\n estimator: {model.best_estimator_}\")"
   ]
  },
  {
   "cell_type": "code",
   "execution_count": 231,
   "metadata": {},
   "outputs": [],
   "source": [
    "#Helper function. Prints the classification report.\n",
    "def class_rep(model, y_test=y_test, X_test=X_test):\n",
    "    #Fit and classify on the best score.\n",
    "    y_pred = model.predict(X_test)\n",
    "    print(classification_report(y_test, y_pred))"
   ]
  },
  {
   "cell_type": "code",
   "execution_count": 4,
   "metadata": {},
   "outputs": [
    {
     "data": {
      "text/html": [
       "<div>\n",
       "<style scoped>\n",
       "    .dataframe tbody tr th:only-of-type {\n",
       "        vertical-align: middle;\n",
       "    }\n",
       "\n",
       "    .dataframe tbody tr th {\n",
       "        vertical-align: top;\n",
       "    }\n",
       "\n",
       "    .dataframe thead th {\n",
       "        text-align: right;\n",
       "    }\n",
       "</style>\n",
       "<table border=\"1\" class=\"dataframe\">\n",
       "  <thead>\n",
       "    <tr style=\"text-align: right;\">\n",
       "      <th></th>\n",
       "      <th>coordinates</th>\n",
       "      <th>is_active</th>\n",
       "      <th>category</th>\n",
       "      <th>hour</th>\n",
       "      <th>weekday</th>\n",
       "      <th>week</th>\n",
       "      <th>device_type</th>\n",
       "    </tr>\n",
       "  </thead>\n",
       "  <tbody>\n",
       "    <tr>\n",
       "      <th>0</th>\n",
       "      <td>(0.0, 0.0)</td>\n",
       "      <td>0.0</td>\n",
       "      <td>mobile bank</td>\n",
       "      <td>9</td>\n",
       "      <td>5</td>\n",
       "      <td>18</td>\n",
       "      <td>酷派 F2</td>\n",
       "    </tr>\n",
       "    <tr>\n",
       "      <th>1</th>\n",
       "      <td>(22.96, 113.64)</td>\n",
       "      <td>1.0</td>\n",
       "      <td>Property Industry 1.0</td>\n",
       "      <td>21</td>\n",
       "      <td>5</td>\n",
       "      <td>18</td>\n",
       "      <td>小米 MI 4</td>\n",
       "    </tr>\n",
       "    <tr>\n",
       "      <th>2</th>\n",
       "      <td>(41.82, 123.47)</td>\n",
       "      <td>1.0</td>\n",
       "      <td>And the Church</td>\n",
       "      <td>15</td>\n",
       "      <td>1</td>\n",
       "      <td>18</td>\n",
       "      <td>魅族 魅蓝Note 2</td>\n",
       "    </tr>\n",
       "    <tr>\n",
       "      <th>3</th>\n",
       "      <td>(0.0, 0.0)</td>\n",
       "      <td>0.0</td>\n",
       "      <td>Services 1</td>\n",
       "      <td>19</td>\n",
       "      <td>1</td>\n",
       "      <td>18</td>\n",
       "      <td>小米 MI pad</td>\n",
       "    </tr>\n",
       "    <tr>\n",
       "      <th>4</th>\n",
       "      <td>(31.19, 121.52)</td>\n",
       "      <td>0.0</td>\n",
       "      <td>Finance</td>\n",
       "      <td>12</td>\n",
       "      <td>4</td>\n",
       "      <td>18</td>\n",
       "      <td>华为 荣耀6 Plus</td>\n",
       "    </tr>\n",
       "  </tbody>\n",
       "</table>\n",
       "</div>"
      ],
      "text/plain": [
       "       coordinates  is_active               category  hour  weekday  week  \\\n",
       "0       (0.0, 0.0)        0.0            mobile bank     9        5    18   \n",
       "1  (22.96, 113.64)        1.0  Property Industry 1.0    21        5    18   \n",
       "2  (41.82, 123.47)        1.0         And the Church    15        1    18   \n",
       "3       (0.0, 0.0)        0.0             Services 1    19        1    18   \n",
       "4  (31.19, 121.52)        0.0                Finance    12        4    18   \n",
       "\n",
       "   device_type  \n",
       "0        酷派 F2  \n",
       "1      小米 MI 4  \n",
       "2  魅族 魅蓝Note 2  \n",
       "3    小米 MI pad  \n",
       "4  华为 荣耀6 Plus  "
      ]
     },
     "execution_count": 4,
     "metadata": {},
     "output_type": "execute_result"
    }
   ],
   "source": [
    "#get the data\n",
    "train = pd.read_csv('./data/prod_features.csv')\n",
    "#Quick look at the head.\n",
    "train.head()"
   ]
  },
  {
   "cell_type": "code",
   "execution_count": 5,
   "metadata": {},
   "outputs": [
    {
     "data": {
      "text/plain": [
       "(7049053, 7)"
      ]
     },
     "execution_count": 5,
     "metadata": {},
     "output_type": "execute_result"
    }
   ],
   "source": [
    "#The size and shape of this dataset before categorical changing.\n",
    "train.shape"
   ]
  },
  {
   "cell_type": "code",
   "execution_count": 6,
   "metadata": {},
   "outputs": [
    {
     "data": {
      "text/plain": [
       "coordinates    0.0\n",
       "is_active      0.0\n",
       "category       0.0\n",
       "hour           0.0\n",
       "weekday        0.0\n",
       "week           0.0\n",
       "device_type    0.0\n",
       "dtype: float64"
      ]
     },
     "execution_count": 6,
     "metadata": {},
     "output_type": "execute_result"
    }
   ],
   "source": [
    "null_summary(train)"
   ]
  },
  {
   "cell_type": "code",
   "execution_count": 8,
   "metadata": {},
   "outputs": [
    {
     "data": {
      "text/plain": [
       "gender\n",
       "M         5009793\n",
       "F         2039260\n",
       "dtype: int64"
      ]
     },
     "execution_count": 8,
     "metadata": {},
     "output_type": "execute_result"
    }
   ],
   "source": [
    "y = pd.read_csv('./data/prod_target.csv')\n",
    "y.value_counts()"
   ]
  },
  {
   "cell_type": "code",
   "execution_count": 10,
   "metadata": {},
   "outputs": [
    {
     "data": {
      "text/plain": [
       "(7049053, 1)"
      ]
     },
     "execution_count": 10,
     "metadata": {},
     "output_type": "execute_result"
    }
   ],
   "source": [
    "y.shape"
   ]
  },
  {
   "cell_type": "code",
   "execution_count": 225,
   "metadata": {},
   "outputs": [
    {
     "data": {
      "text/plain": [
       "(4934337, 7)"
      ]
     },
     "execution_count": 225,
     "metadata": {},
     "output_type": "execute_result"
    }
   ],
   "source": [
    "X_train, X_test, y_train, y_test = train_test_split(train, y, test_size=0.3, random_state=42, stratify=y)\n",
    "X_train.shape"
   ]
  },
  {
   "cell_type": "code",
   "execution_count": 226,
   "metadata": {},
   "outputs": [
    {
     "data": {
      "text/plain": [
       "Index(['coordinates', 'is_active', 'category', 'hour', 'weekday', 'week',\n",
       "       'device_type'],\n",
       "      dtype='object')"
      ]
     },
     "execution_count": 226,
     "metadata": {},
     "output_type": "execute_result"
    }
   ],
   "source": [
    "X_train.columns"
   ]
  },
  {
   "cell_type": "markdown",
   "metadata": {},
   "source": [
    "# GridSearch Parameters"
   ]
  },
  {
   "cell_type": "code",
   "execution_count": 32,
   "metadata": {},
   "outputs": [],
   "source": [
    "#Modeling parameters. \n",
    "#Some constant variables for parameter settings. \n",
    "#cross validation, constant parameter\n",
    "cv = 5\n",
    "\n",
    "#Decompositions models\n",
    "skb = SelectKBest(k=100, score_func=chi2)\n",
    "svd =TruncatedSVD(n_components=50)\n",
    "enc = OneHotEncoder(handle_unknown='ignore')\n",
    "\n",
    "#decision tree\n",
    "dtPara = {\n",
    "           'dt__max_features': range(2, 20), \n",
    "           'dt__max_depth': [150, 200, 250], \n",
    "           'dt__min_samples_split': range(2, 5),\n",
    "           'dt__max_leaf_nodes': [None, 15, 20] \n",
    "              \n",
    "          }"
   ]
  },
  {
   "cell_type": "markdown",
   "metadata": {},
   "source": [
    "# Model Enhancement\n",
    "\n",
    "I have found that I have been getting the best performance out of decision trees. I would like to see if I can enhance the performance using Gridsearhc, OneHotEncoding, and SelectKBest for dimensionality reduction. "
   ]
  },
  {
   "cell_type": "markdown",
   "metadata": {},
   "source": [
    "# Decision Tree"
   ]
  },
  {
   "cell_type": "code",
   "execution_count": null,
   "metadata": {},
   "outputs": [],
   "source": [
    "pipeline = Pipeline([('enc', enc), \n",
    "                     ('skb', skb),\n",
    "                     ('dt', DecisionTreeClassifier(criterion='entropy'))])\n",
    "dt_skb = GridSearchCV(pipeline, dtPara, cv=cv, verbose=3, scoring='balanced_accuracy')\n",
    "dt_skb.fit(X_train, y_train)"
   ]
  },
  {
   "cell_type": "code",
   "execution_count": 34,
   "metadata": {},
   "outputs": [
    {
     "data": {
      "text/plain": [
       "0.6563331018350136"
      ]
     },
     "execution_count": 34,
     "metadata": {},
     "output_type": "execute_result"
    }
   ],
   "source": [
    "roc_auc_score(y_train, dt_skb.predict_proba(X_train)[:, 1])"
   ]
  },
  {
   "cell_type": "code",
   "execution_count": 35,
   "metadata": {},
   "outputs": [
    {
     "name": "stdout",
     "output_type": "stream",
     "text": [
      "best score: 0.5740158554858386 \n",
      " estimator: Pipeline(steps=[('enc', OneHotEncoder(handle_unknown='ignore')),\n",
      "                ('skb',\n",
      "                 SelectKBest(k=100,\n",
      "                             score_func=<function chi2 at 0x000001DBC6D620D8>)),\n",
      "                ('dt',\n",
      "                 DecisionTreeClassifier(criterion='entropy', max_depth=150,\n",
      "                                        max_features=2, min_samples_split=4))])\n"
     ]
    }
   ],
   "source": [
    "print(f\"best score: {dt_skb.best_score_} \\n estimator: {dt_skb.best_estimator_}\")"
   ]
  },
  {
   "cell_type": "code",
   "execution_count": 37,
   "metadata": {},
   "outputs": [
    {
     "name": "stdout",
     "output_type": "stream",
     "text": [
      "              precision    recall  f1-score   support\n",
      "\n",
      "           F       0.85      0.16      0.27    611778\n",
      "           M       0.74      0.99      0.85   1502938\n",
      "\n",
      "    accuracy                           0.75   2114716\n",
      "   macro avg       0.80      0.57      0.56   2114716\n",
      "weighted avg       0.78      0.75      0.68   2114716\n",
      "\n"
     ]
    }
   ],
   "source": [
    "class_rep(dt_skb)"
   ]
  },
  {
   "cell_type": "code",
   "execution_count": null,
   "metadata": {},
   "outputs": [],
   "source": [
    "pipeline = Pipeline([('enc', enc), \n",
    "                     ('skb', skb),\n",
    "                     ('dt', DecisionTreeClassifier(criterion='entropy',max_features=2, min_samples_split=4))])\n",
    "\n",
    "para = {\n",
    "    'dt__max_depth': range(50, 200, 25) \n",
    "}\n",
    "dt_skb = GridSearchCV(pipeline, para, cv=cv, verbose=3, scoring='balanced_accuracy')\n",
    "dt_skb.fit(X_train, y_train)"
   ]
  },
  {
   "cell_type": "code",
   "execution_count": 41,
   "metadata": {},
   "outputs": [
    {
     "name": "stdout",
     "output_type": "stream",
     "text": [
      "Roc_AUC Score:  0.6563331018350136\n",
      "best score: 0.5743622476130843 \n",
      " estimator: Pipeline(steps=[('enc', OneHotEncoder(handle_unknown='ignore')),\n",
      "                ('skb',\n",
      "                 SelectKBest(k=100,\n",
      "                             score_func=<function chi2 at 0x000001DBC6D620D8>)),\n",
      "                ('dt',\n",
      "                 DecisionTreeClassifier(criterion='entropy', max_depth=100,\n",
      "                                        max_features=2, min_samples_split=4))])\n"
     ]
    }
   ],
   "source": [
    "print_scores(dt_skb)"
   ]
  },
  {
   "cell_type": "code",
   "execution_count": 42,
   "metadata": {},
   "outputs": [
    {
     "name": "stdout",
     "output_type": "stream",
     "text": [
      "              precision    recall  f1-score   support\n",
      "\n",
      "           F       0.85      0.16      0.27    611778\n",
      "           M       0.74      0.99      0.85   1502938\n",
      "\n",
      "    accuracy                           0.75   2114716\n",
      "   macro avg       0.80      0.57      0.56   2114716\n",
      "weighted avg       0.78      0.75      0.68   2114716\n",
      "\n"
     ]
    }
   ],
   "source": [
    "class_rep(dt_skb)"
   ]
  },
  {
   "cell_type": "code",
   "execution_count": 80,
   "metadata": {},
   "outputs": [
    {
     "data": {
      "text/plain": [
       "'gender.pdf'"
      ]
     },
     "execution_count": 80,
     "metadata": {},
     "output_type": "execute_result"
    }
   ],
   "source": [
    "#Expor the decision tree to pdf, to take a look at it. \n",
    "dot_data = tree.export_graphviz(dt_skb.best_estimator_['dt'], out_file=None) \n",
    "graph = graphviz.Source(dot_data) \n",
    "graph.render(\"gender\") "
   ]
  },
  {
   "cell_type": "code",
   "execution_count": 119,
   "metadata": {},
   "outputs": [],
   "source": [
    "pipeline = Pipeline([('enc', enc), \n",
    "                     ('skb', skb),\n",
    "                     ('dt', DecisionTreeClassifier(criterion='gini',max_features=2, min_samples_split=12,\n",
    "                                                   max_depth=100))])\n",
    "\n",
    "dt = pipeline.fit(X_train, y_train)"
   ]
  },
  {
   "cell_type": "code",
   "execution_count": 122,
   "metadata": {},
   "outputs": [
    {
     "data": {
      "text/plain": [
       "0.6563331018350136"
      ]
     },
     "execution_count": 122,
     "metadata": {},
     "output_type": "execute_result"
    }
   ],
   "source": [
    "roc_auc_score(y_train, dt.predict_proba(X_train)[:, 1])"
   ]
  },
  {
   "cell_type": "code",
   "execution_count": 123,
   "metadata": {},
   "outputs": [
    {
     "name": "stdout",
     "output_type": "stream",
     "text": [
      "              precision    recall  f1-score   support\n",
      "\n",
      "           F       0.85      0.16      0.27    611778\n",
      "           M       0.74      0.99      0.85   1502938\n",
      "\n",
      "    accuracy                           0.75   2114716\n",
      "   macro avg       0.80      0.57      0.56   2114716\n",
      "weighted avg       0.78      0.75      0.68   2114716\n",
      "\n"
     ]
    }
   ],
   "source": [
    "class_rep(dt)"
   ]
  },
  {
   "cell_type": "code",
   "execution_count": 124,
   "metadata": {},
   "outputs": [
    {
     "data": {
      "image/png": "[encoded data removed]",
      "text/plain": [
       "<Figure size 1008x792 with 2 Axes>"
      ]
     },
     "metadata": {},
     "output_type": "display_data"
    }
   ],
   "source": [
    "plot_cm(confusion_matrix(y_test, dt.predict(X_test)),['Female','Male'],False, 'tableau-colorblind10')"
   ]
  },
  {
   "cell_type": "markdown",
   "metadata": {},
   "source": [
    "# Imbalanced Classification Searching\n",
    "\n",
    "Increaseing search time - multiple runs were done using gridsearch. Looking for accuracy greater than 60%. Gridsearch was cut out early in some situations. If there are no gridsearch parameters displayed; it was determined that the first few iterations of the search returned the same results as default parameters. "
   ]
  },
  {
   "cell_type": "code",
   "execution_count": 147,
   "metadata": {},
   "outputs": [],
   "source": [
    "clf = DecisionTreeClassifier(max_features=2, min_samples_split=12,\n",
    "                                                   max_depth=100)"
   ]
  },
  {
   "cell_type": "code",
   "execution_count": 146,
   "metadata": {},
   "outputs": [],
   "source": [
    "#Balanced Bagging Classifier\n",
    "from imblearn.ensemble import BalancedBaggingClassifier\n",
    "\n",
    "pipeline = Pipeline([('enc', enc), \n",
    "                     ('skb', skb),\n",
    "                     ('imb', BalancedBaggingClassifier(base_estimator = clf, n_estimators=50))])\n",
    "\n",
    "imb = pipeline.fit(X_train, y_train.values.ravel())"
   ]
  },
  {
   "cell_type": "code",
   "execution_count": 169,
   "metadata": {},
   "outputs": [
    {
     "data": {
      "text/plain": [
       "0.6563317767268259"
      ]
     },
     "execution_count": 169,
     "metadata": {},
     "output_type": "execute_result"
    }
   ],
   "source": [
    "roc_auc_score(y_train, imb.predict_proba(X_train)[:, 1])"
   ]
  },
  {
   "cell_type": "code",
   "execution_count": 149,
   "metadata": {},
   "outputs": [
    {
     "name": "stdout",
     "output_type": "stream",
     "text": [
      "              precision    recall  f1-score   support\n",
      "\n",
      "           F       0.41      0.53      0.46    611778\n",
      "           M       0.78      0.69      0.73   1502938\n",
      "\n",
      "    accuracy                           0.64   2114716\n",
      "   macro avg       0.60      0.61      0.60   2114716\n",
      "weighted avg       0.68      0.64      0.65   2114716\n",
      "\n"
     ]
    }
   ],
   "source": [
    "class_rep(imb)"
   ]
  },
  {
   "cell_type": "code",
   "execution_count": 173,
   "metadata": {},
   "outputs": [],
   "source": [
    "#RUSBoost Bagging Classifier.\n",
    "from imblearn.ensemble import RUSBoostClassifier\n",
    "\n",
    "pipeline = Pipeline([('enc', enc), \n",
    "                     ('skb', skb),\n",
    "                     ('rus', RUSBoostClassifier(base_estimator = clf, n_estimators=50, algorithm='SAMME', learning_rate=0.1, replacement=False))])\n",
    "\n",
    "\n",
    "rus = pipeline.fit(X_train, y_train.values.ravel())"
   ]
  },
  {
   "cell_type": "code",
   "execution_count": 175,
   "metadata": {},
   "outputs": [
    {
     "data": {
      "text/plain": [
       "0.6328559186901033"
      ]
     },
     "execution_count": 175,
     "metadata": {},
     "output_type": "execute_result"
    }
   ],
   "source": [
    "roc_auc_score(y_train, rus.predict_proba(X_train)[:, 1])"
   ]
  },
  {
   "cell_type": "code",
   "execution_count": 227,
   "metadata": {},
   "outputs": [],
   "source": [
    "#EasyEnsemble\n",
    "from imblearn.ensemble import EasyEnsembleClassifier\n",
    "\n",
    "pipeline = Pipeline([('enc', enc), \n",
    "                     ('skb', skb),\n",
    "                     ('easy', EasyEnsembleClassifier(base_estimator = clf, n_estimators=50, warm_start=True))])\n",
    "\n",
    "\n",
    "easy = pipeline.fit(X_train, y_train.values.ravel())"
   ]
  },
  {
   "cell_type": "code",
   "execution_count": 228,
   "metadata": {},
   "outputs": [
    {
     "data": {
      "text/plain": [
       "0.6563326299834296"
      ]
     },
     "execution_count": 228,
     "metadata": {},
     "output_type": "execute_result"
    }
   ],
   "source": [
    "roc_auc_score(y_train, easy.predict_proba(X_train)[:, 1])"
   ]
  },
  {
   "cell_type": "code",
   "execution_count": 233,
   "metadata": {},
   "outputs": [
    {
     "name": "stdout",
     "output_type": "stream",
     "text": [
      "              precision    recall  f1-score   support\n",
      "\n",
      "           F       0.41      0.53      0.46    611778\n",
      "           M       0.78      0.69      0.73   1502938\n",
      "\n",
      "    accuracy                           0.64   2114716\n",
      "   macro avg       0.60      0.61      0.60   2114716\n",
      "weighted avg       0.68      0.64      0.65   2114716\n",
      "\n"
     ]
    }
   ],
   "source": [
    "y_pred = easy.predict(X_test)\n",
    "print(classification_report(y_test, y_pred))"
   ]
  },
  {
   "cell_type": "code",
   "execution_count": 234,
   "metadata": {},
   "outputs": [
    {
     "data": {
      "image/png": "[encoded data removed]",
      "text/plain": [
       "<Figure size 1008x792 with 2 Axes>"
      ]
     },
     "metadata": {},
     "output_type": "display_data"
    }
   ],
   "source": [
    "plot_cm(confusion_matrix(y_test, easy.predict(X_test)),['Female','Male'],False, 'tableau-colorblind10')"
   ]
  },
  {
   "cell_type": "markdown",
   "metadata": {},
   "source": [
    "# Feature Selection Investigation\n",
    "After doing a bit more research, I decided to take a second look at the feature selection for the balanced classes."
   ]
  },
  {
   "cell_type": "code",
   "execution_count": 243,
   "metadata": {},
   "outputs": [
    {
     "name": "stdout",
     "output_type": "stream",
     "text": [
      "Fitting 5 folds for each of 8 candidates, totalling 40 fits\n"
     ]
    },
    {
     "name": "stderr",
     "output_type": "stream",
     "text": [
      "[Parallel(n_jobs=1)]: Using backend SequentialBackend with 1 concurrent workers.\n",
      "[Parallel(n_jobs=1)]: Done  40 out of  40 | elapsed: 28.7min finished\n"
     ]
    },
    {
     "data": {
      "text/plain": [
       "GridSearchCV(cv=5,\n",
       "             estimator=Pipeline(steps=[('enc',\n",
       "                                        OneHotEncoder(handle_unknown='ignore')),\n",
       "                                       ('sk', SelectKBest()),\n",
       "                                       ('easy',\n",
       "                                        EasyEnsembleClassifier(base_estimator=DummyClassifier(strategy='most_frequent')))]),\n",
       "             param_grid={'sk__k': [100, 90, 95, 110],\n",
       "                         'sk__score_func': [<function chi2 at 0x000001DBC6D620D8>,\n",
       "                                            <function f_classif at 0x000001DBC6D62558>]},\n",
       "             scoring='balanced_accuracy', verbose=1)"
      ]
     },
     "execution_count": 243,
     "metadata": {},
     "output_type": "execute_result"
    }
   ],
   "source": [
    "from sklearn.dummy import DummyClassifier \n",
    "\n",
    "dc = DummyClassifier(strategy='most_frequent')\n",
    "\n",
    "\n",
    "pipeline = Pipeline([('enc', OneHotEncoder(handle_unknown='ignore')), \n",
    "                     ('sk', SelectKBest()),\n",
    "                     ('easy', EasyEnsembleClassifier(base_estimator = dc))])\n",
    "params = { 'sk__score_func' :  [chi2, f_classif],\n",
    "           'sk__k' : [100, 90, 95, 110]\n",
    "          }\n",
    "#run with verbosity then clear output for readability. \n",
    "search = GridSearchCV(pipeline, params, cv=5, verbose=1, scoring='balanced_accuracy')\n",
    "search.fit(X_train, y_train.values.ravel())\n"
   ]
  },
  {
   "cell_type": "code",
   "execution_count": 244,
   "metadata": {},
   "outputs": [
    {
     "name": "stdout",
     "output_type": "stream",
     "text": [
      "Roc_AUC Score:  0.5\n",
      "best score: 0.5 \n",
      " estimator: Pipeline(steps=[('enc', OneHotEncoder(handle_unknown='ignore')),\n",
      "                ('sk',\n",
      "                 SelectKBest(k=100,\n",
      "                             score_func=<function chi2 at 0x000001DBC6D620D8>)),\n",
      "                ('easy',\n",
      "                 EasyEnsembleClassifier(base_estimator=DummyClassifier(strategy='most_frequent')))])\n"
     ]
    }
   ],
   "source": [
    "print_scores(search)"
   ]
  },
  {
   "cell_type": "code",
   "execution_count": 245,
   "metadata": {},
   "outputs": [
    {
     "name": "stderr",
     "output_type": "stream",
     "text": [
      "C:\\Users\\kalik\\anaconda3\\lib\\site-packages\\sklearn\\metrics\\_classification.py:1221: UndefinedMetricWarning: Precision and F-score are ill-defined and being set to 0.0 in labels with no predicted samples. Use `zero_division` parameter to control this behavior.\n",
      "  _warn_prf(average, modifier, msg_start, len(result))\n"
     ]
    },
    {
     "name": "stdout",
     "output_type": "stream",
     "text": [
      "              precision    recall  f1-score   support\n",
      "\n",
      "           F       0.29      1.00      0.45    611778\n",
      "           M       0.00      0.00      0.00   1502938\n",
      "\n",
      "    accuracy                           0.29   2114716\n",
      "   macro avg       0.14      0.50      0.22   2114716\n",
      "weighted avg       0.08      0.29      0.13   2114716\n",
      "\n"
     ]
    }
   ],
   "source": [
    "class_rep(search)"
   ]
  },
  {
   "cell_type": "code",
   "execution_count": null,
   "metadata": {},
   "outputs": [],
   "source": []
  }
 ],
 "metadata": {
  "kernelspec": {
   "display_name": "Python 3",
   "language": "python",
   "name": "python3"
  },
  "language_info": {
   "codemirror_mode": {
    "name": "ipython",
    "version": 3
   },
   "file_extension": ".py",
   "mimetype": "text/x-python",
   "name": "python",
   "nbconvert_exporter": "python",
   "pygments_lexer": "ipython3",
   "version": "3.7.9"
  }
 },
 "nbformat": 4,
 "nbformat_minor": 4
}
